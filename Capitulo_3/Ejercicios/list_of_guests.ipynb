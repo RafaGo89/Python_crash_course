{
 "cells": [
  {
   "cell_type": "markdown",
   "id": "0b63dc97",
   "metadata": {},
   "source": [
    "Si pudiese invitar a cualquiera, vivo o muerto, a\n",
    "cenar, ¿a quién invitaría? Haga una lista de al menos tres personas a las que\n",
    "le gustaría invitar a una cena y úsela para imprimir un mensaje para cada\n",
    "persona invitándole a cenar."
   ]
  },
  {
   "cell_type": "code",
   "execution_count": null,
   "id": "0409da34",
   "metadata": {},
   "outputs": [
    {
     "name": "stdout",
     "output_type": "stream",
     "text": [
      "Hola Michael Jackson, haré una cena, ¿quieres venir?\n",
      "Hola John Cena, haré una cena, ¿quieres venir?\n",
      "Hola Leonel Messi, haré una cena, ¿quieres venir?\n"
     ]
    }
   ],
   "source": [
    "# Creamos una lista de invitados\n",
    "guests = ['Michael Jackson', 'John Cena', 'Leonel Messi']\n",
    "\n",
    "print(f'Hola {guests[0]}, haré una cena, ¿quieres venir?')\n",
    "print(f'Hola {guests[1]}, haré una cena, ¿quieres venir?')\n",
    "print(f'Hola {guests[2]}, haré una cena, ¿quieres venir?')"
   ]
  }
 ],
 "metadata": {
  "kernelspec": {
   "display_name": "Python 3",
   "language": "python",
   "name": "python3"
  },
  "language_info": {
   "codemirror_mode": {
    "name": "ipython",
    "version": 3
   },
   "file_extension": ".py",
   "mimetype": "text/x-python",
   "name": "python",
   "nbconvert_exporter": "python",
   "pygments_lexer": "ipython3",
   "version": "3.13.2"
  }
 },
 "nbformat": 4,
 "nbformat_minor": 5
}
