{
 "cells": [
  {
   "cell_type": "markdown",
   "id": "3f003280",
   "metadata": {},
   "source": [
    "Piense en su medio de transporte favorito, como la\n",
    "moto o el coche, y haga una lista que incluya varios ejemplos. Use la lista\n",
    "para imprimir una serie de frases sobre esos elementos, como \"Me gustaría\n",
    "tener una moto Honda\"."
   ]
  },
  {
   "cell_type": "code",
   "execution_count": null,
   "id": "b6289b51",
   "metadata": {},
   "outputs": [
    {
     "name": "stdout",
     "output_type": "stream",
     "text": [
      "Me gustaría tener un barco Beneteau\n",
      "Me gustaría tener un barco Fratelli Aprea\n",
      "Me gustaría tener un barco Marinello\n"
     ]
    }
   ],
   "source": [
    "# Creamos una lista de medios de tranporte por barco\n",
    "means_of_transportation = ['Beneteau', 'Fratelli Aprea', 'Marinello']\n",
    "\n",
    "print(f'Me gustaría tener un barco {means_of_transportation[0]}')\n",
    "print(f'Me gustaría tener un barco {means_of_transportation[1]}')\n",
    "print(f'Me gustaría tener un barco {means_of_transportation[2]}')"
   ]
  }
 ],
 "metadata": {
  "kernelspec": {
   "display_name": "Python 3",
   "language": "python",
   "name": "python3"
  },
  "language_info": {
   "codemirror_mode": {
    "name": "ipython",
    "version": 3
   },
   "file_extension": ".py",
   "mimetype": "text/x-python",
   "name": "python",
   "nbconvert_exporter": "python",
   "pygments_lexer": "ipython3",
   "version": "3.13.2"
  }
 },
 "nbformat": 4,
 "nbformat_minor": 5
}
