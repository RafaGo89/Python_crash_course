{
 "cells": [
  {
   "cell_type": "markdown",
   "id": "fdd5274e",
   "metadata": {},
   "source": [
    "Acaba de enterarse de que uno de\n",
    "sus invitados no podrá asistir, así que tiene que enviar un nuevo juego de\n",
    "invitaciones. Tendrá que pensar en otra persona para invitar.\n",
    "\n",
    "• Empiece con el programa del ejercicio 3-4. Añada una llamada a\n",
    "print() al final del programa indicando el nombre del invitado que no\n",
    "puede asistir.\n",
    "\n",
    "• Modifique la lista sustituyendo el nombre del invitado que no puede venir\n",
    "por el de otra persona a la que va a invitar en su lugar.\n",
    "\n",
    "• Imprima un segundo grupo de mensajes de invitación, uno para cada\n",
    "persona que haya en la lista ahora."
   ]
  },
  {
   "cell_type": "code",
   "execution_count": null,
   "id": "a3e60d9b",
   "metadata": {},
   "outputs": [
    {
     "name": "stdout",
     "output_type": "stream",
     "text": [
      "Hola Michael Jackson, haré una cena, ¿quieres venir?\n",
      "Hola John Cena, haré una cena, ¿quieres venir?\n",
      "Hola Leonel Messi, haré una cena, ¿quieres venir?\n",
      "\n",
      "Michael Jackson no podrá asistir a la cena\n",
      "\n",
      "Hola Cristiano Ronaldo, haré una cena, ¿quieres venir?\n",
      "Hola John Cena, haré una cena, ¿quieres venir?\n",
      "Hola Leonel Messi, haré una cena, ¿quieres venir?\n"
     ]
    }
   ],
   "source": [
    "# Creamos una lista de invitados\n",
    "guests = ['Michael Jackson', 'John Cena', 'Leonel Messi']\n",
    "\n",
    "print(f'Hola {guests[0]}, haré una cena, ¿quieres venir?')\n",
    "print(f'Hola {guests[1]}, haré una cena, ¿quieres venir?')\n",
    "print(f'Hola {guests[2]}, haré una cena, ¿quieres venir?')\n",
    "\n",
    "print(f'\\n{guests[0]} no podrá asistir a la cena.')\n",
    "\n",
    "# Cambiamos el primer elemento de la lista\n",
    "guests[0] = 'Cristiano Ronaldo'\n",
    "\n",
    "print(f'\\nHola {guests[0]}, haré una cena, ¿quieres venir?')\n",
    "print(f'Hola {guests[1]}, haré una cena, ¿quieres venir?')\n",
    "print(f'Hola {guests[2]}, haré una cena, ¿quieres venir?')"
   ]
  }
 ],
 "metadata": {
  "kernelspec": {
   "display_name": "Python 3",
   "language": "python",
   "name": "python3"
  },
  "language_info": {
   "codemirror_mode": {
    "name": "ipython",
    "version": 3
   },
   "file_extension": ".py",
   "mimetype": "text/x-python",
   "name": "python",
   "nbconvert_exporter": "python",
   "pygments_lexer": "ipython3",
   "version": "3.13.2"
  }
 },
 "nbformat": 4,
 "nbformat_minor": 5
}
