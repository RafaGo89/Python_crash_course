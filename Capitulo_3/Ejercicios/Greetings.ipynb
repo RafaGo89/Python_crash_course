{
 "cells": [
  {
   "cell_type": "markdown",
   "id": "11a87d26",
   "metadata": {},
   "source": [
    "Empiece con la lista del ejercicio 3-1, pero, en vez de solo\n",
    "imprimir el nombre de cada persona, imprímales un mensaje. El texto debería\n",
    "ser el mismo, pero cada mensaje debería personalizarse e incluir el nombre\n",
    "de la persona."
   ]
  },
  {
   "cell_type": "code",
   "execution_count": null,
   "id": "0ed7b442",
   "metadata": {},
   "outputs": [
    {
     "name": "stdout",
     "output_type": "stream",
     "text": [
      "Hola, ¿cómo estás, Thiare?\n",
      "Hola, ¿cómo estás, Natalia?\n",
      "Hola, ¿cómo estás, Iván?\n",
      "Hola, ¿cómo estás, Valeria?\n"
     ]
    }
   ],
   "source": [
    "# Creamos una lista de amigos\n",
    "friends = ['Thiare', 'Natalia', 'Iván', 'Valeria']\n",
    "\n",
    "print(f'Hola, ¿cómo estás, {friends[0]}?')\n",
    "print(f'Hola, ¿cómo estás, {friends[1]}?')\n",
    "print(f'Hola, ¿cómo estás, {friends[2]}?')\n",
    "print(f'Hola, ¿cómo estás, {friends[3]}?')"
   ]
  }
 ],
 "metadata": {
  "kernelspec": {
   "display_name": "Python 3",
   "language": "python",
   "name": "python3"
  },
  "language_info": {
   "codemirror_mode": {
    "name": "ipython",
    "version": 3
   },
   "file_extension": ".py",
   "mimetype": "text/x-python",
   "name": "python",
   "nbconvert_exporter": "python",
   "pygments_lexer": "ipython3",
   "version": "3.13.2"
  }
 },
 "nbformat": 4,
 "nbformat_minor": 5
}
