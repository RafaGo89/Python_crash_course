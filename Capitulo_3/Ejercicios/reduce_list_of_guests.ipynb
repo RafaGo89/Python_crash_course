{
 "cells": [
  {
   "cell_type": "markdown",
   "id": "95ef9eb7",
   "metadata": {},
   "source": [
    "Acaba de descubrir que la mesa no\n",
    "llegará a tiempo para la cena y solo tiene espacio para dos invitados.\n",
    "* Empiece con el programa de 3-6. Añada una línea que imprima un\n",
    "mensaje diciendo que solo puede invitar a dos personas a cenar.\n",
    "* Use pop() para eliminar invitados de la lista de uno en uno hasta que\n",
    "solo queden dos. Cada vez que retire un nombre de la lista, imprima un\n",
    "mensaje para esa persona diciendo que lo siente, pero que no puede\n",
    "invitarle a cenar.\n",
    "* Imprima un mensaje para cada una de las dos personas que quedan en\n",
    "la lista informándoles de que siguen invitados.\n",
    "* Use del para borrar los dos últimos nombres de la lista y que se quede\n",
    "vacía. Imprima la lista para asegurarse de que realmente tiene una lista\n",
    "vacía al final del programa."
   ]
  },
  {
   "cell_type": "code",
   "execution_count": null,
   "id": "39a70d1f",
   "metadata": {},
   "outputs": [
    {
     "name": "stdout",
     "output_type": "stream",
     "text": [
      "Hola Michael Jackson, haré una cena, ¿quieres venir?\n",
      "Hola John Cena, haré una cena, ¿quieres venir?\n",
      "Hola Leonel Messi, haré una cena, ¿quieres venir?\n",
      "\n",
      "He encontrado una mesa más grande, podré invitar a más personas\n",
      "\n",
      "Hola Cristiano Ronaldo, haré una cena, ¿quieres venir?\n",
      "Hola Michael Jackson, haré una cena, ¿quieres venir?\n",
      "Hola Natalia Otero, haré una cena, ¿quieres venir?\n",
      "Hola John Cena, haré una cena, ¿quieres venir?\n",
      "Hola Leonel Messi, haré una cena, ¿quieres venir?\n",
      "Hola Randy Orton, haré una cena, ¿quieres venir?\n",
      "\n",
      "Al final solo podré invitar a 2 personas, lo siento :(\n",
      "\n",
      "Lo siento Cristiano Ronaldo, no puedo invitarte a la cena :/\n",
      "Lo siento Randy Orton, no puedo invitarte a la cena :/\n",
      "Lo siento Michael Jackson, no puedo invitarte a la cena :/\n",
      "Lo siento John Cena, no puedo invitarte a la cena :/\n",
      "\n",
      "Hola, Natalia Otero, sigues invitado a la cena\n",
      "Hola, Leonel Messi, sigues invitado a la cena\n",
      "[]\n"
     ]
    }
   ],
   "source": [
    "# Creamos una lista de invitados\n",
    "guests = ['Michael Jackson', 'John Cena', 'Leonel Messi']\n",
    "\n",
    "print(f'Hola {guests[0]}, haré una cena, ¿quieres venir?')\n",
    "print(f'Hola {guests[1]}, haré una cena, ¿quieres venir?')\n",
    "print(f'Hola {guests[2]}, haré una cena, ¿quieres venir?')\n",
    "\n",
    "print(f'\\nHe encontrado una mesa más grande, podré invitar a más personas')\n",
    "\n",
    "# Añadimos más invitados\n",
    "guests.insert(0, 'Cristiano Ronaldo')\n",
    "guests.insert(2, 'Natalia Otero')\n",
    "guests.append('Randy Orton')\n",
    "\n",
    "print(f'\\nHola {guests[0]}, haré una cena, ¿quieres venir?')\n",
    "print(f'Hola {guests[1]}, haré una cena, ¿quieres venir?')\n",
    "print(f'Hola {guests[2]}, haré una cena, ¿quieres venir?')\n",
    "print(f'Hola {guests[3]}, haré una cena, ¿quieres venir?')\n",
    "print(f'Hola {guests[4]}, haré una cena, ¿quieres venir?')\n",
    "print(f'Hola {guests[5]}, haré una cena, ¿quieres venir?')\n",
    "\n",
    "print(f'\\nAl final solo podré invitar a 2 personas, lo siento :(')\n",
    "\n",
    "# Comenzamos a eliminar invitados\n",
    "deleted = guests.pop(0)\n",
    "print(f'\\nLo siento {deleted}, no puedo invitarte a la cena :/')\n",
    "\n",
    "deleted = guests.pop(-1)\n",
    "print(f'Lo siento {deleted}, no puedo invitarte a la cena :/')\n",
    "\n",
    "deleted = guests.pop(0)\n",
    "print(f'Lo siento {deleted}, no puedo invitarte a la cena :/')\n",
    "\n",
    "deleted = guests.pop(1)\n",
    "print(f'Lo siento {deleted}, no puedo invitarte a la cena :/')\n",
    "\n",
    "print(f'\\nHola, {guests[0]}, sigues invitado a la cena')\n",
    "print(f'Hola, {guests[1]}, sigues invitado a la cena')\n",
    "\n",
    "# Eliminamos a los invitados faltantes\n",
    "del guests[0]\n",
    "del guests[0]\n",
    "\n",
    "print(guests)"
   ]
  }
 ],
 "metadata": {
  "kernelspec": {
   "display_name": "Python 3",
   "language": "python",
   "name": "python3"
  },
  "language_info": {
   "codemirror_mode": {
    "name": "ipython",
    "version": 3
   },
   "file_extension": ".py",
   "mimetype": "text/x-python",
   "name": "python",
   "nbconvert_exporter": "python",
   "pygments_lexer": "ipython3",
   "version": "3.13.2"
  }
 },
 "nbformat": 4,
 "nbformat_minor": 5
}
