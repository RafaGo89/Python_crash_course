{
 "cells": [
  {
   "cell_type": "markdown",
   "id": "f3ef1c19",
   "metadata": {},
   "source": [
    "Guarde los nombres de unos cuantos amigos en una lista\n",
    "llamada nombres. Imprima el nombre de cada persona accediendo al\n",
    "elemento correspondiente de la lista, de uno en uno."
   ]
  },
  {
   "cell_type": "code",
   "execution_count": null,
   "id": "80a4104c",
   "metadata": {},
   "outputs": [
    {
     "name": "stdout",
     "output_type": "stream",
     "text": [
      "Thaire\n",
      "Natalia\n",
      "Iván\n",
      "Valeria\n"
     ]
    }
   ],
   "source": [
    "# Creamos una lista de amigos\n",
    "friends = ['Thiare', 'Natalia', 'Iván', 'Valeria']\n",
    "\n",
    "print(friends[0])\n",
    "print(friends[1])\n",
    "print(friends[2])\n",
    "print(friends[3])"
   ]
  }
 ],
 "metadata": {
  "kernelspec": {
   "display_name": "Python 3",
   "language": "python",
   "name": "python3"
  },
  "language_info": {
   "codemirror_mode": {
    "name": "ipython",
    "version": 3
   },
   "file_extension": ".py",
   "mimetype": "text/x-python",
   "name": "python",
   "nbconvert_exporter": "python",
   "pygments_lexer": "ipython3",
   "version": "3.13.2"
  }
 },
 "nbformat": 4,
 "nbformat_minor": 5
}
