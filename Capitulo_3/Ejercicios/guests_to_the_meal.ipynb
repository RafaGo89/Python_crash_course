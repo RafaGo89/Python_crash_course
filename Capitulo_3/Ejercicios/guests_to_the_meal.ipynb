{
 "cells": [
  {
   "cell_type": "markdown",
   "id": "19b9c483",
   "metadata": {},
   "source": [
    "Trabajando con uno de los programas de los\n",
    "ejercicios 3-4 a 3-7, utilice len() para imprimir un mensaje indicando el\n",
    "número de personas que va a invitar a cenar."
   ]
  },
  {
   "cell_type": "code",
   "execution_count": 2,
   "id": "a4143f68",
   "metadata": {},
   "outputs": [
    {
     "name": "stdout",
     "output_type": "stream",
     "text": [
      "I'm gonna invite 3 people to my meal\n"
     ]
    }
   ],
   "source": [
    "# Creamos una lista de invitados\n",
    "guests = ['Michael Jackson', 'John Cena', 'Leonel Messi']\n",
    "\n",
    "print(f\"I'm gonna invite {len(guests)} people to my meal\")"
   ]
  }
 ],
 "metadata": {
  "kernelspec": {
   "display_name": "Python 3",
   "language": "python",
   "name": "python3"
  },
  "language_info": {
   "codemirror_mode": {
    "name": "ipython",
    "version": 3
   },
   "file_extension": ".py",
   "mimetype": "text/x-python",
   "name": "python",
   "nbconvert_exporter": "python",
   "pygments_lexer": "ipython3",
   "version": "3.13.2"
  }
 },
 "nbformat": 4,
 "nbformat_minor": 5
}
