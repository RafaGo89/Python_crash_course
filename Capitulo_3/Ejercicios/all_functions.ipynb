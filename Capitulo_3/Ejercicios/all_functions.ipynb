{
 "cells": [
  {
   "cell_type": "markdown",
   "id": "7893afe0",
   "metadata": {},
   "source": [
    " Piense en algo que podría guardar en una\n",
    "lista. Por ejemplo, podría hacer una lista de montañas, ríos, países, ciudades,\n",
    "idiomas o cualquier otra cosa. Escriba un programa que cree una lista que\n",
    "contenga estos elementos y use cada función presentada en este capítulo al\n",
    "menos una vez."
   ]
  },
  {
   "cell_type": "code",
   "execution_count": null,
   "id": "c7e93384",
   "metadata": {},
   "outputs": [
    {
     "name": "stdout",
     "output_type": "stream",
     "text": [
      "['Argentina', 'Costa Rica', 'England', 'Brasil']\n",
      "['Argentina', 'Brasil', 'Costa Rica', 'England']\n",
      "['England', 'Costa Rica', 'Brasil', 'Argentina']\n",
      "4\n",
      "['Argentina', 'Brasil', 'Costa Rica', 'England']\n",
      "['England', 'Costa Rica', 'Brasil', 'Argentina']\n"
     ]
    }
   ],
   "source": [
    "countries = ['Brasil', 'England', 'Costa Rica', 'Argentina']\n",
    "\n",
    "# Lista invertida\n",
    "countries.reverse()\n",
    "print(countries)\n",
    "\n",
    "# Lista ordenada 'sorted'\n",
    "print(sorted(countries))\n",
    "\n",
    "# Lista ordenada al revés\n",
    "print(sorted(countries, reverse = True))\n",
    "\n",
    "# Cantidad de elementos de la lista\n",
    "print(len(countries))\n",
    "\n",
    "# Lista ordenada de manera definitiva A-Z\n",
    "countries.sort()\n",
    "print(countries)\n",
    "\n",
    "# Lista ordenada de manera definitiva Z-A\n",
    "countries.sort(reverse = True)\n",
    "print(countries)\n"
   ]
  }
 ],
 "metadata": {
  "kernelspec": {
   "display_name": "Python 3",
   "language": "python",
   "name": "python3"
  },
  "language_info": {
   "codemirror_mode": {
    "name": "ipython",
    "version": 3
   },
   "file_extension": ".py",
   "mimetype": "text/x-python",
   "name": "python",
   "nbconvert_exporter": "python",
   "pygments_lexer": "ipython3",
   "version": "3.13.2"
  }
 },
 "nbformat": 4,
 "nbformat_minor": 5
}
