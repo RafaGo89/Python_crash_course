{
 "cells": [
  {
   "cell_type": "markdown",
   "id": "441e261a",
   "metadata": {},
   "source": [
    " Ver el mundo: Piense en al menos cinco lugares del mundo que le\n",
    "gustaría visitar.\n",
    "\n",
    "* Guarde esos lugares en una lista. Asegúrese de no hacerlo en orden\n",
    "alfabético.\n",
    "* Imprima la lista en su orden original. No se preocupe por el formato,\n",
    "simplemente imprímala como una lista de Python en bruto.\n",
    "* Use sorted() para imprimir la lista en orden alfabético sin modificarla\n",
    "realmente.\n",
    "* Compruebe que la lista sigue en su orden original imprimiéndola.\n",
    "* Use sorted() para imprimir la lista en orden alfabético inverso sin\n",
    "cambiar el orden de la lista original.\n",
    "* Compruebe que la lista sigue en su orden original imprimiéndola otra\n",
    "vez.\n",
    "* Use reverse() para cambiar el orden de la lista. Imprímala para\n",
    "comprobar que el orden ha cambiado.\n",
    "* Use sort() para cambiar la lista y guardarla en orden alfabético.\n",
    "Imprímala para comprobar que el orden ha cambiado.\n",
    "*  Use sort() para cambiar la lista y guardarla en orden alfabético inverso.\n",
    "Imprímala para comprobar que el orden ha cambiado."
   ]
  },
  {
   "cell_type": "code",
   "execution_count": null,
   "id": "90f1c69d",
   "metadata": {},
   "outputs": [
    {
     "name": "stdout",
     "output_type": "stream",
     "text": [
      "['la bombonera', 'taj mahal', 'old trafford', 'parthenon', 'estadio nemesio diez']\n",
      "['estadio nemesio diez', 'la bombonera', 'old trafford', 'parthenon', 'taj mahal']\n",
      "['la bombonera', 'taj mahal', 'old trafford', 'parthenon', 'estadio nemesio diez']\n",
      "['taj mahal', 'parthenon', 'old trafford', 'la bombonera', 'estadio nemesio diez']\n",
      "['la bombonera', 'taj mahal', 'old trafford', 'parthenon', 'estadio nemesio diez']\n",
      "['estadio nemesio diez', 'parthenon', 'old trafford', 'taj mahal', 'la bombonera']\n",
      "['estadio nemesio diez', 'la bombonera', 'old trafford', 'parthenon', 'taj mahal']\n",
      "['taj mahal', 'parthenon', 'old trafford', 'la bombonera', 'estadio nemesio diez']\n"
     ]
    }
   ],
   "source": [
    "# Una lista de lugares que quiero visitar\n",
    "places_to_visit = ['la bombonera', 'taj mahal', 'old trafford', 'parthenon', 'estadio nemesio diez']\n",
    "\n",
    "print(places_to_visit)\n",
    "\n",
    "# Lista ordenada\n",
    "print(sorted(places_to_visit))\n",
    "\n",
    "# La lista sigue en su mismo orden\n",
    "print(places_to_visit)\n",
    "\n",
    "# Lista ordenada con orden al reves Z-A\n",
    "print(sorted(places_to_visit, reverse = True))\n",
    "\n",
    "# La lista sigue en su mismo orden\n",
    "print(places_to_visit)\n",
    "\n",
    "# Invertimos el orden de la lista, NO la ordenamos\n",
    "places_to_visit.reverse()\n",
    "print(places_to_visit)\n",
    "\n",
    "# Ordenamos la lista de manera definitiva de A-Z\n",
    "places_to_visit.sort()\n",
    "print(places_to_visit)\n",
    "\n",
    "# Ordenamos la lista de manera definitiva de Z-A\n",
    "places_to_visit.sort(reverse = True)\n",
    "print(places_to_visit)"
   ]
  }
 ],
 "metadata": {
  "kernelspec": {
   "display_name": "Python 3",
   "language": "python",
   "name": "python3"
  },
  "language_info": {
   "codemirror_mode": {
    "name": "ipython",
    "version": 3
   },
   "file_extension": ".py",
   "mimetype": "text/x-python",
   "name": "python",
   "nbconvert_exporter": "python",
   "pygments_lexer": "ipython3",
   "version": "3.13.2"
  }
 },
 "nbformat": 4,
 "nbformat_minor": 5
}
