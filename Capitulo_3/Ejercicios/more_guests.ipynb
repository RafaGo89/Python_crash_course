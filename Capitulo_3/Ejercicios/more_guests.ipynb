{
 "cells": [
  {
   "cell_type": "markdown",
   "id": "cb92bf38",
   "metadata": {},
   "source": [
    "Acaba de encontrar una mesa más grande, así que\n",
    "dispone de más espacio. Piense en otros tres invitados más.\n",
    "\n",
    "• Empiece con el programa del ejercicio 3-4 o 3-5. Añada una llamada a\n",
    "print() al final para informar a la gente de que ha encontrado una mesa\n",
    "de comedor más grande.\n",
    "\n",
    "• Use insert() para añadir un nuevo invitado al principio de la lista.\n",
    "\n",
    "• Use insert() para añadir un nuevo invitado en mitad de la lista.\n",
    "\n",
    "• Use append() para añadir un nuevo invitado al final de la lista.\n",
    "\n",
    "• Imprima un nuevo juego de mensajes de invitación, uno para cada\n",
    "persona de la lista."
   ]
  },
  {
   "cell_type": "code",
   "execution_count": null,
   "id": "b84ac6bf",
   "metadata": {},
   "outputs": [
    {
     "name": "stdout",
     "output_type": "stream",
     "text": [
      "Hola Michael Jackson, haré una cena, ¿quieres venir?\n",
      "Hola John Cena, haré una cena, ¿quieres venir?\n",
      "Hola Leonel Messi, haré una cena, ¿quieres venir?\n",
      "\n",
      "He encontrado una mesa más grande, podré invitar a más personas\n",
      "\n",
      "Hola Cristiano Ronaldo, haré una cena, ¿quieres venir?\n",
      "Hola Michael Jackson, haré una cena, ¿quieres venir?\n",
      "Hola Natalia Otero, haré una cena, ¿quieres venir?\n",
      "Hola John Cena, haré una cena, ¿quieres venir?\n",
      "Hola Leonel Messi, haré una cena, ¿quieres venir?\n",
      "Hola Randy Orton, haré una cena, ¿quieres venir?\n"
     ]
    }
   ],
   "source": [
    "# Creamos una lista de invitados\n",
    "guests = ['Michael Jackson', 'John Cena', 'Leonel Messi']\n",
    "\n",
    "print(f'Hola {guests[0]}, haré una cena, ¿quieres venir?')\n",
    "print(f'Hola {guests[1]}, haré una cena, ¿quieres venir?')\n",
    "print(f'Hola {guests[2]}, haré una cena, ¿quieres venir?')\n",
    "\n",
    "print(f'\\nHe encontrado una mesa más grande, podré invitar a más personas')\n",
    "\n",
    "# Añadimos más invitados a la lista\n",
    "guests.insert(0, 'Cristiano Ronaldo')\n",
    "guests.insert(2, 'Natalia Otero')\n",
    "guests.append('Randy Orton')\n",
    "\n",
    "print(f'\\nHola {guests[0]}, haré una cena, ¿quieres venir?')\n",
    "print(f'Hola {guests[1]}, haré una cena, ¿quieres venir?')\n",
    "print(f'Hola {guests[2]}, haré una cena, ¿quieres venir?')\n",
    "print(f'Hola {guests[3]}, haré una cena, ¿quieres venir?')\n",
    "print(f'Hola {guests[4]}, haré una cena, ¿quieres venir?')\n",
    "print(f'Hola {guests[5]}, haré una cena, ¿quieres venir?')\n"
   ]
  }
 ],
 "metadata": {
  "kernelspec": {
   "display_name": "Python 3",
   "language": "python",
   "name": "python3"
  },
  "language_info": {
   "codemirror_mode": {
    "name": "ipython",
    "version": 3
   },
   "file_extension": ".py",
   "mimetype": "text/x-python",
   "name": "python",
   "nbconvert_exporter": "python",
   "pygments_lexer": "ipython3",
   "version": "3.13.2"
  }
 },
 "nbformat": 4,
 "nbformat_minor": 5
}
