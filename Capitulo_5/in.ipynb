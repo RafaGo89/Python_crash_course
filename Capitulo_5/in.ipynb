{
 "cells": [
  {
   "cell_type": "code",
   "execution_count": 1,
   "id": "d1ab4808",
   "metadata": {},
   "outputs": [
    {
     "name": "stdout",
     "output_type": "stream",
     "text": [
      "True\n",
      "False\n"
     ]
    }
   ],
   "source": [
    "requested_toppings = ['mushrooms', 'onions', 'pineapple']\n",
    "\n",
    "# Verificamos si un elemento en particular está en una lista\n",
    "print('mushrooms' in requested_toppings)\n",
    "\n",
    "print('pepperoni' in requested_toppings)"
   ]
  },
  {
   "cell_type": "code",
   "execution_count": null,
   "id": "e654485d",
   "metadata": {},
   "outputs": [
    {
     "name": "stdout",
     "output_type": "stream",
     "text": [
      "Marie, you can post a response if you wish\n"
     ]
    }
   ],
   "source": [
    "# Creamos una lista con usuarios baneados de un foro\n",
    "banned_users = ['andrew', 'carolina', 'david']\n",
    "user = 'marie'\n",
    "\n",
    "# Comprobamos si un usuario en particular está en esa lista, si no lo está\n",
    "# puede hacer comentarios\n",
    "if user not in banned_users:\n",
    "    print(f'{user.title()}, you can post a response if you wish')"
   ]
  },
  {
   "cell_type": "code",
   "execution_count": 2,
   "id": "89d0a70a",
   "metadata": {},
   "outputs": [
    {
     "name": "stdout",
     "output_type": "stream",
     "text": [
      "Adding mushrooms\n",
      "Adding extra cheese\n",
      "\n",
      "Fisnished making your pizza\n"
     ]
    }
   ],
   "source": [
    "requested_toppings = ['mushrooms', 'extra cheese']\n",
    "\n",
    "# Realizamos un prueba if para mostrar que se están añadiendo los ingredientes\n",
    "# solicitados. Cada bloque 'if' es independiente\n",
    "if 'mushrooms' in requested_toppings:\n",
    "    print('Adding mushrooms')\n",
    "if 'pepperoni' in requested_toppings:\n",
    "    print('Adding mushrooms')\n",
    "if 'extra cheese' in requested_toppings:\n",
    "    print('Adding extra cheese')\n",
    "    \n",
    "print('\\nFisnished making your pizza')"
   ]
  }
 ],
 "metadata": {
  "kernelspec": {
   "display_name": "Python 3",
   "language": "python",
   "name": "python3"
  },
  "language_info": {
   "codemirror_mode": {
    "name": "ipython",
    "version": 3
   },
   "file_extension": ".py",
   "mimetype": "text/x-python",
   "name": "python",
   "nbconvert_exporter": "python",
   "pygments_lexer": "ipython3",
   "version": "3.13.2"
  }
 },
 "nbformat": 4,
 "nbformat_minor": 5
}
