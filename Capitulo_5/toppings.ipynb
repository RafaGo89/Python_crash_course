{
 "cells": [
  {
   "cell_type": "code",
   "execution_count": null,
   "id": "1e3e9187",
   "metadata": {},
   "outputs": [
    {
     "name": "stdout",
     "output_type": "stream",
     "text": [
      "Adding mushrooms\n",
      "Sorry, we are out cof green peppers right now\n",
      "Adding extra cheese\n"
     ]
    }
   ],
   "source": [
    "# Creamos una lista de ingredientes\n",
    "requested_toppings = ['mushrooms', 'green peppers', 'extra cheese']\n",
    "\n",
    "# Interamos por los elementos de la lista\n",
    "for requested_topping in requested_toppings:\n",
    "    # Si se detecta el ingrediente 'green peppers' se notifica que no hay\n",
    "    if requested_topping == 'green peppers':\n",
    "        print('Sorry, we are out cof green peppers right now')\n",
    "    # Cualquier otro ingrediente se agrega a la pizza\n",
    "    else:\n",
    "        print(f'Adding {requested_topping}')"
   ]
  },
  {
   "cell_type": "code",
   "execution_count": null,
   "id": "a5167741",
   "metadata": {},
   "outputs": [
    {
     "name": "stdout",
     "output_type": "stream",
     "text": [
      "Are you sure you want a plain pizza?\n"
     ]
    }
   ],
   "source": [
    "requested_toppings = []\n",
    "\n",
    "# Si la lista NO está vacía regresa True entonces significa que hay \n",
    "# ingredientes y se añaden con el ciclo for\n",
    "if requested_toppings:\n",
    "    for requested_topping in requested_toppings:\n",
    "        print(f'Adding {requested_topping}')\n",
    "    print('\\nFinished making your pizza!')\n",
    "# Si la lista está vacía, regresa False y se pregunta si se quiere una pizza\n",
    "# básica\n",
    "else:\n",
    "    print('Are you sure you want a plain pizza?')"
   ]
  },
  {
   "cell_type": "code",
   "execution_count": null,
   "id": "dffe903b",
   "metadata": {},
   "outputs": [
    {
     "name": "stdout",
     "output_type": "stream",
     "text": [
      "Adding mushrooms\n",
      "Sorry, we don't have french fries\n",
      "Adding extra cheese\n",
      "\n",
      "Finished making your pizza!\n"
     ]
    }
   ],
   "source": [
    "# Definimos los ingredientes disponibles en nuestro restaurante\n",
    "available_toppings = ['mushrooms', 'olives', 'green peppers',\n",
    "'pepperoni', 'pineapple', 'extra cheese']\n",
    "\n",
    "# Recibimos los ingredientes que pidió el cliente\n",
    "requested_toppings = ['mushrooms', 'french fries', 'extra cheese']\n",
    "\n",
    "# Tomaremos cada ingrediente pedido por nuestro cliente\n",
    "for requested_topping in requested_toppings:\n",
    "    # Si el ingrediente pedido por el cliente se encuentra entre los que\n",
    "    # tenemos, se añade\n",
    "    if requested_topping in available_toppings:\n",
    "        print(f'Adding {requested_topping}')\n",
    "    # Si el ingrediente pedido no lo tenemos, decimos que no contamos con él\n",
    "    else:\n",
    "        print(f\"Sorry, we don't have {requested_topping}\")\n",
    "\n",
    "print(f'\\nFinished making your pizza!')"
   ]
  }
 ],
 "metadata": {
  "kernelspec": {
   "display_name": "Python 3",
   "language": "python",
   "name": "python3"
  },
  "language_info": {
   "codemirror_mode": {
    "name": "ipython",
    "version": 3
   },
   "file_extension": ".py",
   "mimetype": "text/x-python",
   "name": "python",
   "nbconvert_exporter": "python",
   "pygments_lexer": "ipython3",
   "version": "3.13.2"
  }
 },
 "nbformat": 4,
 "nbformat_minor": 5
}
