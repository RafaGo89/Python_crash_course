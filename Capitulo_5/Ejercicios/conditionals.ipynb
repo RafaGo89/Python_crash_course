{
 "cells": [
  {
   "cell_type": "markdown",
   "id": "a33a42fd",
   "metadata": {},
   "source": [
    " Escriba una serie de pruebas condicionales.\n",
    "Imprima una frase describiendo cada prueba y su predicción para el\n",
    "resultado. Su código debería tener un aspecto similar a esto:"
   ]
  },
  {
   "cell_type": "code",
   "execution_count": 2,
   "id": "4b6b0b18",
   "metadata": {},
   "outputs": [
    {
     "name": "stdout",
     "output_type": "stream",
     "text": [
      "¿El nombre de la persona es Juan? Yo creo que no\n",
      "False\n",
      "\n",
      "¿El nombre de la persona es Thiare? Yo creo que sí\n",
      "True\n"
     ]
    }
   ],
   "source": [
    "nombre = 'thiare'\n",
    "\n",
    "print('¿El nombre de la persona es Juan? Yo creo que no')\n",
    "print(nombre == 'juan')\n",
    "\n",
    "print('\\n¿El nombre de la persona es Thiare? Yo creo que sí')\n",
    "print(nombre == 'thiare')"
   ]
  },
  {
   "cell_type": "markdown",
   "id": "223ea0c2",
   "metadata": {},
   "source": [
    " Pruebas con el método lower()."
   ]
  },
  {
   "cell_type": "code",
   "execution_count": 3,
   "id": "deeaec64",
   "metadata": {},
   "outputs": [
    {
     "name": "stdout",
     "output_type": "stream",
     "text": [
      "¿El nombre de la persona es Juan? Yo creo que no\n",
      "False\n",
      "\n",
      "¿El nombre de la persona es Thiare? Yo creo que sí\n",
      "True\n"
     ]
    }
   ],
   "source": [
    "nombre = 'Thiare'\n",
    "\n",
    "print('¿El nombre de la persona es Juan? Yo creo que no')\n",
    "print(nombre.lower() == 'juan')\n",
    "\n",
    "print('\\n¿El nombre de la persona es Thiare? Yo creo que sí')\n",
    "print(nombre.lower() == 'thiare')"
   ]
  },
  {
   "cell_type": "markdown",
   "id": "12fecb21",
   "metadata": {},
   "source": [
    " Pruebas numéricas que impliquen igualdad y desigualdad, mayor que y\n",
    "menor que, mayor o igual que y menor o igual que."
   ]
  },
  {
   "cell_type": "code",
   "execution_count": 9,
   "id": "bcbc80b4",
   "metadata": {},
   "outputs": [
    {
     "name": "stdout",
     "output_type": "stream",
     "text": [
      "¿El número es 20?\n",
      "True\n",
      "\n",
      "¿El número es 21?\n",
      "False\n",
      "\n",
      "¿El número es menor a 100?\n",
      "True\n",
      "\n",
      "¿El número es mayor a 100?\n",
      "False\n",
      "\n",
      "¿El número es mayor o igual a 10?\n",
      "True\n",
      "\n",
      "¿El número es menor o igual a 10?\n",
      "False\n"
     ]
    }
   ],
   "source": [
    "numero = 20\n",
    "\n",
    "print('¿El número es 20?')\n",
    "print(numero == 20)\n",
    "\n",
    "print('\\n¿El número es 21?')\n",
    "print(numero == 21)\n",
    "\n",
    "print('\\n¿El número es menor a 100?')\n",
    "print(numero < 100)\n",
    "\n",
    "print('\\n¿El número es mayor a 100?')\n",
    "print(numero > 100)\n",
    "\n",
    "print('\\n¿El número es mayor o igual a 10?')\n",
    "print(numero >= 10)\n",
    "\n",
    "print('\\n¿El número es menor o igual a 10?')\n",
    "print(numero <= 10)"
   ]
  },
  {
   "cell_type": "markdown",
   "id": "52fe2ebc",
   "metadata": {},
   "source": [
    "Pruebas con las palabras clave and y or."
   ]
  },
  {
   "cell_type": "code",
   "execution_count": 12,
   "id": "7f5984ec",
   "metadata": {},
   "outputs": [
    {
     "name": "stdout",
     "output_type": "stream",
     "text": [
      "¿Son ambos números menores a 100?\n",
      "True\n",
      "\n",
      "¿Alguno de los números es mayor a 49?\n",
      "True\n"
     ]
    }
   ],
   "source": [
    "num_1 = 45\n",
    "num_2 = 50\n",
    "\n",
    "print('¿Son ambos números menores a 100?')\n",
    "print(num_1 < 100 and num_2 < 100)\n",
    "\n",
    "print('\\n¿Alguno de los números es mayor a 49?')\n",
    "print(num_1 > 49 or num_2 > 49)"
   ]
  },
  {
   "cell_type": "markdown",
   "id": "317ee02b",
   "metadata": {},
   "source": [
    " Prueba para comprobar si un elemento está o no está en una lista."
   ]
  },
  {
   "cell_type": "code",
   "execution_count": 15,
   "id": "ddee1c9e",
   "metadata": {},
   "outputs": [
    {
     "name": "stdout",
     "output_type": "stream",
     "text": [
      "thiare estás en la lista de invitados\n",
      "\n",
      "natalia NO estás en la lista de invitados\n"
     ]
    }
   ],
   "source": [
    "invitados = ['thiare', 'pedro', 'ana', 'luis']\n",
    "invitado_1 = 'thiare'\n",
    "invitado_2 = 'natalia'\n",
    "\n",
    "if invitado_1 in invitados:\n",
    "    print(f'{invitado_1} estás en la lista de invitados')\n",
    "    \n",
    "if invitado_2 not in invitados:\n",
    "    print(f'\\n{invitado_2} NO estás en la lista de invitados')"
   ]
  }
 ],
 "metadata": {
  "kernelspec": {
   "display_name": "Python 3",
   "language": "python",
   "name": "python3"
  },
  "language_info": {
   "codemirror_mode": {
    "name": "ipython",
    "version": 3
   },
   "file_extension": ".py",
   "mimetype": "text/x-python",
   "name": "python",
   "nbconvert_exporter": "python",
   "pygments_lexer": "ipython3",
   "version": "3.13.2"
  }
 },
 "nbformat": 4,
 "nbformat_minor": 5
}
