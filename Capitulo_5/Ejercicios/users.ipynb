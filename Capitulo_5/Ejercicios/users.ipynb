{
 "cells": [
  {
   "cell_type": "markdown",
   "id": "8615b097",
   "metadata": {},
   "source": [
    " Haga lo siguiente para crear\n",
    "un programa que simule cómo los sitios web se aseguran de que todos los\n",
    "usuarios tienen un nombre único.\n",
    "* Cree una lista con cinco o más nombres de usuario llamada\n",
    "current_users.\n",
    "* Cree otra lista de cinco nombres de usuario llamada new_users.\n",
    "Asegúrese de que uno o dos de los nuevos nombres de usuario estén\n",
    "también en la lista current_users.\n",
    "* Pase en bucle por la lista new_users para ver si cada nuevo nombre de\n",
    "usuario está ya usado. Si lo está, imprima un mensaje diciendo al usuario\n",
    "que tendrá que introducir otro nombre. Si un nombre no se ha usado\n",
    "todavía, imprima un mensaje diciendo que el nombre de usuario está\n",
    "disponible.\n",
    "* Asegúrese de que su comparación no distingue entre mayúsculas y\n",
    "minúsculas. Si se ha usado 'Juan', no debería aceptarse 'JUAN'. (Para\n",
    "hacer esto, necesitará una copia de current_users con la versión en\n",
    "minúsculas de todos los usuarios existentes)."
   ]
  },
  {
   "cell_type": "code",
   "execution_count": 24,
   "id": "0fd7c9df",
   "metadata": {},
   "outputs": [
    {
     "name": "stdout",
     "output_type": "stream",
     "text": [
      "El nombre de usuario Alfedro ya está en uso. Elige otro.\n",
      "El nombre de usuario rafa está disponible\n",
      "El nombre de usuario victor está disponible\n",
      "El nombre de usuario natalia ya está en uso. Elige otro.\n",
      "El nombre de usuario Messi está disponible\n"
     ]
    }
   ],
   "source": [
    "# Lista de usuarios que tenemos\n",
    "current_users = ['Juan', 'Thiare', 'alfedro', 'MENDOZA', 'Natalia']\n",
    "# Lista de nuevos usuarios\n",
    "new_users = ['Alfedro', 'rafa', 'victor', 'natalia', 'Messi']\n",
    "\n",
    "# Creamos una copia de nuestros usuarios actuales (otra forma) \n",
    "# current_users_copy = current_users[:]\n",
    "\n",
    "# Usamos un ciclo for para convertir cada elemento de la lista a minúsculas\n",
    "# for i in range(len(current_users_copy)):\n",
    "#    current_users_copy[i] = current_users_copy[i].lower()\n",
    "\n",
    "# Creamos una copia de nuestros usuarios actuales con una lista de compresión\n",
    "current_users_copy = [user.lower() for user in current_users]\n",
    "\n",
    "# Usamos un ciclo for para comparar los nuevos nombres de usuario con los ya\n",
    "# existentes\n",
    "for user in new_users:\n",
    "    # Si ya está en uso decimos que no lo puede usar\n",
    "    if user.lower() in current_users_copy:\n",
    "        print(f'El nombre de usuario {user} ya está en uso. Elige otro.')\n",
    "    # Si está disponible decimos que lo puede usar\n",
    "    else:\n",
    "        print(f'El nombre de usuario {user} está disponible')  "
   ]
  }
 ],
 "metadata": {
  "kernelspec": {
   "display_name": "Python 3",
   "language": "python",
   "name": "python3"
  },
  "language_info": {
   "codemirror_mode": {
    "name": "ipython",
    "version": 3
   },
   "file_extension": ".py",
   "mimetype": "text/x-python",
   "name": "python",
   "nbconvert_exporter": "python",
   "pygments_lexer": "ipython3",
   "version": "3.13.2"
  }
 },
 "nbformat": 4,
 "nbformat_minor": 5
}
