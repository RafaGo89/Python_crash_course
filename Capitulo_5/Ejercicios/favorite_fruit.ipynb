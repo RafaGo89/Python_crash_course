{
 "cells": [
  {
   "cell_type": "markdown",
   "id": "a9dc55e2",
   "metadata": {},
   "source": [
    "Haga una lista de sus frutas favoritas y escriba una\n",
    "serie de sentencias if independientes que comprueben ciertas frutas en su\n",
    "lista.\n",
    "*  Haga una lista de sus frutas favoritas y llámela frutas_favoritas.\n",
    "*  Escriba cinco sentencias if. Cada una debería comprobar si una fruta\n",
    "concreta está en su lista. Si lo está, el bloque if debería imprimir un\n",
    "mensaje como \"¡Pues sí que te gustan los plátanos!\""
   ]
  },
  {
   "cell_type": "code",
   "execution_count": 6,
   "id": "ac106cfb",
   "metadata": {},
   "outputs": [
    {
     "name": "stdout",
     "output_type": "stream",
     "text": [
      "Sí que te gustan las manzanas\n",
      "\n",
      "Sí que te gustan las peras\n",
      "\n",
      "Sí que te gustan las uvas\n",
      "\n",
      "Sí que te gustan las naranjas\n"
     ]
    }
   ],
   "source": [
    "frutas_favoritas = ['pera', 'manzana', 'naranja', 'uva']\n",
    "\n",
    "if 'manzana' in frutas_favoritas:\n",
    "    print('Sí que te gustan las manzanas')\n",
    "    \n",
    "if 'pera' in frutas_favoritas:\n",
    "    print('\\nSí que te gustan las peras')\n",
    "    \n",
    "if 'piña' in frutas_favoritas:\n",
    "    print('\\nSí que te gustan las piña')\n",
    "\n",
    "if 'uva' in frutas_favoritas:\n",
    "    print('\\nSí que te gustan las uvas')\n",
    "    \n",
    "if 'naranja' in frutas_favoritas:\n",
    "    print('\\nSí que te gustan las naranjas')"
   ]
  }
 ],
 "metadata": {
  "kernelspec": {
   "display_name": "Python 3",
   "language": "python",
   "name": "python3"
  },
  "language_info": {
   "codemirror_mode": {
    "name": "ipython",
    "version": 3
   },
   "file_extension": ".py",
   "mimetype": "text/x-python",
   "name": "python",
   "nbconvert_exporter": "python",
   "pygments_lexer": "ipython3",
   "version": "3.13.2"
  }
 },
 "nbformat": 4,
 "nbformat_minor": 5
}
