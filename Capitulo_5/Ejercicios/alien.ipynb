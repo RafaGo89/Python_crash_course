{
 "cells": [
  {
   "cell_type": "markdown",
   "id": "1fc4e2e5",
   "metadata": {},
   "source": [
    "Imagine un alien que acaba de ser derribado\n",
    "en un juego. Cree una variable llamada color_alien y asígnele como valor\n",
    "'verde', 'amarillo' o 'rojo'.\n",
    "* Escriba una sentencia if para comprobar si el color del alien es verde. Si\n",
    "lo es, imprima un mensaje informando al jugador de que ha ganado 5\n",
    "puntos.\n",
    "*  Escriba una versión de este programa que pase la prueba if y otra que\n",
    "no. (La versión que no supera la prueba no tendrá salida)."
   ]
  },
  {
   "cell_type": "code",
   "execution_count": 1,
   "id": "e94cee92",
   "metadata": {},
   "outputs": [],
   "source": [
    "color_alien = 'amarillo'\n",
    "\n",
    "if color_alien == 'verde':\n",
    "    print('Ganaste 5 puntos :)')"
   ]
  },
  {
   "cell_type": "code",
   "execution_count": 2,
   "id": "7070033d",
   "metadata": {},
   "outputs": [
    {
     "name": "stdout",
     "output_type": "stream",
     "text": [
      "Ganaste 5 puntos :)\n"
     ]
    }
   ],
   "source": [
    "color_alien = 'verde'\n",
    "\n",
    "if color_alien == 'verde':\n",
    "    print('Ganaste 5 puntos :)')"
   ]
  }
 ],
 "metadata": {
  "kernelspec": {
   "display_name": "Python 3",
   "language": "python",
   "name": "python3"
  },
  "language_info": {
   "codemirror_mode": {
    "name": "ipython",
    "version": 3
   },
   "file_extension": ".py",
   "mimetype": "text/x-python",
   "name": "python",
   "nbconvert_exporter": "python",
   "pygments_lexer": "ipython3",
   "version": "3.13.2"
  }
 },
 "nbformat": 4,
 "nbformat_minor": 5
}
