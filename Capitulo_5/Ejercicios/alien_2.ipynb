{
 "cells": [
  {
   "cell_type": "markdown",
   "id": "7cd61935",
   "metadata": {},
   "source": [
    "Elija un color para un alien igual que en el\n",
    "ejercicio 5-3 y escriba una cadena if-else.\n",
    "*  Si el color del alien es verde, imprima un mensaje informando al jugador\n",
    "de que ha ganado 5 puntos por disparar al alien.\n",
    "*  Si el color del extraterrestre no es verde, imprima una frase informando al\n",
    "jugador de que acaba de ganar 10 puntos.\n",
    "* Escriba una versión de este programa que ejecute el bloque if y otra que\n",
    "ejecute el bloque else."
   ]
  },
  {
   "cell_type": "code",
   "execution_count": null,
   "id": "f2b1bde6",
   "metadata": {},
   "outputs": [
    {
     "name": "stdout",
     "output_type": "stream",
     "text": [
      "Has ganado 10 puntos\n"
     ]
    }
   ],
   "source": [
    "color_alien = 'amarillo'\n",
    "\n",
    "if color_alien == 'verde':\n",
    "    print('Has ganado 5 puntos :)')\n",
    "else:\n",
    "    print('Has ganado 10 puntos :)')"
   ]
  },
  {
   "cell_type": "code",
   "execution_count": 2,
   "id": "f46f3fe2",
   "metadata": {},
   "outputs": [
    {
     "name": "stdout",
     "output_type": "stream",
     "text": [
      "Has ganado 5 puntos :)\n"
     ]
    }
   ],
   "source": [
    "color_alien = 'verde'\n",
    "\n",
    "if color_alien == 'verde':\n",
    "    print('Has ganado 5 puntos :)')\n",
    "else:\n",
    "    print('Has ganado 10 puntos :)')"
   ]
  }
 ],
 "metadata": {
  "kernelspec": {
   "display_name": "Python 3",
   "language": "python",
   "name": "python3"
  },
  "language_info": {
   "codemirror_mode": {
    "name": "ipython",
    "version": 3
   },
   "file_extension": ".py",
   "mimetype": "text/x-python",
   "name": "python",
   "nbconvert_exporter": "python",
   "pygments_lexer": "ipython3",
   "version": "3.13.2"
  }
 },
 "nbformat": 4,
 "nbformat_minor": 5
}
