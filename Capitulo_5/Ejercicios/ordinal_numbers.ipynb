{
 "cells": [
  {
   "cell_type": "markdown",
   "id": "f9d94055",
   "metadata": {},
   "source": [
    " Los números ordinales indican su\n",
    "posición en una lista, como 1o, 2o, etc. En inglés, la mayoría terminan en th,\n",
    "excepto el 1, el 2 y el 3, que terminan en st, nd y rd, respectivamente.\n",
    "* Guarde los números del 1 al 9 en una lista.\n",
    "* Pase en bucle por la lista.\n",
    "*  Use una cadena if-elif-else dentro del bucle para imprimir la\n",
    "terminación adecuada en inglés de cada número. La salida debería ser\n",
    "\"1st 2nd 3rd 4th 5th 6th 7th 8th 9th\", y cada resultado debería\n",
    "aparecer en una línea separada."
   ]
  },
  {
   "cell_type": "code",
   "execution_count": 4,
   "id": "c60a9cf9",
   "metadata": {},
   "outputs": [
    {
     "name": "stdout",
     "output_type": "stream",
     "text": [
      "1st\n",
      "2nd\n",
      "3rd\n",
      "4th\n",
      "5th\n",
      "6th\n",
      "7th\n",
      "8th\n",
      "9th\n"
     ]
    }
   ],
   "source": [
    "# Creamos una lista de números del 1 al 9 usando una lista de compresión\n",
    "ordinal_numbers = [number for number in range(1, 10)]\n",
    "\n",
    "for number in ordinal_numbers:\n",
    "    if number == 1:\n",
    "        print(f'{number}st')\n",
    "    elif number == 2:\n",
    "        print(f'{number}nd')\n",
    "    elif number == 3:\n",
    "        print(f'{number}rd')\n",
    "    else:\n",
    "        print(f'{number}th')"
   ]
  }
 ],
 "metadata": {
  "kernelspec": {
   "display_name": "Python 3",
   "language": "python",
   "name": "python3"
  },
  "language_info": {
   "codemirror_mode": {
    "name": "ipython",
    "version": 3
   },
   "file_extension": ".py",
   "mimetype": "text/x-python",
   "name": "python",
   "nbconvert_exporter": "python",
   "pygments_lexer": "ipython3",
   "version": "3.13.2"
  }
 },
 "nbformat": 4,
 "nbformat_minor": 5
}
