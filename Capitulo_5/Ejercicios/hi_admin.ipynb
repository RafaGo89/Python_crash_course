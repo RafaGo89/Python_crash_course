{
 "cells": [
  {
   "cell_type": "markdown",
   "id": "072d90ff",
   "metadata": {},
   "source": [
    "Cree una lista de cinco o más nombres de usuario,\n",
    "incluyendo el nombre 'admin'. Imagine que está escribiendo código que\n",
    "imprimirá un mensaje para cada usuario cuando inicien sesión en un sitio\n",
    "web. Pase en bucle por la lista e imprima un saludo para cada usuario:\n",
    "* Si el nombre de usuario es 'admin', imprima un saludo especial, como\n",
    "\"Hola, admin, ¿quieres ver un informe de estado?\".\n",
    "* De lo contrario, imprima un saludo genérico, como \"Hola, Juan, gracias\n",
    "por volver a entrar\"."
   ]
  },
  {
   "cell_type": "code",
   "execution_count": 2,
   "id": "4b7e8f46",
   "metadata": {},
   "outputs": [
    {
     "name": "stdout",
     "output_type": "stream",
     "text": [
      "Hola juan, que bueno tenerte de vuelta\n",
      "Hola natalia, que bueno tenerte de vuelta\n",
      "Hola, admin, ¿quieres ver un informe de estado?\n",
      "Hola pedro, que bueno tenerte de vuelta\n",
      "Hola thiare, que bueno tenerte de vuelta\n"
     ]
    }
   ],
   "source": [
    "users = ['juan', 'natalia', 'admin', 'pedro', 'thiare']\n",
    "\n",
    "for user in users:\n",
    "    if user == 'admin':\n",
    "        print(f'Hola, {user}, ¿quieres ver un informe de estado?')\n",
    "    else:\n",
    "        print(f'Hola {user}, que bueno tenerte de vuelta')"
   ]
  },
  {
   "cell_type": "markdown",
   "id": "8b9826f1",
   "metadata": {},
   "source": [
    "Añada una prueba if al programa del ejercicio\n",
    "anterior para asegurarse de que la lista no está vacía.\n",
    "* Si la lista está vacía, imprima el mensaje \"¡Necesitamos encontrar algún\n",
    "usuario!\".\n",
    "* Borre todos los nombres de usuario de la lista y asegúrese de que se\n",
    "imprime el mensaje correcto."
   ]
  },
  {
   "cell_type": "code",
   "execution_count": 8,
   "id": "95cc8548",
   "metadata": {},
   "outputs": [
    {
     "name": "stdout",
     "output_type": "stream",
     "text": [
      "Necesitamos encontrar algún usario\n"
     ]
    }
   ],
   "source": [
    "users = []\n",
    "\n",
    "if users:\n",
    "    for user in users:\n",
    "        if user == 'admin':\n",
    "            print(f'Hola, {user}, ¿quieres ver un informe de estado?')\n",
    "        else:\n",
    "            print(f'Hola {user}, que bueno tenerte de vuelta')\n",
    "else:\n",
    "    print(f'Necesitamos encontrar algún usario')"
   ]
  }
 ],
 "metadata": {
  "kernelspec": {
   "display_name": "Python 3",
   "language": "python",
   "name": "python3"
  },
  "language_info": {
   "codemirror_mode": {
    "name": "ipython",
    "version": 3
   },
   "file_extension": ".py",
   "mimetype": "text/x-python",
   "name": "python",
   "nbconvert_exporter": "python",
   "pygments_lexer": "ipython3",
   "version": "3.13.2"
  }
 },
 "nbformat": 4,
 "nbformat_minor": 5
}
