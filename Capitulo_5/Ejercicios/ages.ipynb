{
 "cells": [
  {
   "cell_type": "markdown",
   "id": "a3cef5ad",
   "metadata": {},
   "source": [
    "Escriba una cadena if-elif-else para determinar la\n",
    "etapa vital de una persona. Atribuya un valor a la variable edad y:\n",
    "*  Si la persona tiene menos de 2 años, imprima un mensaje diciendo que\n",
    "es un bebé.\n",
    "*  Si la persona tiene entre 2 y 4 años, imprima un mensaje diciendo que es\n",
    "un niño pequeño.\n",
    "*  Si la persona tiene como mínimo 4 años, pero menos de 13, imprima un\n",
    "mensaje diciendo que es un niño.\n",
    "*  Si la persona tiene como mínimo 13 años, pero menos de 20, imprima\n",
    "un mensaje diciendo que es un adolescente.\n",
    "*  Si la persona tiene al menos 20 años, pero no llega a 65, imprima un\n",
    "mensaje diciendo que es un adulto.\n",
    "* Si la persona tiene 65 años o más, imprima un mensaje diciendo que\n",
    "tiene más de 65 años."
   ]
  },
  {
   "cell_type": "code",
   "execution_count": 12,
   "id": "fb2af65a",
   "metadata": {},
   "outputs": [
    {
     "name": "stdout",
     "output_type": "stream",
     "text": [
      "Adulto\n"
     ]
    }
   ],
   "source": [
    "edad = 25\n",
    "\n",
    "if edad < 2:\n",
    "    print('Bebe')\n",
    "elif edad < 4:\n",
    "    print('Niño pequeño')\n",
    "elif edad >= 4 and edad < 13:\n",
    "    print('Niño')\n",
    "elif edad >= 13 and edad < 20:\n",
    "    print('Adolescente')\n",
    "elif edad >= 20 and edad < 65:\n",
    "    print('Adulto')\n",
    "else:\n",
    "    print('Tiene más de 65 años')"
   ]
  }
 ],
 "metadata": {
  "kernelspec": {
   "display_name": "Python 3",
   "language": "python",
   "name": "python3"
  },
  "language_info": {
   "codemirror_mode": {
    "name": "ipython",
    "version": 3
   },
   "file_extension": ".py",
   "mimetype": "text/x-python",
   "name": "python",
   "nbconvert_exporter": "python",
   "pygments_lexer": "ipython3",
   "version": "3.13.2"
  }
 },
 "nbformat": 4,
 "nbformat_minor": 5
}
