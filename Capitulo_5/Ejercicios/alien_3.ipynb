{
 "cells": [
  {
   "cell_type": "markdown",
   "id": "7360b5f5",
   "metadata": {},
   "source": [
    " Convierta la cadena if-else del ejercicio 5-4\n",
    "en una cadena if-elif-else.\n",
    "* Si el alien es verde, imprima un mensaje diciendo al jugador que ha\n",
    "ganado 5 puntos.\n",
    "* Si el alien es amarillo, imprima un mensaje diciendo al jugador que ha\n",
    "ganado 10 puntos.\n",
    "*  Si el alien es rojo, imprima un mensaje diciendo al jugador que ha\n",
    "ganado 15 puntos.\n",
    "*   Escriba tres versiones de este programa, asegurándose de que se\n",
    "imprime cada mensaje para el color de alien adecuado."
   ]
  },
  {
   "cell_type": "code",
   "execution_count": 4,
   "id": "0092a52b",
   "metadata": {},
   "outputs": [
    {
     "name": "stdout",
     "output_type": "stream",
     "text": [
      "Has ganado 10 puntos :)\n"
     ]
    }
   ],
   "source": [
    "color_alien = 'amarillo'\n",
    "\n",
    "if color_alien == 'verde':\n",
    "    print('Has ganado 5 puntos :)')\n",
    "elif color_alien == 'amarillo':\n",
    "    print('Has ganado 10 puntos :)')\n",
    "else:\n",
    "    print('Has ganado 15 puntos :)')"
   ]
  },
  {
   "cell_type": "code",
   "execution_count": 5,
   "id": "f0893faa",
   "metadata": {},
   "outputs": [
    {
     "name": "stdout",
     "output_type": "stream",
     "text": [
      "Has ganado 5 puntos :)\n"
     ]
    }
   ],
   "source": [
    "color_alien = 'verde'\n",
    "\n",
    "if color_alien == 'verde':\n",
    "    print('Has ganado 5 puntos :)')\n",
    "elif color_alien == 'amarillo':\n",
    "    print('Has ganado 10 puntos :)')\n",
    "else:\n",
    "    print('Has ganado 15 puntos :)')"
   ]
  },
  {
   "cell_type": "code",
   "execution_count": 6,
   "id": "02843fa5",
   "metadata": {},
   "outputs": [
    {
     "name": "stdout",
     "output_type": "stream",
     "text": [
      "Has ganado 15 puntos :)\n"
     ]
    }
   ],
   "source": [
    "color_alien = 'rojo'\n",
    "\n",
    "if color_alien == 'verde':\n",
    "    print('Has ganado 5 puntos :)')\n",
    "elif color_alien == 'amarillo':\n",
    "    print('Has ganado 10 puntos :)')\n",
    "else:\n",
    "    print('Has ganado 15 puntos :)')"
   ]
  }
 ],
 "metadata": {
  "kernelspec": {
   "display_name": "Python 3",
   "language": "python",
   "name": "python3"
  },
  "language_info": {
   "codemirror_mode": {
    "name": "ipython",
    "version": 3
   },
   "file_extension": ".py",
   "mimetype": "text/x-python",
   "name": "python",
   "nbconvert_exporter": "python",
   "pygments_lexer": "ipython3",
   "version": "3.13.2"
  }
 },
 "nbformat": 4,
 "nbformat_minor": 5
}
