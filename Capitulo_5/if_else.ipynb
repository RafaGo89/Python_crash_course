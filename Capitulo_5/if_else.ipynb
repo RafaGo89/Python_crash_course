{
 "cells": [
  {
   "cell_type": "code",
   "execution_count": null,
   "id": "6c37f9ca",
   "metadata": {},
   "outputs": [
    {
     "name": "stdout",
     "output_type": "stream",
     "text": [
      "Sorry, you are too young to vote!\n"
     ]
    }
   ],
   "source": [
    "age = 17\n",
    "\n",
    "# Realizamos una sentencia if-else para verficar la edad de una persona y si\n",
    "# puede votar o no\n",
    "if age >= 18:\n",
    "    print('You are old enought to vote!')\n",
    "else:\n",
    "    print('Sorry, you are too young to vote!')"
   ]
  },
  {
   "cell_type": "code",
   "execution_count": 6,
   "id": "1cf27110",
   "metadata": {},
   "outputs": [
    {
     "name": "stdout",
     "output_type": "stream",
     "text": [
      "Your admission cost is $25\n"
     ]
    }
   ],
   "source": [
    "age = 12\n",
    "\n",
    "# Usamos un bloque if-elif-else para comprobar el costo de una entrada\n",
    "# a un parque de diversión con base en la edad\n",
    "if age < 4:\n",
    "    print('Your admission cost is $0')\n",
    "elif age < 18:\n",
    "    print('Your admission cost is $25')\n",
    "else:\n",
    "    print('Your admission cost is $40')"
   ]
  },
  {
   "cell_type": "code",
   "execution_count": 8,
   "id": "7fb10bd9",
   "metadata": {},
   "outputs": [
    {
     "name": "stdout",
     "output_type": "stream",
     "text": [
      "Your admission cost is $25\n"
     ]
    }
   ],
   "source": [
    "# Otra manera de hacer lo anterior\n",
    "age = 12\n",
    "\n",
    "if age < 4:\n",
    "    price = 0\n",
    "elif age < 18:\n",
    "    price = 25\n",
    "else:\n",
    "    price = 40\n",
    "    \n",
    "print(f'Your admission cost is ${price}')"
   ]
  }
 ],
 "metadata": {
  "kernelspec": {
   "display_name": "Python 3",
   "language": "python",
   "name": "python3"
  },
  "language_info": {
   "codemirror_mode": {
    "name": "ipython",
    "version": 3
   },
   "file_extension": ".py",
   "mimetype": "text/x-python",
   "name": "python",
   "nbconvert_exporter": "python",
   "pygments_lexer": "ipython3",
   "version": "3.13.2"
  }
 },
 "nbformat": 4,
 "nbformat_minor": 5
}
