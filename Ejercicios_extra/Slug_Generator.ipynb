{
  "nbformat": 4,
  "nbformat_minor": 0,
  "metadata": {
    "colab": {
      "provenance": []
    },
    "kernelspec": {
      "name": "python3",
      "display_name": "Python 3"
    },
    "language_info": {
      "name": "python"
    }
  },
  "cells": [
    {
      "cell_type": "markdown",
      "source": [
        "**Slug Generator**\n",
        "\n",
        "Given a string, return a URL-friendly version of the string using the following constraints:\n",
        "\n",
        "* All letters should be lowercase.\n",
        "* All characters that are not letters, numbers, or spaces should be removed.\n",
        "* All spaces should be replaced with the URL-encoded space code %20.\n",
        "* Consecutive spaces should be replaced with a single %20.\n",
        "* The returned string should not have leading or trailing %20."
      ],
      "metadata": {
        "id": "IotXq7XvED4k"
      }
    },
    {
      "cell_type": "markdown",
      "source": [
        "1. generateSlug(\"helloWorld\") should return \"helloworld\".\n",
        "2. generateSlug(\"hello world!\") should return \"hello%20world\".\n",
        "3. generateSlug(\" hello-world \") should return \"helloworld\".\n",
        "4. generateSlug(\"hello  world\") should return \"hello%20world\".\n",
        "5. generateSlug(\"  ?H^3-1*1]0! W[0%R#1]D  \") should return \"h3110%20w0r1d\"."
      ],
      "metadata": {
        "id": "rSKSvpWEETUE"
      }
    },
    {
      "cell_type": "code",
      "execution_count": 5,
      "metadata": {
        "colab": {
          "base_uri": "https://localhost:8080/"
        },
        "id": "cXDIBj0TDRBv",
        "outputId": "e9c9fe4a-7421-47ff-cec0-d65c0f65520d"
      },
      "outputs": [
        {
          "output_type": "stream",
          "name": "stdout",
          "text": [
            "helloworld\n",
            "hello%20world\n",
            "helloworld\n",
            "hello%20world\n",
            "h3110%20w0r1d\n"
          ]
        }
      ],
      "source": [
        "import string\n",
        "\n",
        "def remove_spaces(str):\n",
        "    words = str.split()\n",
        "\n",
        "    new_str = \" \".join(words)\n",
        "\n",
        "    # Change the blank spaces wiht %20\n",
        "    new_str = new_str.replace(\" \", \"%20\")\n",
        "\n",
        "    return new_str\n",
        "\n",
        "def remove_others(str):\n",
        "    numbers = [\"0\",\"1\",\"2\",\"3\",\"4\",\"5\",\"6\",\"7\",\"8\",\"9\"]\n",
        "\n",
        "    letters = string.ascii_letters\n",
        "\n",
        "    new_str = ''\n",
        "\n",
        "    for character in str:\n",
        "        if character in letters:\n",
        "            new_str += character.lower()\n",
        "\n",
        "        if character in numbers or character == ' ':\n",
        "            new_str += character\n",
        "\n",
        "    return new_str\n",
        "\n",
        "\n",
        "def generate_slug(str):\n",
        "    # Remove leading and trailing spaces\n",
        "    str = str.strip()\n",
        "\n",
        "    # Remove other characters\n",
        "    str = remove_others(str)\n",
        "\n",
        "    # Format wiht only one blank space\n",
        "    str = remove_spaces(str)\n",
        "\n",
        "\n",
        "    return str\n",
        "\n",
        "print(generate_slug(\"helloWorld\"))\n",
        "print(generate_slug(\"hello world!\"))\n",
        "print(generate_slug(\" hello-world \"))\n",
        "print(generate_slug(\"hello  world\"))\n",
        "print(generate_slug(\"  ?H^3-1*1]0! W[0%R#1]D  \"))"
      ]
    }
  ]
}