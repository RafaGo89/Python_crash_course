{
  "nbformat": 4,
  "nbformat_minor": 0,
  "metadata": {
    "colab": {
      "provenance": []
    },
    "kernelspec": {
      "name": "python3",
      "display_name": "Python 3"
    },
    "language_info": {
      "name": "python"
    }
  },
  "cells": [
    {
      "cell_type": "markdown",
      "source": [
        "**Reverse Sentence**\n",
        "\n",
        "Given a string of words, return a new string with the words in reverse order. For example, the first word should be at the end of the returned string, and the last word should be at the beginning of the returned string.\n",
        "\n",
        "* In the given string, words can be separated by one or more spaces.\n",
        "* The returned string should only have one space between words."
      ],
      "metadata": {
        "id": "IotXq7XvED4k"
      }
    },
    {
      "cell_type": "markdown",
      "source": [
        "1. reverse_sentence(\"world hello\") should return \"hello world\".\n",
        "2. reverse_sentence(\"push commit git\") should return \"git commit push\".\n",
        "3. reverse_sentence(\"npm  install   apt    sudo\") should return \"sudo apt install npm\".\n",
        "4. reverse_sentence(\"import    default   function  export\") should return \"export function default import\"."
      ],
      "metadata": {
        "id": "rSKSvpWEETUE"
      }
    },
    {
      "cell_type": "code",
      "execution_count": 6,
      "metadata": {
        "colab": {
          "base_uri": "https://localhost:8080/"
        },
        "id": "cXDIBj0TDRBv",
        "outputId": "1caae1fb-640c-4550-d753-e42e6a3ce9f4"
      },
      "outputs": [
        {
          "output_type": "stream",
          "name": "stdout",
          "text": [
            "hello world\n",
            "git commit push\n",
            "sudo apt install npm\n",
            "export function default import\n"
          ]
        }
      ],
      "source": [
        "def reverse_sentence(sentence):\n",
        "\n",
        "    splitted_sentence = sentence.split(\" \")\n",
        "\n",
        "    reversed_sentence = splitted_sentence[::-1]\n",
        "\n",
        "    while '' in reversed_sentence:\n",
        "        reversed_sentence.remove('')\n",
        "\n",
        "    f_sentence = \" \".join(reversed_sentence)\n",
        "\n",
        "    return f_sentence\n",
        "\n",
        "print(reverse_sentence(\"world hello\"))\n",
        "\n",
        "print(reverse_sentence(\"push commit git  \"))\n",
        "\n",
        "print(reverse_sentence(\"npm  install   apt    sudo\"))\n",
        "\n",
        "print(reverse_sentence(\"import    default   function  export\"))"
      ]
    }
  ]
}