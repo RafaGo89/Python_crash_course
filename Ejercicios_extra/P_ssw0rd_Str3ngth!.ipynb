{
  "cells": [
    {
      "cell_type": "markdown",
      "metadata": {
        "id": "_1xG8JQ153hq"
      },
      "source": [
        "**P@ssw0rd Str3ngth!**\n",
        "\n",
        "Given a password string, return \"weak\", \"medium\", or \"strong\" based on the strength of the password.\n",
        "\n",
        "A password is evaluated according to the following rules:\n",
        "* It is at least 8 characters long.\n",
        "* It contains both uppercase and lowercase letters.\n",
        "* It contains at least one number.\n",
        "* It contains at least one special character from this set: !, @, #, $, %, ^, &, or *.\n",
        "\n",
        "Return \"weak\" if the password meets fewer than two of the rules. Return \"medium\" if the password meets 2 or 3 of the rules. Return \"strong\" if the password meets all 4 rules."
      ]
    },
    {
      "cell_type": "markdown",
      "metadata": {},
      "source": [
        "1. checkStrength(\"123456\") should return \"weak\".\n",
        "2. checkStrength(\"pass!!!\") should return \"weak\".\n",
        "3. checkStrength(\"Qwerty\") should return \"weak\".\n",
        "4. checkStrength(\"PASSWORD\") should return \"weak\".\n",
        "5. checkStrength(\"PASSWORD!\") should return \"medium\".\n",
        "6. checkStrength(\"PassWord%^!\") should return \"medium\".\n",
        "7. checkStrength(\"qwerty12345\") should return \"medium\".\n",
        "8. checkStrength(\"PASSWORD!\") should return \"medium\".\n",
        "9. checkStrength(\"PASSWORD!\") should return \"medium\".\n",
        "10. checkStrength(\"S3cur3P@ssw0rd\") should return \"strong\".\n",
        "11. checkStrength(\"C0d3&Fun!\") should return \"strong\"."
      ]
    },
    {
      "cell_type": "code",
      "execution_count": 4,
      "metadata": {
        "id": "eZwRsrVx5aMv"
      },
      "outputs": [],
      "source": [
        "import string\n",
        "\n",
        "def check_strength(password):\n",
        "    # checks for the rules\n",
        "    checks = 0\n",
        "\n",
        "    numbers = [num for num in range(1, 10)]\n",
        "\n",
        "    characters = ['!', '@', '#', '$', '%', '^', '&', '*']\n",
        "\n",
        "    uppercase_letters = list(string.ascii_uppercase)\n",
        "\n",
        "    # weak, medium or strong\n",
        "    ranking = ''\n",
        "\n",
        "    # Length of the password\n",
        "    if len(password) >= 8:\n",
        "        checks += 1\n",
        "\n",
        "    # Special characters\n",
        "    for character in  characters:\n",
        "        if  character in password:\n",
        "            checks += 1\n",
        "            break\n",
        "\n",
        "    # Numbers\n",
        "    for number in numbers:\n",
        "        if str(number) in password:\n",
        "            checks += 1\n",
        "            break\n",
        "\n",
        "    # Upper letters\n",
        "    for letter in uppercase_letters:\n",
        "        if letter in password:\n",
        "            checks += 0.5\n",
        "            break\n",
        "\n",
        "    # Lower letters\n",
        "    for letter in uppercase_letters:\n",
        "        if letter.lower() in password:\n",
        "            checks += 0.5\n",
        "            break\n",
        "\n",
        "    # Ranking of the password\n",
        "    if checks == 4:\n",
        "        ranking = 'strong'\n",
        "    elif checks < 2:\n",
        "        ranking = 'weak'\n",
        "    else:\n",
        "        ranking = 'medium'\n",
        "\n",
        "    return ranking"
      ]
    },
    {
      "cell_type": "code",
      "execution_count": 5,
      "metadata": {
        "colab": {
          "base_uri": "https://localhost:8080/"
        },
        "id": "gCScocB9548L",
        "outputId": "ede2acb0-ae14-4e59-c966-5333197967ee"
      },
      "outputs": [
        {
          "name": "stdout",
          "output_type": "stream",
          "text": [
            "weak\n",
            "weak\n",
            "weak\n",
            "weak\n",
            "medium\n",
            "medium\n",
            "medium\n",
            "strong\n",
            "strong\n"
          ]
        }
      ],
      "source": [
        "# Tests\n",
        "print(check_strength('123456'))\n",
        "print(check_strength('pass!!!'))\n",
        "print(check_strength('Qwerty'))\n",
        "print(check_strength('PASSWORD'))\n",
        "print(check_strength('PASSWORD!'))\n",
        "print(check_strength('PassWord%^!'))\n",
        "print(check_strength('PASSWORD!'))\n",
        "print(check_strength('S3cur3P@ssw0rd'))\n",
        "print(check_strength('C0d3&Fun!'))"
      ]
    }
  ],
  "metadata": {
    "colab": {
      "provenance": []
    },
    "kernelspec": {
      "display_name": "crash course",
      "language": "python",
      "name": "python_libro"
    },
    "language_info": {
      "codemirror_mode": {
        "name": "ipython",
        "version": 3
      },
      "file_extension": ".py",
      "mimetype": "text/x-python",
      "name": "python",
      "nbconvert_exporter": "python",
      "pygments_lexer": "ipython3",
      "version": "3.12.3"
    }
  },
  "nbformat": 4,
  "nbformat_minor": 0
}
