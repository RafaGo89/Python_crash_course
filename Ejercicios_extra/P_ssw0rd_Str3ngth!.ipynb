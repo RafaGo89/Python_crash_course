{
  "nbformat": 4,
  "nbformat_minor": 0,
  "metadata": {
    "colab": {
      "provenance": []
    },
    "kernelspec": {
      "name": "python3",
      "display_name": "Python 3"
    },
    "language_info": {
      "name": "python"
    }
  },
  "cells": [
    {
      "cell_type": "markdown",
      "source": [
        "**P@ssw0rd Str3ngth!**\n",
        "\n",
        "Given a password string, return \"weak\", \"medium\", or \"strong\" based on the strength of the password.\n",
        "\n",
        "A password is evaluated according to the following rules:\n",
        "* It is at least 8 characters long.\n",
        "* It contains both uppercase and lowercase letters.\n",
        "* It contains at least one number.\n",
        "* It contains at least one special character from this set: !, @, #, $, %, ^, &, or *.\n",
        "\n",
        "Return \"weak\" if the password meets fewer than two of the rules. Return \"medium\" if the password meets 2 or 3 of the rules. Return \"strong\" if the password meets all 4 rules."
      ],
      "metadata": {
        "id": "_1xG8JQ153hq"
      }
    },
    {
      "cell_type": "code",
      "execution_count": 1,
      "metadata": {
        "id": "eZwRsrVx5aMv"
      },
      "outputs": [],
      "source": [
        "import string\n",
        "\n",
        "def check_strength(password):\n",
        "    # checks for the rules\n",
        "    checks = []\n",
        "\n",
        "    # checks if there are upper and lower letters\n",
        "    both_letters = []\n",
        "\n",
        "    numbers = [num for num in range(1, 10)]\n",
        "\n",
        "    characters = ['!', '@', '#', '$', '%', '^', '&', '*']\n",
        "\n",
        "    uppercase_letters = list(string.ascii_uppercase)\n",
        "\n",
        "    # weak, medium or strong\n",
        "    ranking = ''\n",
        "\n",
        "    # Length of the password\n",
        "    if len(password) >= 8:\n",
        "        checks.append(1)\n",
        "\n",
        "    # Special characters\n",
        "    for character in  characters:\n",
        "        if  character in password:\n",
        "            checks.append(1)\n",
        "            break\n",
        "\n",
        "    # Numbers\n",
        "    for number in numbers:\n",
        "        if str(number) in password:\n",
        "            checks.append(1)\n",
        "            break\n",
        "\n",
        "    # Upper letters\n",
        "    for letter in uppercase_letters:\n",
        "        if letter in password:\n",
        "            both_letters.append(1)\n",
        "            break\n",
        "\n",
        "    # Lower letters\n",
        "    for letter in uppercase_letters:\n",
        "        if letter.lower() in password:\n",
        "            both_letters.append(1)\n",
        "            break\n",
        "\n",
        "    if len(both_letters) == 2:\n",
        "        checks.append(1)\n",
        "\n",
        "    # Ranking of the password\n",
        "    if len(checks) == 4:\n",
        "        ranking = 'strong'\n",
        "    elif len(checks) < 2:\n",
        "        ranking = 'weak'\n",
        "    else:\n",
        "        ranking = 'medium'\n",
        "\n",
        "    return ranking"
      ]
    },
    {
      "cell_type": "code",
      "source": [
        "# Tests\n",
        "print(check_strength('123456'))\n",
        "print(check_strength('pass!!!'))\n",
        "print(check_strength('Qwerty'))\n",
        "print(check_strength('PASSWORD'))\n",
        "print(check_strength('PASSWORD!'))\n",
        "print(check_strength('PassWord%^!'))\n",
        "print(check_strength('PASSWORD!'))\n",
        "print(check_strength('S3cur3P@ssw0rd'))\n",
        "print(check_strength('C0d3&Fun!'))"
      ],
      "metadata": {
        "colab": {
          "base_uri": "https://localhost:8080/"
        },
        "id": "gCScocB9548L",
        "outputId": "ede2acb0-ae14-4e59-c966-5333197967ee"
      },
      "execution_count": 2,
      "outputs": [
        {
          "output_type": "stream",
          "name": "stdout",
          "text": [
            "weak\n",
            "weak\n",
            "weak\n",
            "weak\n",
            "medium\n",
            "medium\n",
            "medium\n",
            "strong\n",
            "strong\n"
          ]
        }
      ]
    }
  ]
}