{
  "nbformat": 4,
  "nbformat_minor": 0,
  "metadata": {
    "colab": {
      "provenance": []
    },
    "kernelspec": {
      "name": "python3",
      "display_name": "Python 3"
    },
    "language_info": {
      "name": "python"
    }
  },
  "cells": [
    {
      "cell_type": "markdown",
      "source": [
        "**Longest Word**\n",
        "\n",
        "Given a sentence, return the longest word in the sentence.\n",
        "\n",
        "* Ignore periods (.) when determining word length.\n",
        "* If multiple words are ties for the longest, return the first one that occurs.\n",
        "\n",
        "1. get_longest_word(\"coding is fun\") should return \"coding\".\n",
        "2. get_longest_word(\"Coding challenges are fun and educational.\") should return \"educational\".\n",
        "3. get_longest_word(\"This sentence has multiple long words.\") should return \"sentence\""
      ],
      "metadata": {
        "id": "DYxSdYzt2ctj"
      }
    },
    {
      "cell_type": "code",
      "execution_count": 3,
      "metadata": {
        "colab": {
          "base_uri": "https://localhost:8080/"
        },
        "id": "Sqb_05ha2bOq",
        "outputId": "bc1e0a23-397c-48a9-df31-ad1e1981e17b"
      },
      "outputs": [
        {
          "output_type": "stream",
          "name": "stdout",
          "text": [
            "coding\n",
            "educational\n",
            "sentence\n"
          ]
        }
      ],
      "source": [
        "def get_longest_word(sentence):\n",
        "\n",
        "    separated = sentence.split()\n",
        "\n",
        "    longest_word = ''\n",
        "\n",
        "    for word in separated:\n",
        "        if '.' in word:\n",
        "            word = word[0:-1]\n",
        "\n",
        "        if len(word) > len(longest_word):\n",
        "            longest_word = word\n",
        "\n",
        "    return longest_word\n",
        "\n",
        "\n",
        "print(get_longest_word(\"coding is fun\"))\n",
        "print(get_longest_word(\"Coding challenges are fun and educational.\"))\n",
        "print(get_longest_word(\"This sentence has multiple long words.\"))"
      ]
    }
  ]
}