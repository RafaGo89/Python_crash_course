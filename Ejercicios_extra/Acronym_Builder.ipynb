{
  "nbformat": 4,
  "nbformat_minor": 0,
  "metadata": {
    "colab": {
      "provenance": []
    },
    "kernelspec": {
      "name": "python3",
      "display_name": "Python 3"
    },
    "language_info": {
      "name": "python"
    }
  },
  "cells": [
    {
      "cell_type": "markdown",
      "source": [
        "**Acronym Builder**\n",
        "\n",
        "Given a string containing one or more words, return an acronym of the words using the following constraints:\n",
        "\n",
        "* The acronym should consist of the first letter of each word capitalized, unless otherwise noted.\n",
        "* The acronym should ignore the first letter of these words unless they are the first word of the given string: a, for, an, and, by, and of.\n",
        "* The acronym letters should be returned in the order they are given.\n",
        "* The acronym should not contain any spaces.\n"
      ],
      "metadata": {
        "id": "IotXq7XvED4k"
      }
    },
    {
      "cell_type": "markdown",
      "source": [
        "1. build_acronym(\"Search Engine Optimization\") should return \"SEO\".\n",
        "2. build_acronym(\"Frequently Asked Questions\") should return \"FAQ\".\n",
        "3. build_acronym(\"National Aeronautics and Space Administration\") should return \"NASA\".\n",
        "4. build_acronym(\"Federal Bureau of Investigation\") should return \"FBI\".\n",
        "5. build_acronym(\"For your information\") should return \"FYI\".\n",
        "6. build_acronym(\"By the way\") should return \"BTW\".\n",
        "7. build_acronym(\"An unstoppable herd of waddling penguins overtakes the icy mountains and sings happily\") should return \"AUHWPOTIMSH\"."
      ],
      "metadata": {
        "id": "rSKSvpWEETUE"
      }
    },
    {
      "cell_type": "code",
      "execution_count": 7,
      "metadata": {
        "colab": {
          "base_uri": "https://localhost:8080/"
        },
        "id": "cXDIBj0TDRBv",
        "outputId": "396dcb27-b4d7-4cb5-d57d-ea6c0c734c2b"
      },
      "outputs": [
        {
          "output_type": "stream",
          "name": "stdout",
          "text": [
            "SEO\n",
            "FAQ\n",
            "NASA\n",
            "FBI\n",
            "FYI\n",
            "BTW\n",
            "AUHWPOTIMSH\n"
          ]
        }
      ],
      "source": [
        "def build_acronym(s):\n",
        "    acronym = \"\"\n",
        "    ignore = ['a', 'for', 'an', 'and', 'by', 'of']\n",
        "\n",
        "    words = s.split(\" \")\n",
        "\n",
        "    if len(words) >= 1:\n",
        "        acronym = acronym + words[0][0:1]\n",
        "\n",
        "    for word in words[1:len(words)]:\n",
        "        if word in ignore:\n",
        "            continue\n",
        "        acronym = acronym + word[0:1].upper()\n",
        "    return acronym\n",
        "\n",
        "print(build_acronym(\"Search Engine Optimization\"))\n",
        "\n",
        "print(build_acronym(\"Frequently Asked Questions\"))\n",
        "\n",
        "print(build_acronym(\"National Aeronautics and Space Administration\"))\n",
        "\n",
        "print(build_acronym(\"Federal Bureau of Investigation\"))\n",
        "\n",
        "print(build_acronym(\"For your information\"))\n",
        "\n",
        "print(build_acronym(\"By the way\"))\n",
        "\n",
        "print(build_acronym(\"An unstoppable herd of waddling penguins overtakes the icy mountains and sings happily\"))"
      ]
    }
  ]
}