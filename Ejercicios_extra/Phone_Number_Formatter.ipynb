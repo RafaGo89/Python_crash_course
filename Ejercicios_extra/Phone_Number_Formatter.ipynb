{
  "nbformat": 4,
  "nbformat_minor": 0,
  "metadata": {
    "colab": {
      "provenance": []
    },
    "kernelspec": {
      "name": "python3",
      "display_name": "Python 3"
    },
    "language_info": {
      "name": "python"
    }
  },
  "cells": [
    {
      "cell_type": "markdown",
      "source": [
        "**Phone Number Formatter**\n",
        "\n",
        "Given a string of ten digits, return the string as a phone number in this format: \"+D (DDD) DDD-DDDD\".\n",
        "\n",
        "\n",
        "\n",
        "*   format_number(\"05552340182\") should return \"+0 (555) 234-0182\".\n",
        "*   format_number(\"15554354792\") should return \"+1 (555) 435-4792\"."
      ],
      "metadata": {
        "id": "DYxSdYzt2ctj"
      }
    },
    {
      "cell_type": "code",
      "execution_count": 1,
      "metadata": {
        "colab": {
          "base_uri": "https://localhost:8080/"
        },
        "id": "Sqb_05ha2bOq",
        "outputId": "9061f5f4-10e8-4b9e-8e7a-30b36a698205"
      },
      "outputs": [
        {
          "output_type": "stream",
          "name": "stdout",
          "text": [
            "+0 (555) 234-0182\n",
            "+1 (555) 435-4792\n"
          ]
        }
      ],
      "source": [
        "def format_number(number):\n",
        "    number_formatted = \"+\" + number[0]\n",
        "\n",
        "    number_formatted += \" (\" + number[1:4] + \")\"\n",
        "\n",
        "    number_formatted += \" \" + number[4:7] + \"-\" + number[7:]\n",
        "\n",
        "    return number_formatted\n",
        "\n",
        "print(format_number(\"05552340182\"))\n",
        "print(format_number(\"15554354792\"))"
      ]
    }
  ]
}