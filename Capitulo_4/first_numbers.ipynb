{
 "cells": [
  {
   "cell_type": "code",
   "execution_count": null,
   "id": "4f114a94",
   "metadata": {},
   "outputs": [
    {
     "name": "stdout",
     "output_type": "stream",
     "text": [
      "1\n",
      "2\n",
      "3\n",
      "4\n"
     ]
    }
   ],
   "source": [
    "# Imprimos los números del 1 al 4\n",
    "for value in range(1, 5):\n",
    "    print(value)"
   ]
  },
  {
   "cell_type": "code",
   "execution_count": 2,
   "id": "e1860b5e",
   "metadata": {},
   "outputs": [
    {
     "name": "stdout",
     "output_type": "stream",
     "text": [
      "1\n",
      "2\n",
      "3\n",
      "4\n",
      "5\n"
     ]
    }
   ],
   "source": [
    "# Para imprimir los números del 1 al 6 hacemos esto\n",
    "for value in range(1, 6):\n",
    "    print(value)"
   ]
  },
  {
   "cell_type": "code",
   "execution_count": null,
   "id": "3a2922be",
   "metadata": {},
   "outputs": [
    {
     "name": "stdout",
     "output_type": "stream",
     "text": [
      "[1, 2, 3, 4, 5]\n"
     ]
    }
   ],
   "source": [
    "# Combinando el resultado de 'range' y usando 'list', podemos convertir\n",
    "# el resultado una lista\n",
    "numbers = list(range(1, 6))\n",
    "\n",
    "print(numbers)"
   ]
  },
  {
   "cell_type": "code",
   "execution_count": null,
   "id": "434034c2",
   "metadata": {},
   "outputs": [
    {
     "name": "stdout",
     "output_type": "stream",
     "text": [
      "[2, 4, 6, 8, 10]\n"
     ]
    }
   ],
   "source": [
    "# Si agregamos un tercer elemento a 'range', podemos especificar el tamño de 'salto'\n",
    "# Esto genera una lista de número del 2 al 10 sumando de 2 en 2\n",
    "even_numbers = list(range(2, 11, 2))\n",
    "\n",
    "print(even_numbers)"
   ]
  },
  {
   "cell_type": "code",
   "execution_count": null,
   "id": "a2debee8",
   "metadata": {},
   "outputs": [
    {
     "name": "stdout",
     "output_type": "stream",
     "text": [
      "[1, 4, 9, 16, 25, 36, 49, 64, 81, 100]\n"
     ]
    }
   ],
   "source": [
    "# Creamos una lista con el cuadrado de cada número del 1 al 10\n",
    "squares = []\n",
    "\n",
    "for value in range(1, 11):\n",
    "    # Sacamos el cuadrado de cada número\n",
    "    square = value ** 2\n",
    "    # Pegamos ese valor en la lista\n",
    "    squares.append(square)\n",
    "\n",
    "print(squares)"
   ]
  },
  {
   "cell_type": "code",
   "execution_count": null,
   "id": "b22d5a1c",
   "metadata": {},
   "outputs": [
    {
     "name": "stdout",
     "output_type": "stream",
     "text": [
      "[1, 4, 9, 16, 25, 36, 49, 64, 81, 100]\n"
     ]
    }
   ],
   "source": [
    "# Otra forma de hacer lo anterior\n",
    "squares = []\n",
    "\n",
    "for value in range(1, 11):\n",
    "    # Pegamos el cuadrado de cada número a lista 'squares'\n",
    "    squares.append(value ** 2)\n",
    "\n",
    "print(squares)"
   ]
  },
  {
   "cell_type": "code",
   "execution_count": null,
   "id": "292111a0",
   "metadata": {},
   "outputs": [
    {
     "name": "stdout",
     "output_type": "stream",
     "text": [
      "[1, 4, 9, 16, 25, 36, 49, 64, 81, 100]\n"
     ]
    }
   ],
   "source": [
    "# Lo anterior también se puede hacer con una lista por compresión\n",
    "# Es como una manera corta de crear una lista\n",
    "\n",
    "# Primero ponemos la lista que se rellenara\n",
    "# Luego la expresión con la que crearemos los valores de la lista\n",
    "# Y finalmente el ciclo for para crear esos valores\n",
    "squares = [value ** 2 for value in range(1, 11)]\n",
    "print(squares)"
   ]
  },
  {
   "cell_type": "code",
   "execution_count": null,
   "id": "29f8fe6c",
   "metadata": {},
   "outputs": [
    {
     "name": "stdout",
     "output_type": "stream",
     "text": [
      "0\n",
      "9\n",
      "45\n"
     ]
    }
   ],
   "source": [
    "# Creamos una lista con diferentes números\n",
    "digits = [1, 2, 3, 4, 5, 6, 7, 8, 9, 0]\n",
    "\n",
    "# Calculamos el valor mínimos de la lista\n",
    "print(min(digits))\n",
    "\n",
    "# Calculamos el valor máximo de la lista\n",
    "print(max(digits))\n",
    "\n",
    "# Calculamos la suma de los valores de la lista\n",
    "print(sum(digits))"
   ]
  }
 ],
 "metadata": {
  "kernelspec": {
   "display_name": "Python 3",
   "language": "python",
   "name": "python3"
  },
  "language_info": {
   "codemirror_mode": {
    "name": "ipython",
    "version": 3
   },
   "file_extension": ".py",
   "mimetype": "text/x-python",
   "name": "python",
   "nbconvert_exporter": "python",
   "pygments_lexer": "ipython3",
   "version": "3.13.2"
  }
 },
 "nbformat": 4,
 "nbformat_minor": 5
}
