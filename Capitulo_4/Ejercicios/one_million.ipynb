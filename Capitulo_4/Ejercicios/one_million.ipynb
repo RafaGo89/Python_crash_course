{
 "cells": [
  {
   "cell_type": "markdown",
   "id": "61226b99",
   "metadata": {},
   "source": [
    " Haga una lista de números de uno a un millón y luego use\n",
    "un bucle for para imprimir los números."
   ]
  },
  {
   "cell_type": "code",
   "execution_count": null,
   "id": "6d1ede98",
   "metadata": {},
   "outputs": [],
   "source": [
    "numbers = list(range(1, 1000001))\n",
    "\n",
    "for number in numbers:\n",
    "    print(number)"
   ]
  }
 ],
 "metadata": {
  "kernelspec": {
   "display_name": "Python 3",
   "language": "python",
   "name": "python3"
  },
  "language_info": {
   "codemirror_mode": {
    "name": "ipython",
    "version": 3
   },
   "file_extension": ".py",
   "mimetype": "text/x-python",
   "name": "python",
   "nbconvert_exporter": "python",
   "pygments_lexer": "ipython3",
   "version": "3.13.2"
  }
 },
 "nbformat": 4,
 "nbformat_minor": 5
}
