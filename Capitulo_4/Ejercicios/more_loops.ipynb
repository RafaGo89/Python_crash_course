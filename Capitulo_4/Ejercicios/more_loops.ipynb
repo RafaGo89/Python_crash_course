{
 "cells": [
  {
   "cell_type": "markdown",
   "id": "5093a3c7",
   "metadata": {},
   "source": [
    "Todas las versiones de foods.py de esta sección han\n",
    "evitado usar bucles for al imprimir para ahorrar espacio. Elija una versión de\n",
    "foods.py y escriba dos bucles para imprimir cada lista de comida."
   ]
  },
  {
   "cell_type": "code",
   "execution_count": 4,
   "id": "63b8ec61",
   "metadata": {},
   "outputs": [
    {
     "name": "stdout",
     "output_type": "stream",
     "text": [
      "My favorite foods are:\n",
      "pizza\n",
      "falafel\n",
      "carrot cake\n",
      "aguachile\n",
      "\n",
      "My friend's favorite foods are:\n",
      "pizza\n",
      "falafel\n",
      "carrot cake\n"
     ]
    }
   ],
   "source": [
    "# Creamos una lista con diferentes comidas comidas\n",
    "my_foods = ['pizza', 'falafel', 'carrot cake']\n",
    "\n",
    "# Copiamos en una nueva lista todos los elementos de la primera lista\n",
    "friend_food = my_foods[:]\n",
    "\n",
    "# Añadimos un nuevo elemento a esta lista\n",
    "my_foods.append('aguachile')\n",
    "\n",
    "# Imprimimos los elementos de las listas\n",
    "print(\"My favorite foods are:\")\n",
    "for food in my_foods:\n",
    "    print(food)\n",
    "    \n",
    "print(\"\\nMy friend's favorite foods are:\")\n",
    "for food in friend_food:\n",
    "    print(food)"
   ]
  }
 ],
 "metadata": {
  "kernelspec": {
   "display_name": "Python 3",
   "language": "python",
   "name": "python3"
  },
  "language_info": {
   "codemirror_mode": {
    "name": "ipython",
    "version": 3
   },
   "file_extension": ".py",
   "mimetype": "text/x-python",
   "name": "python",
   "nbconvert_exporter": "python",
   "pygments_lexer": "ipython3",
   "version": "3.13.2"
  }
 },
 "nbformat": 4,
 "nbformat_minor": 5
}
