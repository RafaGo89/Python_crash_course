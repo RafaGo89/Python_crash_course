{
 "cells": [
  {
   "cell_type": "markdown",
   "id": "a6dbf2fb",
   "metadata": {},
   "source": [
    "Haga una lista de los números del uno al millón y\n",
    "use min() y max() para asegurarse de que su lista empieza realmente en uno\n",
    "y acaba en un millón. Utilice también la función sum() para ver lo rápido que\n",
    "Python puede sumar un millón de números."
   ]
  },
  {
   "cell_type": "code",
   "execution_count": 3,
   "id": "de748025",
   "metadata": {},
   "outputs": [
    {
     "name": "stdout",
     "output_type": "stream",
     "text": [
      "1\n",
      "1000000\n",
      "500000500000\n"
     ]
    }
   ],
   "source": [
    "numbers = list(range(1, 1000001))\n",
    "\n",
    "print(min(numbers))\n",
    "print(max(numbers))\n",
    "print(sum(numbers))"
   ]
  }
 ],
 "metadata": {
  "kernelspec": {
   "display_name": "Python 3",
   "language": "python",
   "name": "python3"
  },
  "language_info": {
   "codemirror_mode": {
    "name": "ipython",
    "version": 3
   },
   "file_extension": ".py",
   "mimetype": "text/x-python",
   "name": "python",
   "nbconvert_exporter": "python",
   "pygments_lexer": "ipython3",
   "version": "3.13.2"
  }
 },
 "nbformat": 4,
 "nbformat_minor": 5
}
