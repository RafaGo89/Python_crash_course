{
 "cells": [
  {
   "cell_type": "markdown",
   "id": "f63fd29b",
   "metadata": {},
   "source": [
    "Empiece con el programa del ejercicio 4-1 Haga una copia de la lista de pizzas y llámela friend_pizzas.A continuación, haga lo siguiente:\n",
    "* Añada una pizza nueva a la lista original.\n",
    "* Añada una pizza diferente a la lista friend_pizzas.\n",
    "* Compruebe que tiene dos listas separadas. Imprima el mensaje \"Mis\n",
    "pizzas favoritas son:\" y luego use un bucle for para imprimir la primera\n",
    "lista. Imprima el mensaje \"Las pizzas favoritas de mi amigo son:\" y\n",
    "después utilice un bucle for para imprimir la segunda lista. Asegúrese de\n",
    "que cada pizza se guarda en la lista adecuada."
   ]
  },
  {
   "cell_type": "code",
   "execution_count": null,
   "id": "c964c7aa",
   "metadata": {},
   "outputs": [
    {
     "name": "stdout",
     "output_type": "stream",
     "text": [
      "My favorite pizzas are:\n",
      "pepperoni pizza\n",
      "roman pizza\n",
      "italian pizza\n",
      "vegetarian pizza\n",
      "\n",
      "My friend's favorite pizzas are:\n",
      "pepperoni pizza\n",
      "roman pizza\n",
      "italian pizza\n",
      "hawain pizza\n"
     ]
    }
   ],
   "source": [
    "# Creamos una lista\n",
    "my_pizzas = ['pepperoni pizza', 'roman pizza', 'italian pizza']\n",
    "\n",
    "# Copiamos la lista en otra nueva lista\n",
    "friend_pizzas = my_pizzas[:]\n",
    "\n",
    "# Añadimos elementos nuevos a la lista\n",
    "my_pizzas.append('vegetarian pizza')\n",
    "friend_pizzas.append('hawain pizza')\n",
    "\n",
    "# Imprimimos los elementos de ambas listas\n",
    "print('My favorite pizzas are:')\n",
    "for pizza in my_pizzas:\n",
    "    print(pizza)\n",
    "    \n",
    "print(\"\\nMy friend's favorite pizzas are:\")\n",
    "for pizza in friend_pizzas:\n",
    "    print(pizza)"
   ]
  }
 ],
 "metadata": {
  "kernelspec": {
   "display_name": "Python 3",
   "language": "python",
   "name": "python3"
  },
  "language_info": {
   "codemirror_mode": {
    "name": "ipython",
    "version": 3
   },
   "file_extension": ".py",
   "mimetype": "text/x-python",
   "name": "python",
   "nbconvert_exporter": "python",
   "pygments_lexer": "ipython3",
   "version": "3.13.2"
  }
 },
 "nbformat": 4,
 "nbformat_minor": 5
}
