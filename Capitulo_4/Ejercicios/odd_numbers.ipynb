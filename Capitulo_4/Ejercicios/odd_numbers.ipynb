{
 "cells": [
  {
   "cell_type": "markdown",
   "id": "5d7b4a66",
   "metadata": {},
   "source": [
    "Use el tercer argumento de la función range()\n",
    "para hacer una lista de los números impares comprendidos entre 1 y 20.\n",
    "Utilice un bucle for para imprimir cada número."
   ]
  },
  {
   "cell_type": "code",
   "execution_count": 2,
   "id": "61b112b5",
   "metadata": {},
   "outputs": [
    {
     "name": "stdout",
     "output_type": "stream",
     "text": [
      "1\n",
      "3\n",
      "5\n",
      "7\n",
      "9\n",
      "11\n",
      "13\n",
      "15\n",
      "17\n",
      "19\n"
     ]
    }
   ],
   "source": [
    "odd_numbers = list(range(1, 21, 2))\n",
    "\n",
    "for number in odd_numbers:\n",
    "    print(number)"
   ]
  }
 ],
 "metadata": {
  "kernelspec": {
   "display_name": "Python 3",
   "language": "python",
   "name": "python3"
  },
  "language_info": {
   "codemirror_mode": {
    "name": "ipython",
    "version": 3
   },
   "file_extension": ".py",
   "mimetype": "text/x-python",
   "name": "python",
   "nbconvert_exporter": "python",
   "pygments_lexer": "ipython3",
   "version": "3.13.2"
  }
 },
 "nbformat": 4,
 "nbformat_minor": 5
}
