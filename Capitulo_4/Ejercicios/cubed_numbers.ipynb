{
 "cells": [
  {
   "cell_type": "markdown",
   "id": "7bde97c6",
   "metadata": {},
   "source": [
    "Un número elevado a la tercera potencia es un cubo. Por\n",
    "ejemplo, el cubo de 2 se escribe como 2**3 en Python. Haga una lista de los\n",
    "10 primeros cubos (es decir, el cubo de cada entero entre 1 y 10) y use un\n",
    "bucle for para imprimir el valor de cada cubo."
   ]
  },
  {
   "cell_type": "code",
   "execution_count": 2,
   "id": "390dc352",
   "metadata": {},
   "outputs": [
    {
     "name": "stdout",
     "output_type": "stream",
     "text": [
      "1\n",
      "8\n",
      "27\n",
      "64\n",
      "125\n",
      "216\n",
      "343\n",
      "512\n",
      "729\n",
      "1000\n"
     ]
    }
   ],
   "source": [
    "for number in range(1, 11):\n",
    "    print(number ** 3)"
   ]
  }
 ],
 "metadata": {
  "kernelspec": {
   "display_name": "Python 3",
   "language": "python",
   "name": "python3"
  },
  "language_info": {
   "codemirror_mode": {
    "name": "ipython",
    "version": 3
   },
   "file_extension": ".py",
   "mimetype": "text/x-python",
   "name": "python",
   "nbconvert_exporter": "python",
   "pygments_lexer": "ipython3",
   "version": "3.13.2"
  }
 },
 "nbformat": 4,
 "nbformat_minor": 5
}
