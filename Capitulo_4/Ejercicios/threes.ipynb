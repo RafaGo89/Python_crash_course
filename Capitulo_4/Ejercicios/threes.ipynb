{
 "cells": [
  {
   "cell_type": "markdown",
   "id": "945419e0",
   "metadata": {},
   "source": [
    " Haga una lista de los múltiplos de 3 comprendidos entre el 3 y\n",
    "el 30. Use un bucle for para imprimir los números de la lista."
   ]
  },
  {
   "cell_type": "code",
   "execution_count": 1,
   "id": "4c994be8",
   "metadata": {},
   "outputs": [
    {
     "name": "stdout",
     "output_type": "stream",
     "text": [
      "3\n",
      "6\n",
      "9\n",
      "12\n",
      "15\n",
      "18\n",
      "21\n",
      "24\n",
      "27\n",
      "30\n"
     ]
    }
   ],
   "source": [
    "multiple_of_3 = list(range(3, 31, 3))\n",
    "\n",
    "for number in multiple_of_3:\n",
    "    print(number)"
   ]
  }
 ],
 "metadata": {
  "kernelspec": {
   "display_name": "Python 3",
   "language": "python",
   "name": "python3"
  },
  "language_info": {
   "codemirror_mode": {
    "name": "ipython",
    "version": 3
   },
   "file_extension": ".py",
   "mimetype": "text/x-python",
   "name": "python",
   "nbconvert_exporter": "python",
   "pygments_lexer": "ipython3",
   "version": "3.13.2"
  }
 },
 "nbformat": 4,
 "nbformat_minor": 5
}
