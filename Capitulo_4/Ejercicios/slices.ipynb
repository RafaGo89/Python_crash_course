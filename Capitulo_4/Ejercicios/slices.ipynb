{
 "cells": [
  {
   "cell_type": "markdown",
   "id": "f5c33abf",
   "metadata": {},
   "source": [
    "Partiendo de uno de los programas que hemos escrito en este\n",
    "capítulo, añada varias líneas al final que hagan lo siguiente:\n",
    "* Imprimir el mensaje \"Estos son los tres primeros elementos de la lista:\". A\n",
    "continuación, use un trozo para imprimir los tres primeros elementos de la\n",
    "lista de ese programa.\n",
    "* Imprimir el mensaje \"Estos tres elementos están en el medio de la lista:\".\n",
    "A continuación, use un trozo para imprimir los tres elementos centrales de\n",
    "la lista.\n",
    "* Imprimir el mensaje \"Estos son los tres últimos elementos de la lista:\". A\n",
    "continuación, use un trozo para imprimir los tres últimos elementos de la\n",
    "lista."
   ]
  },
  {
   "cell_type": "code",
   "execution_count": 4,
   "id": "40133ed7",
   "metadata": {},
   "outputs": [
    {
     "name": "stdout",
     "output_type": "stream",
     "text": [
      "Those are the first three elements of the list:\n",
      "['alice', 'david', 'carolina']\n",
      "\n",
      "Those three elements are in the middle of the list:\n",
      "['david', 'carolina', 'kennedy']\n",
      "\n",
      "Those are the three last elements of the list:\n",
      "['carolina', 'kennedy', 'george']\n"
     ]
    }
   ],
   "source": [
    "# Creamos una lista de nombres de magos\n",
    "magicians = ['alice', 'david', 'carolina', 'kennedy', 'george']\n",
    "\n",
    "print('Those are the first three elements of the list:')\n",
    "print(magicians[:3])\n",
    "\n",
    "print('\\nThose three elements are in the middle of the list:')\n",
    "print(magicians[1:4])\n",
    "\n",
    "print('\\nThose are the three last elements of the list:')\n",
    "print(magicians[-3:])"
   ]
  }
 ],
 "metadata": {
  "kernelspec": {
   "display_name": "Python 3",
   "language": "python",
   "name": "python3"
  },
  "language_info": {
   "codemirror_mode": {
    "name": "ipython",
    "version": 3
   },
   "file_extension": ".py",
   "mimetype": "text/x-python",
   "name": "python",
   "nbconvert_exporter": "python",
   "pygments_lexer": "ipython3",
   "version": "3.13.2"
  }
 },
 "nbformat": 4,
 "nbformat_minor": 5
}
