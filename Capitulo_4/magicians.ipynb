{
 "cells": [
  {
   "cell_type": "code",
   "execution_count": 1,
   "metadata": {
    "colab": {
     "base_uri": "https://localhost:8080/"
    },
    "executionInfo": {
     "elapsed": 13,
     "status": "ok",
     "timestamp": 1754689239601,
     "user": {
      "displayName": "RAFAEL RODRIGUEZ GOMEZ",
      "userId": "10898071014332961605"
     },
     "user_tz": 360
    },
    "id": "S7ZsH6kqnc8G",
    "outputId": "7878b0eb-ece8-44cf-c023-38a4a0055db9"
   },
   "outputs": [
    {
     "name": "stdout",
     "output_type": "stream",
     "text": [
      "alice\n",
      "david\n",
      "carolina\n"
     ]
    }
   ],
   "source": [
    "# Creamos una lista de nombres de magos\n",
    "magicians = ['alice', 'david', 'carolina']\n",
    "\n",
    "# Imprimimos cada nombre usando un ciclo for\n",
    "for magician in magicians:\n",
    "  print(magician)"
   ]
  },
  {
   "cell_type": "code",
   "execution_count": 4,
   "metadata": {
    "colab": {
     "base_uri": "https://localhost:8080/"
    },
    "executionInfo": {
     "elapsed": 12,
     "status": "ok",
     "timestamp": 1754689652582,
     "user": {
      "displayName": "RAFAEL RODRIGUEZ GOMEZ",
      "userId": "10898071014332961605"
     },
     "user_tz": 360
    },
    "id": "d27qp3TMpLKK",
    "outputId": "39dab299-7d5a-46bb-b416-35dda171cf71"
   },
   "outputs": [
    {
     "name": "stdout",
     "output_type": "stream",
     "text": [
      "Alice, that was a great trick!\n",
      "I can't wait to see your next trick, Alice.\n",
      "\n",
      "David, that was a great trick!\n",
      "I can't wait to see your next trick, David.\n",
      "\n",
      "Carolina, that was a great trick!\n",
      "I can't wait to see your next trick, Carolina.\n",
      "\n"
     ]
    }
   ],
   "source": [
    "magicians = ['alice', 'david', 'carolina']\n",
    "\n",
    "# Imprimimos una frase usando cada nombre de la lista\n",
    "for magician in magicians:\n",
    "  print(f'{magician.title()}, that was a great trick!')\n",
    "  print(f\"I can't wait to see your next trick, {magician.title()}.\\n\")"
   ]
  },
  {
   "cell_type": "code",
   "execution_count": 5,
   "metadata": {
    "colab": {
     "base_uri": "https://localhost:8080/"
    },
    "executionInfo": {
     "elapsed": 46,
     "status": "ok",
     "timestamp": 1754689763123,
     "user": {
      "displayName": "RAFAEL RODRIGUEZ GOMEZ",
      "userId": "10898071014332961605"
     },
     "user_tz": 360
    },
    "id": "GyoXQNB2qHma",
    "outputId": "d2bfac85-bb4f-41e6-bb9c-2c064b4633e8"
   },
   "outputs": [
    {
     "name": "stdout",
     "output_type": "stream",
     "text": [
      "Alice, that was a great trick!\n",
      "I can't wait to see your next trick, Alice.\n",
      "\n",
      "David, that was a great trick!\n",
      "I can't wait to see your next trick, David.\n",
      "\n",
      "Carolina, that was a great trick!\n",
      "I can't wait to see your next trick, Carolina.\n",
      "\n",
      "Thank you, everyone. That was a great show!\n"
     ]
    }
   ],
   "source": [
    "magicians = ['alice', 'david', 'carolina']\n",
    "\n",
    "for magician in magicians:\n",
    "  print(f'{magician.title()}, that was a great trick!')\n",
    "  print(f\"I can't wait to see your next trick, {magician.title()}.\\n\")\n",
    "\n",
    "# Imprimimos un mensaje fuera del ciclo for\n",
    "print('Thank you, everyone. That was a great show!')"
   ]
  }
 ],
 "metadata": {
  "colab": {
   "authorship_tag": "ABX9TyOj+qQmPkDhtSO4231HYlAf",
   "generative_ai_disabled": true,
   "provenance": []
  },
  "kernelspec": {
   "display_name": "Python 3",
   "name": "python3"
  },
  "language_info": {
   "codemirror_mode": {
    "name": "ipython",
    "version": 3
   },
   "file_extension": ".py",
   "mimetype": "text/x-python",
   "name": "python",
   "nbconvert_exporter": "python",
   "pygments_lexer": "ipython3",
   "version": "3.13.2"
  }
 },
 "nbformat": 4,
 "nbformat_minor": 0
}
