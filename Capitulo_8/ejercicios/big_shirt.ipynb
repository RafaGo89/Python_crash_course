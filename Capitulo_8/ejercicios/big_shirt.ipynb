{
 "cells": [
  {
   "cell_type": "markdown",
   "id": "e81f0ff1",
   "metadata": {},
   "source": [
    "Modifique la función hacer_camiseta () para que las camisetas sean grandes por defecto con un mensaje que diga \"Me encanta Python\". Haga una camiseta grande y una mediana con el mensaje predeterminado y una de cualquier talla con un mensaje diferente."
   ]
  },
  {
   "cell_type": "code",
   "execution_count": 3,
   "id": "af9ad648",
   "metadata": {},
   "outputs": [
    {
     "name": "stdout",
     "output_type": "stream",
     "text": [
      "Se encargó una camiseta talla grande con el mensaje impreso \"Me encanta python\"\n",
      "Se encargó una camiseta talla mediana con el mensaje impreso \"Me encanta python\"\n",
      "Se encargó una camiseta talla chica con el mensaje impreso \"Me encanta Java\"\n"
     ]
    }
   ],
   "source": [
    "def hacer_camiseta(talla='grande', texto='Me encanta python'):\n",
    "    print(f'Se encargó una camiseta talla {talla} con el mensaje impreso \"{texto}\"')\n",
    "\n",
    "hacer_camiseta()\n",
    "hacer_camiseta(talla='mediana')\n",
    "hacer_camiseta(talla='chica', texto='Me encanta Java')"
   ]
  }
 ],
 "metadata": {
  "kernelspec": {
   "display_name": "Python 3",
   "language": "python",
   "name": "python3"
  },
  "language_info": {
   "codemirror_mode": {
    "name": "ipython",
    "version": 3
   },
   "file_extension": ".py",
   "mimetype": "text/x-python",
   "name": "python",
   "nbconvert_exporter": "python",
   "pygments_lexer": "ipython3",
   "version": "3.13.2"
  }
 },
 "nbformat": 4,
 "nbformat_minor": 5
}
