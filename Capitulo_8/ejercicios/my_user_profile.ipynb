{
 "cells": [
  {
   "cell_type": "markdown",
   "id": "ee612756",
   "metadata": {},
   "source": [
    "Empiece con una copia de user_profile.py.\n",
    "Haga un perfil suyo llamando a build_profile(), usando su nombre y\n",
    "apellido y otros tres pares clave-valor que le describan."
   ]
  },
  {
   "cell_type": "code",
   "execution_count": 3,
   "id": "9b353ba1",
   "metadata": {},
   "outputs": [
    {
     "name": "stdout",
     "output_type": "stream",
     "text": [
      "age: 22\n",
      "nationality: Mexican\n",
      "favorite_book: Solaris\n",
      "first_name: Rafa\n",
      "last_name: Gomez\n"
     ]
    }
   ],
   "source": [
    "def build_profile(first, last, **user_info):\n",
    "    \"\"\"Crea un diccionario con todo lo que sabemos sobre un usario\"\"\"\n",
    "    user_info['first_name'] = first\n",
    "    user_info['last_name'] = last\n",
    "    \n",
    "    return user_info\n",
    "\n",
    "my_profile = build_profile('Rafa', 'Gomez',\n",
    "                           age=22,\n",
    "                           nationality='Mexican',\n",
    "                           favorite_book='Solaris')\n",
    "\n",
    "for key, value in my_profile.items():\n",
    "    print(f'{key}: {value}')"
   ]
  }
 ],
 "metadata": {
  "kernelspec": {
   "display_name": "Python 3",
   "language": "python",
   "name": "python3"
  },
  "language_info": {
   "codemirror_mode": {
    "name": "ipython",
    "version": 3
   },
   "file_extension": ".py",
   "mimetype": "text/x-python",
   "name": "python",
   "nbconvert_exporter": "python",
   "pygments_lexer": "ipython3",
   "version": "3.13.2"
  }
 },
 "nbformat": 4,
 "nbformat_minor": 5
}
