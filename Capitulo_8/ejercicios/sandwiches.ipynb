{
 "cells": [
  {
   "cell_type": "markdown",
   "id": "f871a677",
   "metadata": {},
   "source": [
    "Escriba una función que acepte una lista de elementos\n",
    "que quiere una persona para un sándwich. La función debería tener un\n",
    "parámetro que recoja todos los argumentos que le dé la llamada e imprimir\n",
    "un resumen del sándwich que se está pidiendo. Llame a la función tres veces,\n",
    "usando un número distinto de argumentos cada vez."
   ]
  },
  {
   "cell_type": "code",
   "execution_count": 2,
   "id": "b307e8de",
   "metadata": {},
   "outputs": [
    {
     "name": "stdout",
     "output_type": "stream",
     "text": [
      "\n",
      "We are making a sandwich with the following ingredients:\n",
      "- ham\n",
      "\n",
      "We are making a sandwich with the following ingredients:\n",
      "- ham\n",
      "- tomato\n",
      "- lettuce\n",
      "\n",
      "We are making a sandwich with the following ingredients:\n",
      "- chicken\n",
      "- lettuce\n",
      "- mayonnaise\n",
      "- avocado\n"
     ]
    }
   ],
   "source": [
    "def make_sandwich(*ingredients):\n",
    "    print('\\nWe are making a sandwich with the following ingredients:')\n",
    "    for ingredient in ingredients:\n",
    "        print(f'- {ingredient}')\n",
    "\n",
    "make_sandwich('ham')\n",
    "make_sandwich('ham', 'tomato', 'lettuce')\n",
    "make_sandwich('chicken', 'lettuce', 'mayonnaise', 'avocado')"
   ]
  }
 ],
 "metadata": {
  "kernelspec": {
   "display_name": "Python 3",
   "language": "python",
   "name": "python3"
  },
  "language_info": {
   "codemirror_mode": {
    "name": "ipython",
    "version": 3
   },
   "file_extension": ".py",
   "mimetype": "text/x-python",
   "name": "python",
   "nbconvert_exporter": "python",
   "pygments_lexer": "ipython3",
   "version": "3.13.2"
  }
 },
 "nbformat": 4,
 "nbformat_minor": 5
}
