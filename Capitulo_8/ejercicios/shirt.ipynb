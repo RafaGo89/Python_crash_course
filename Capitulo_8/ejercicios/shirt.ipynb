{
 "cells": [
  {
   "cell_type": "markdown",
   "id": "eef96d1d",
   "metadata": {},
   "source": [
    "Escriba una función llamada hacer_camiseta() que acepte\n",
    "una talla y un texto para un mensaje que habría que imprimir en la camiseta.\n",
    "La función debería imprimir una frase resumiendo la talla de la camiseta y el\n",
    "mensaje impreso.\n",
    "\n",
    "Llame a la función una vez con argumentos posicionales para hacer una\n",
    "camiseta. Llame a la función por segunda vez usando argumentos de palabra\n",
    "clave."
   ]
  },
  {
   "cell_type": "code",
   "execution_count": 2,
   "id": "5dd8f064",
   "metadata": {},
   "outputs": [
    {
     "name": "stdout",
     "output_type": "stream",
     "text": [
      "Se encargó una camiseta talla mediana con el mensaje impreso \"¿Qué onda?\"\n",
      "Se encargó una camiseta talla chica con el mensaje impreso \"Arriba las chivas\"\n"
     ]
    }
   ],
   "source": [
    "def hacer_camiseta(talla, texto):\n",
    "    print(f'Se encargó una camiseta talla {talla} con el mensaje impreso \"{texto}\"')\n",
    "    \n",
    "hacer_camiseta('mediana', '¿Qué onda?')\n",
    "hacer_camiseta(texto='Arriba las chivas', talla='chica')"
   ]
  }
 ],
 "metadata": {
  "kernelspec": {
   "display_name": "Python 3",
   "language": "python",
   "name": "python3"
  },
  "language_info": {
   "codemirror_mode": {
    "name": "ipython",
    "version": 3
   },
   "file_extension": ".py",
   "mimetype": "text/x-python",
   "name": "python",
   "nbconvert_exporter": "python",
   "pygments_lexer": "ipython3",
   "version": "3.13.2"
  }
 },
 "nbformat": 4,
 "nbformat_minor": 5
}
