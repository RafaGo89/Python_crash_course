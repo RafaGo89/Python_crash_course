{
 "cells": [
  {
   "cell_type": "markdown",
   "id": "d5f32f18",
   "metadata": {},
   "source": [
    "Escriba una función llamada ciudad_pais()\n",
    "que admita el nombre de una ciudad y su país. La función debería devolver\n",
    "una cadena con formato, similar a esta:\n",
    "\n",
    "\"Santiago, Chile\"\n",
    "\n",
    "Llame a su función con al menos tres pares ciudad-país e imprima los valores\n",
    "devueltos."
   ]
  },
  {
   "cell_type": "code",
   "execution_count": null,
   "id": "f52522aa",
   "metadata": {},
   "outputs": [
    {
     "name": "stdout",
     "output_type": "stream",
     "text": [
      "Santiago, Chile\n",
      "Guadalajara, México\n",
      "Buenos Aires, Argentina\n"
     ]
    }
   ],
   "source": [
    "def ciudad_pais(ciudad, pais):\n",
    "    \"\"\"Devuelve una ciudad y un pais con un formato\"\"\"\n",
    "    ciudad_pais = f'{ciudad.title()}, {pais.title()}'\n",
    "    \n",
    "    return ciudad_pais\n",
    "\n",
    "formatted_city = ciudad_pais('santiago', 'chile')\n",
    "print(formatted_city)\n",
    "\n",
    "formatted_city = ciudad_pais('Guadalajara', 'México')\n",
    "print(formatted_city)\n",
    "\n",
    "formatted_city = ciudad_pais('buenos aires', 'argentina')\n",
    "print(formatted_city)"
   ]
  }
 ],
 "metadata": {
  "kernelspec": {
   "display_name": "Python 3",
   "language": "python",
   "name": "python3"
  },
  "language_info": {
   "codemirror_mode": {
    "name": "ipython",
    "version": 3
   },
   "file_extension": ".py",
   "mimetype": "text/x-python",
   "name": "python",
   "nbconvert_exporter": "python",
   "pygments_lexer": "ipython3",
   "version": "3.13.2"
  }
 },
 "nbformat": 4,
 "nbformat_minor": 5
}
