{
 "cells": [
  {
   "cell_type": "markdown",
   "id": "e3f112bb",
   "metadata": {},
   "source": [
    "Haga una lista con una serie de mensajes de texto cortos.\n",
    "Pásela a una función llamada mostrar_mensajes() que imprima cada\n",
    "mensaje."
   ]
  },
  {
   "cell_type": "code",
   "execution_count": 1,
   "id": "67efdff7",
   "metadata": {},
   "outputs": [
    {
     "name": "stdout",
     "output_type": "stream",
     "text": [
      "Hola\n",
      "Hello\n",
      "Bom dia\n"
     ]
    }
   ],
   "source": [
    "def mostrar_mensajes(messages):\n",
    "    \"\"\"Imprime una lista de mensajes\"\"\"\n",
    "    for message in messages:\n",
    "        print(message)\n",
    "\n",
    "msgs = ['Hola', 'Hello', 'Bom dia']\n",
    "\n",
    "mostrar_mensajes(msgs)"
   ]
  }
 ],
 "metadata": {
  "kernelspec": {
   "display_name": "Python 3",
   "language": "python",
   "name": "python3"
  },
  "language_info": {
   "codemirror_mode": {
    "name": "ipython",
    "version": 3
   },
   "file_extension": ".py",
   "mimetype": "text/x-python",
   "name": "python",
   "nbconvert_exporter": "python",
   "pygments_lexer": "ipython3",
   "version": "3.13.2"
  }
 },
 "nbformat": 4,
 "nbformat_minor": 5
}
