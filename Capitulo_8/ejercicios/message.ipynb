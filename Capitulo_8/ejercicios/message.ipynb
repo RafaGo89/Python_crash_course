{
 "cells": [
  {
   "cell_type": "markdown",
   "id": "9771fdd6",
   "metadata": {},
   "source": [
    "Escriba una función llamada mostrar_mensaje() que\n",
    "imprima una oración diciendo a todos lo que está aprendiendo en este\n",
    "capítulo. Llame a la función y asegúrese de que el mensaje se muestra\n",
    "correctamente."
   ]
  },
  {
   "cell_type": "code",
   "execution_count": null,
   "id": "a0b35e99",
   "metadata": {},
   "outputs": [
    {
     "name": "stdout",
     "output_type": "stream",
     "text": [
      "Hola a todos los que están aprendiendo acerca de funciones\n"
     ]
    }
   ],
   "source": [
    "def mostrar_mensaje():\n",
    "    \"\"\"Devuelve un mensaje de saludo\"\"\"\n",
    "    print('Hola a todos los que están aprendiendo acerca de funciones')\n",
    "    \n",
    "mostrar_mensaje()"
   ]
  }
 ],
 "metadata": {
  "kernelspec": {
   "display_name": "Python 3",
   "language": "python",
   "name": "python3"
  },
  "language_info": {
   "codemirror_mode": {
    "name": "ipython",
    "version": 3
   },
   "file_extension": ".py",
   "mimetype": "text/x-python",
   "name": "python",
   "nbconvert_exporter": "python",
   "pygments_lexer": "ipython3",
   "version": "3.13.2"
  }
 },
 "nbformat": 4,
 "nbformat_minor": 5
}
