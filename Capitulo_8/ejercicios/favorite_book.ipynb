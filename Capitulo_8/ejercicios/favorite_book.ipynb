{
 "cells": [
  {
   "cell_type": "markdown",
   "id": "ace43282",
   "metadata": {},
   "source": [
    "Escriba una función llamada libro_favorito() que\n",
    "acepte un parámetro título. La función debería imprimir un mensaje como\n",
    "\"Uno de mis libros favoritos es Alicia en el País de las Maravillas\". Llame\n",
    "a la función, asegurándose de incluir el título de un libro como argumento en\n",
    "la llamada a la función."
   ]
  },
  {
   "cell_type": "code",
   "execution_count": 2,
   "id": "077aa06a",
   "metadata": {},
   "outputs": [
    {
     "name": "stdout",
     "output_type": "stream",
     "text": [
      "Uno de mis libros favoritos es Solaris\n",
      "Uno de mis libros favoritos es 1984\n"
     ]
    }
   ],
   "source": [
    "def libro_favorito(libro):\n",
    "    print(f'Uno de mis libros favoritos es {libro.title()}')\n",
    "\n",
    "libro_favorito('Solaris')\n",
    "libro_favorito('1984')"
   ]
  }
 ],
 "metadata": {
  "kernelspec": {
   "display_name": "Python 3",
   "language": "python",
   "name": "python3"
  },
  "language_info": {
   "codemirror_mode": {
    "name": "ipython",
    "version": 3
   },
   "file_extension": ".py",
   "mimetype": "text/x-python",
   "name": "python",
   "nbconvert_exporter": "python",
   "pygments_lexer": "ipython3",
   "version": "3.13.2"
  }
 },
 "nbformat": 4,
 "nbformat_minor": 5
}
