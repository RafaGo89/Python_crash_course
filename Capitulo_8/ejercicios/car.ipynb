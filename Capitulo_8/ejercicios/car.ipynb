{
 "cells": [
  {
   "cell_type": "markdown",
   "id": "c26ed76e",
   "metadata": {},
   "source": [
    "Escriba una función que guarde información sobre un coche\n",
    "en un diccionario. Debería recibir siempre un fabricante y un nombre de\n",
    "modelo y aceptar después un número arbitrario de argumentos de palabra\n",
    "clave. Llame a la función con la información requerida y otros dos pares\n",
    "nombre-valor, como un color o una prestación opcional. Su función debería\n",
    "funcionar para una llamada como esta:\n",
    "\n",
    "` car = make_car('subaru', 'outback', color='blue', tow_package=True)` "
   ]
  },
  {
   "cell_type": "code",
   "execution_count": 1,
   "id": "d5a892bf",
   "metadata": {},
   "outputs": [
    {
     "name": "stdout",
     "output_type": "stream",
     "text": [
      "color: blue\n",
      "tow_package: True\n",
      "manufacturer: subaru\n",
      "model_name: outback\n"
     ]
    }
   ],
   "source": [
    "def make_car(producer, model, **car_info):\n",
    "    \"\"\"Crea un diccionario con información acerca de un carro\"\"\"\n",
    "    car_info['manufacturer'] = producer\n",
    "    car_info['model_name'] = model\n",
    "    \n",
    "    return car_info\n",
    "\n",
    "car = make_car('subaru', 'outback', color='blue', tow_package=True)\n",
    "\n",
    "for key, value in car.items():\n",
    "    print(f'{key}: {value}')"
   ]
  }
 ],
 "metadata": {
  "kernelspec": {
   "display_name": "Python 3",
   "language": "python",
   "name": "python3"
  },
  "language_info": {
   "codemirror_mode": {
    "name": "ipython",
    "version": 3
   },
   "file_extension": ".py",
   "mimetype": "text/x-python",
   "name": "python",
   "nbconvert_exporter": "python",
   "pygments_lexer": "ipython3",
   "version": "3.13.2"
  }
 },
 "nbformat": 4,
 "nbformat_minor": 5
}
