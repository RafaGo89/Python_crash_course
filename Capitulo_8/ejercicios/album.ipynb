{
 "cells": [
  {
   "cell_type": "markdown",
   "id": "15394a18",
   "metadata": {},
   "source": [
    "Escriba una función llamada hacer_album() que cree un\n",
    "diccionario para describir un álbum musical. La función debería aceptar un nombre de artista y un título de álbum y debería devolver un diccionario con\n",
    "estas dos informaciones. Use la función para hacer tres diccionarios que\n",
    "representen distintos álbumes. Imprima cada valor devuelto para comprobar\n",
    "que los diccionarios están almacenando bien la información.\n",
    "\n",
    "Use None para añadir un parámetro opcional a hacer_album() que permita\n",
    "guardar el número de canciones que contiene un álbum. Si la línea de\n",
    "llamada incluye un valor para el número de canciones, añádalo al\n",
    "diccionario del álbum. Haga al menos una nueva llamada a la función que\n",
    "incluya este dato."
   ]
  },
  {
   "cell_type": "code",
   "execution_count": 2,
   "id": "270e31e0",
   "metadata": {},
   "outputs": [
    {
     "name": "stdout",
     "output_type": "stream",
     "text": [
      "{'artista': 'mark foster', 'nombre_album': 'supermodel'}\n",
      "{'artista': 'mark foster', 'nombre_album': 'torches'}\n",
      "{'artista': 'luis miguel', 'nombre_album': 'nada es igual'}\n",
      "{'artista': 'banda el recodo', 'nombre_album': 'me gusta todo de ti', 'num_canciones': 12}\n"
     ]
    }
   ],
   "source": [
    "def hacer_album(artista, nombre_album, num_canciones=None):\n",
    "    \"\"\"Devuelve un diccionario con información acerca de un album\"\"\"\n",
    "    album = {'artista': artista, 'nombre_album': nombre_album}\n",
    "    if num_canciones:\n",
    "        album['num_canciones'] = num_canciones\n",
    "    \n",
    "    return album\n",
    "\n",
    "nuevo_album = hacer_album('mark foster', 'supermodel')\n",
    "print(nuevo_album)\n",
    "\n",
    "nuevo_album = hacer_album('mark foster', 'torches')\n",
    "print(nuevo_album)\n",
    "\n",
    "nuevo_album = hacer_album('luis miguel', 'nada es igual')\n",
    "print(nuevo_album)\n",
    "\n",
    "nuevo_album = hacer_album('banda el recodo', 'me gusta todo de ti', 12)\n",
    "print(nuevo_album)"
   ]
  }
 ],
 "metadata": {
  "kernelspec": {
   "display_name": "Python 3",
   "language": "python",
   "name": "python3"
  },
  "language_info": {
   "codemirror_mode": {
    "name": "ipython",
    "version": 3
   },
   "file_extension": ".py",
   "mimetype": "text/x-python",
   "name": "python",
   "nbconvert_exporter": "python",
   "pygments_lexer": "ipython3",
   "version": "3.13.2"
  }
 },
 "nbformat": 4,
 "nbformat_minor": 5
}
