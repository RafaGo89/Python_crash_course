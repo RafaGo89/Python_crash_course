{
 "cells": [
  {
   "cell_type": "markdown",
   "id": "878576a6",
   "metadata": {},
   "source": [
    "Escriba una función llamada describir_ciudad() que\n",
    "acepte el nombre de una ciudad y su país. La función debería imprimir una\n",
    "oración simple, como \"Reikiavik está en Islandia\". Dé al parámetro del país\n",
    "un valor predeterminado. Llame a la función para tres ciudades diferentes,\n",
    "con al menos una que no esté en el país predeterminado."
   ]
  },
  {
   "cell_type": "code",
   "execution_count": 2,
   "id": "66c01996",
   "metadata": {},
   "outputs": [
    {
     "name": "stdout",
     "output_type": "stream",
     "text": [
      "San José está en Costa Rica\n",
      "Guadalajara está en México\n",
      "San Luis Potosí está en México\n"
     ]
    }
   ],
   "source": [
    "def describir_ciudad(ciudad, pais='México'):\n",
    "    print(f'{ciudad.title()} está en {pais.title()}')\n",
    "    \n",
    "describir_ciudad('san josé', 'costa rica')\n",
    "describir_ciudad('Guadalajara')\n",
    "describir_ciudad('san luis potosí')"
   ]
  }
 ],
 "metadata": {
  "kernelspec": {
   "display_name": "Python 3",
   "language": "python",
   "name": "python3"
  },
  "language_info": {
   "codemirror_mode": {
    "name": "ipython",
    "version": 3
   },
   "file_extension": ".py",
   "mimetype": "text/x-python",
   "name": "python",
   "nbconvert_exporter": "python",
   "pygments_lexer": "ipython3",
   "version": "3.13.2"
  }
 },
 "nbformat": 4,
 "nbformat_minor": 5
}
