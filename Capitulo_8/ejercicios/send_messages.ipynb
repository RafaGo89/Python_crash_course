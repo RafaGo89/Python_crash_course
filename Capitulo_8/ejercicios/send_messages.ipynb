{
 "cells": [
  {
   "cell_type": "markdown",
   "id": "a02a6213",
   "metadata": {},
   "source": [
    "Empiece con una copia del programa del\n",
    "ejercicio 8-9. Escriba una función llamada enviar_mensajes() que imprima\n",
    "cada mensaje de texto y lo mueva a una nueva lista denominada\n",
    "mensajes_enviados a medida que imprime. Después de llamar a la función,\n",
    "imprima ambas listas para asegurarse de que los mensajes se han movido\n",
    "correctamente."
   ]
  },
  {
   "cell_type": "code",
   "execution_count": 6,
   "id": "18c87d68",
   "metadata": {},
   "outputs": [
    {
     "name": "stdout",
     "output_type": "stream",
     "text": [
      "Sending -> Bom dia\n",
      "Sending -> Hello\n",
      "Sending -> Hola\n",
      "Mensajes que se iban a enviar: []\n",
      "Mensajes enviados: ['Bom dia', 'Hello', 'Hola']\n"
     ]
    }
   ],
   "source": [
    "def enviar_mensajes(messages, sent_messages):\n",
    "    \"\"\"Imprime una lista de mensajes y los pasa de una lista a otra\"\"\"\n",
    "    while messages:\n",
    "        mensaje_actual = messages.pop()\n",
    "        print(f'Sending -> {mensaje_actual}')\n",
    "        sent_messages.append(mensaje_actual)\n",
    "\n",
    "mensajes = ['Hola', 'Hello', 'Bom dia']\n",
    "mensajes_enviados = []\n",
    "\n",
    "enviar_mensajes(mensajes, mensajes_enviados)\n",
    "print(f'Mensajes que se iban a enviar: {mensajes}')\n",
    "print(f'Mensajes enviados: {mensajes_enviados}')"
   ]
  },
  {
   "cell_type": "code",
   "execution_count": 8,
   "id": "99d96d50",
   "metadata": {},
   "outputs": [
    {
     "name": "stdout",
     "output_type": "stream",
     "text": [
      "Sending -> Bom dia\n",
      "Sending -> Hello\n",
      "Sending -> Hola\n",
      "Mensajes que se iban a enviar: ['Hola', 'Hello', 'Bom dia']\n",
      "Mensajes enviados: ['Bom dia', 'Hello', 'Hola']\n"
     ]
    }
   ],
   "source": [
    "def enviar_mensajes(messages, sent_messages):\n",
    "    \"\"\"Imprime una lista de mensajes y los pasa de una lista a otra\"\"\"\n",
    "    while messages:\n",
    "        mensaje_actual = messages.pop()\n",
    "        print(f'Sending -> {mensaje_actual}')\n",
    "        sent_messages.append(mensaje_actual)\n",
    "\n",
    "mensajes = ['Hola', 'Hello', 'Bom dia']\n",
    "mensajes_enviados = []\n",
    "\n",
    "# Enviamos una copia de la lista de mensajes\n",
    "enviar_mensajes(mensajes[:], mensajes_enviados)\n",
    "print(f'Mensajes que se iban a enviar: {mensajes}')\n",
    "print(f'Mensajes enviados: {mensajes_enviados}')"
   ]
  }
 ],
 "metadata": {
  "kernelspec": {
   "display_name": "Python 3",
   "language": "python",
   "name": "python3"
  },
  "language_info": {
   "codemirror_mode": {
    "name": "ipython",
    "version": 3
   },
   "file_extension": ".py",
   "mimetype": "text/x-python",
   "name": "python",
   "nbconvert_exporter": "python",
   "pygments_lexer": "ipython3",
   "version": "3.13.2"
  }
 },
 "nbformat": 4,
 "nbformat_minor": 5
}
