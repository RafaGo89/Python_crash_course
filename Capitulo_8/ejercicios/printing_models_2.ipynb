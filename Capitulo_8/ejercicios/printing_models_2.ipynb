{
 "cells": [
  {
   "cell_type": "markdown",
   "id": "2c0daf6b",
   "metadata": {},
   "source": [
    "Ponga las funciones del ejemplo\n",
    "printing_models.py en un archivo aparte llamado printing_functions.py.\n",
    "Escriba una sentencia import en la parte superior de printing_models.py y\n",
    "modifique el archivo para usar las funciones importadas."
   ]
  },
  {
   "cell_type": "code",
   "execution_count": 2,
   "id": "5e30b34d",
   "metadata": {},
   "outputs": [
    {
     "name": "stdout",
     "output_type": "stream",
     "text": [
      "Printing model: dodecahedron...\n",
      "Printing model: goku figure...\n",
      "Printing model: phone case...\n",
      "\n",
      "The following models have been printed:\n",
      "dodecahedron\n",
      "goku figure\n",
      "phone case\n"
     ]
    }
   ],
   "source": [
    "import printing_functions as pf\n",
    "\n",
    "unprinted_models = ['phone case', 'goku figure', 'dodecahedron']\n",
    "completed_models = []\n",
    "\n",
    "pf.print_models(unprinted_models, completed_models)\n",
    "pf.show_completed_models(completed_models)"
   ]
  }
 ],
 "metadata": {
  "kernelspec": {
   "display_name": "Python 3",
   "language": "python",
   "name": "python3"
  },
  "language_info": {
   "codemirror_mode": {
    "name": "ipython",
    "version": 3
   },
   "file_extension": ".py",
   "mimetype": "text/x-python",
   "name": "python",
   "nbconvert_exporter": "python",
   "pygments_lexer": "ipython3",
   "version": "3.13.2"
  }
 },
 "nbformat": 4,
 "nbformat_minor": 5
}
