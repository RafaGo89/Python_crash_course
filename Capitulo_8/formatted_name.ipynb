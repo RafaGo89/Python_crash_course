{
 "cells": [
  {
   "cell_type": "code",
   "execution_count": null,
   "id": "9bce179b",
   "metadata": {},
   "outputs": [
    {
     "name": "stdout",
     "output_type": "stream",
     "text": [
      "Jimi Hendrix\n"
     ]
    }
   ],
   "source": [
    "# Función que devuelve un solo valor\n",
    "def get_formatted_name(first_name, last_name):\n",
    "    \"\"\"Devuelve un nombre completo con formato limpio\"\"\"\n",
    "    full_name = f'{first_name} {last_name}'\n",
    "    \n",
    "    return full_name.title()\n",
    "\n",
    "musician = get_formatted_name('jimi', 'hendrix')\n",
    "print(musician)"
   ]
  },
  {
   "cell_type": "code",
   "execution_count": null,
   "id": "4d997213",
   "metadata": {},
   "outputs": [
    {
     "name": "stdout",
     "output_type": "stream",
     "text": [
      "Jimi Hendrix\n",
      "John Lee Hooker\n"
     ]
    }
   ],
   "source": [
    "# Función con argumento opcional\n",
    "# Middle name no es obligaorio, por ello su valor default es ''\n",
    "def get_formatted_name(first_name, last_name, middle_name=''):\n",
    "    \"\"\"Devuelve un nombre completo con formato limpio\"\"\"\n",
    "    # Si middle NO está vacía\n",
    "    if middle_name:\n",
    "        full_name = f'{first_name} {middle_name} {last_name}'\n",
    "    # Si middle name ESTÁ vacía\n",
    "    else:\n",
    "        full_name = f'{first_name} {last_name}'\n",
    "    \n",
    "    return full_name.title()\n",
    "\n",
    "musician = get_formatted_name('jimi', 'hendrix')\n",
    "print(musician)\n",
    "\n",
    "musician = get_formatted_name('john', 'hooker', 'lee')\n",
    "print(musician)"
   ]
  }
 ],
 "metadata": {
  "kernelspec": {
   "display_name": "Python 3",
   "language": "python",
   "name": "python3"
  },
  "language_info": {
   "codemirror_mode": {
    "name": "ipython",
    "version": 3
   },
   "file_extension": ".py",
   "mimetype": "text/x-python",
   "name": "python",
   "nbconvert_exporter": "python",
   "pygments_lexer": "ipython3",
   "version": "3.13.2"
  }
 },
 "nbformat": 4,
 "nbformat_minor": 5
}
