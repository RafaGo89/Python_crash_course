{
 "cells": [
  {
   "cell_type": "code",
   "execution_count": null,
   "id": "e59f5f49",
   "metadata": {},
   "outputs": [
    {
     "name": "stdout",
     "output_type": "stream",
     "text": [
      "{'first': 'jimix', 'last': 'hendrix'}\n"
     ]
    }
   ],
   "source": [
    "# Función que devuelve un diccionario\n",
    "def build_person(first_name, last_name):\n",
    "    \"\"\"Devuelve un diccionario de información sobre una persona\"\"\"\n",
    "    person = {'first': first_name, 'last': last_name}\n",
    "    \n",
    "    return person\n",
    "\n",
    "musician = build_person('jimix', 'hendrix')\n",
    "print(musician)"
   ]
  },
  {
   "cell_type": "code",
   "execution_count": null,
   "id": "38caf4b2",
   "metadata": {},
   "outputs": [
    {
     "name": "stdout",
     "output_type": "stream",
     "text": [
      "{'first': 'jimix', 'last': 'hendrix', 'age': 27}\n",
      "{'first': 'mark', 'last': 'foster'}\n"
     ]
    }
   ],
   "source": [
    "# Función que devuelve un diccionario con argumento opcional\n",
    "def build_person(first_name, last_name, age = None):\n",
    "    \"\"\"Devuelve un diccionario de información sobre una persona\"\"\"\n",
    "    person = {'first': first_name, 'last': last_name}\n",
    "    # Si se paso edad como argumento se agrega al diccionario\n",
    "    if age:\n",
    "        person['age'] = age\n",
    "    \n",
    "    return person\n",
    "\n",
    "musician = build_person('jimix', 'hendrix', age=27)\n",
    "print(musician)\n",
    "\n",
    "musician = build_person('mark', 'foster')\n",
    "print(musician)"
   ]
  }
 ],
 "metadata": {
  "kernelspec": {
   "display_name": "Python 3",
   "language": "python",
   "name": "python3"
  },
  "language_info": {
   "codemirror_mode": {
    "name": "ipython",
    "version": 3
   },
   "file_extension": ".py",
   "mimetype": "text/x-python",
   "name": "python",
   "nbconvert_exporter": "python",
   "pygments_lexer": "ipython3",
   "version": "3.13.2"
  }
 },
 "nbformat": 4,
 "nbformat_minor": 5
}
