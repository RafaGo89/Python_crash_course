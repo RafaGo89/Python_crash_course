{
 "cells": [
  {
   "cell_type": "code",
   "execution_count": 2,
   "id": "91096c9c",
   "metadata": {},
   "outputs": [
    {
     "name": "stdout",
     "output_type": "stream",
     "text": [
      "\n",
      "I have a hamster.\n",
      "My hamster's name is Harry.\n",
      "\n",
      "I have a cat.\n",
      "My cat's name is Richard Parker.\n"
     ]
    }
   ],
   "source": [
    "# Función con argumentos posicionales\n",
    "def describe_pet(animal_type, pet_name):\n",
    "    \"\"\"Muestra información sobre una mascota\"\"\"\n",
    "    print(f'\\nI have a {animal_type}.')\n",
    "    print(f\"My {animal_type}'s name is {pet_name.title()}.\")\n",
    "    \n",
    "# Cuando llamamos a describe_pet(),\n",
    "# necesitamos dar un tipo de animal y un nombre, en ese orden.\n",
    "describe_pet('hamster', 'harry')\n",
    "describe_pet('cat', 'richard parker')"
   ]
  },
  {
   "cell_type": "code",
   "execution_count": null,
   "id": "ad891b5e",
   "metadata": {},
   "outputs": [
    {
     "name": "stdout",
     "output_type": "stream",
     "text": [
      "\n",
      "I have a hamster.\n",
      "My hamster's name is Harry.\n"
     ]
    }
   ],
   "source": [
    "# Función con argumentos de palabra clave\n",
    "def describe_pet(animal_type, pet_name):\n",
    "    \"\"\"Muestra información sobre una mascota\"\"\"\n",
    "    print(f'\\nI have a {animal_type}.')\n",
    "    print(f\"My {animal_type}'s name is {pet_name.title()}.\")\n",
    "    \n",
    "# Con este tipo de función decimos explícitamente a Python \n",
    "# con qué parámetro debe asociarse cada argumento.\n",
    "describe_pet(animal_type='hamster', pet_name='harry')"
   ]
  },
  {
   "cell_type": "code",
   "execution_count": null,
   "id": "a47e1e05",
   "metadata": {},
   "outputs": [
    {
     "name": "stdout",
     "output_type": "stream",
     "text": [
      "\n",
      "I have a dog.\n",
      "My dog's name is Willie.\n"
     ]
    }
   ],
   "source": [
    "# Función con valores predeterminados\n",
    "# El valor 'dog' para animal_type es el predeterminado cuando no se especifica\n",
    "# animal_typle al llamar a la función\n",
    "def describe_pet(pet_name, animal_type='dog'):\n",
    "    \"\"\"Muestra información sobre una mascota\"\"\"\n",
    "    print(f'\\nI have a {animal_type}.')\n",
    "    print(f\"My {animal_type}'s name is {pet_name.title()}.\")\n",
    "    \n",
    "describe_pet(pet_name='willie')"
   ]
  }
 ],
 "metadata": {
  "kernelspec": {
   "display_name": "Python 3",
   "language": "python",
   "name": "python3"
  },
  "language_info": {
   "codemirror_mode": {
    "name": "ipython",
    "version": 3
   },
   "file_extension": ".py",
   "mimetype": "text/x-python",
   "name": "python",
   "nbconvert_exporter": "python",
   "pygments_lexer": "ipython3",
   "version": "3.13.2"
  }
 },
 "nbformat": 4,
 "nbformat_minor": 5
}
