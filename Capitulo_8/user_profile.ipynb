{
 "cells": [
  {
   "cell_type": "code",
   "execution_count": null,
   "id": "e6cabb2f",
   "metadata": {},
   "outputs": [
    {
     "name": "stdout",
     "output_type": "stream",
     "text": [
      "{'location': 'princenton', 'field': 'physics', 'first_name': 'albert', 'last_name': 'einstein'}\n"
     ]
    }
   ],
   "source": [
    "# Función con argumentos de palabra clave arbitrarios\n",
    "def build_profile(first, last, **user_info):\n",
    "    \"\"\"Crea un diccionario con todo lo que sabemos sobre un usario\"\"\"\n",
    "    user_info['first_name'] = first\n",
    "    user_info['last_name'] = last\n",
    "    \n",
    "    return user_info\n",
    "\n",
    "# Gracias al argumento **user_info podemos pasar tantos datos clave-valor\n",
    "# como queramos\n",
    "user_profile = build_profile('albert', 'einstein', \n",
    "                             location='princenton',\n",
    "                             field='physics')\n",
    "print(user_profile)"
   ]
  }
 ],
 "metadata": {
  "kernelspec": {
   "display_name": "Python 3",
   "language": "python",
   "name": "python3"
  },
  "language_info": {
   "codemirror_mode": {
    "name": "ipython",
    "version": 3
   },
   "file_extension": ".py",
   "mimetype": "text/x-python",
   "name": "python",
   "nbconvert_exporter": "python",
   "pygments_lexer": "ipython3",
   "version": "3.13.2"
  }
 },
 "nbformat": 4,
 "nbformat_minor": 5
}
