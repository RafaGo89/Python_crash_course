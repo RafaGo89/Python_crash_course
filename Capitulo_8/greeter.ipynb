{
 "cells": [
  {
   "cell_type": "code",
   "execution_count": null,
   "id": "1dd2f3cc",
   "metadata": {},
   "outputs": [
    {
     "name": "stdout",
     "output_type": "stream",
     "text": [
      "Hello!\n"
     ]
    }
   ],
   "source": [
    "# Creamos una función para saludar\n",
    "def greet_user():\n",
    "    \"\"\"Muestra un simple saludo\"\"\"\n",
    "    print('Hello!')\n",
    "    \n",
    "greet_user()"
   ]
  },
  {
   "cell_type": "code",
   "execution_count": null,
   "id": "7f49d51a",
   "metadata": {},
   "outputs": [
    {
     "name": "stdout",
     "output_type": "stream",
     "text": [
      "Hello, Thiare\n"
     ]
    }
   ],
   "source": [
    "# Creamos una función para saludar que recibe un parametro\n",
    "def greet_user(username):\n",
    "    \"\"\"Muestra un simple saludo\"\"\"\n",
    "    print(f'Hello, {username.title()}')\n",
    "    \n",
    "greet_user('thiare')"
   ]
  }
 ],
 "metadata": {
  "kernelspec": {
   "display_name": "Python 3",
   "language": "python",
   "name": "python3"
  },
  "language_info": {
   "codemirror_mode": {
    "name": "ipython",
    "version": 3
   },
   "file_extension": ".py",
   "mimetype": "text/x-python",
   "name": "python",
   "nbconvert_exporter": "python",
   "pygments_lexer": "ipython3",
   "version": "3.13.2"
  }
 },
 "nbformat": 4,
 "nbformat_minor": 5
}
