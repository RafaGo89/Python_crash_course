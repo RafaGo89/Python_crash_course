{
 "cells": [
  {
   "cell_type": "code",
   "execution_count": 1,
   "metadata": {
    "colab": {
     "base_uri": "https://localhost:8080/"
    },
    "executionInfo": {
     "elapsed": 33,
     "status": "ok",
     "timestamp": 1757279880915,
     "user": {
      "displayName": "RAFAEL RODRIGUEZ GOMEZ",
      "userId": "10898071014332961605"
     },
     "user_tz": 360
    },
    "id": "w5mYfCZ4CoNf",
    "outputId": "fce3cdef-56d3-4e87-a6e0-4928f7c34a52"
   },
   "outputs": [
    {
     "name": "stdout",
     "output_type": "stream",
     "text": [
      "Hello!\n"
     ]
    }
   ],
   "source": [
    "# Creamos una función para saludar\n",
    "def greet_user():\n",
    "    \"\"\"Muestra un simple saludo\"\"\"\n",
    "    print('Hello!')\n",
    "\n",
    "greet_user()"
   ]
  },
  {
   "cell_type": "code",
   "execution_count": 2,
   "metadata": {
    "colab": {
     "base_uri": "https://localhost:8080/"
    },
    "executionInfo": {
     "elapsed": 17,
     "status": "ok",
     "timestamp": 1757279899536,
     "user": {
      "displayName": "RAFAEL RODRIGUEZ GOMEZ",
      "userId": "10898071014332961605"
     },
     "user_tz": 360
    },
    "id": "WYS1jzKJCy1X",
    "outputId": "0d36e151-ac53-43fe-9f5c-06141d7a3ff2"
   },
   "outputs": [
    {
     "name": "stdout",
     "output_type": "stream",
     "text": [
      "Hello, Thiare\n"
     ]
    }
   ],
   "source": [
    "# Creamos una función para saludar que recibe un parametro\n",
    "def greet_user(username):\n",
    "    \"\"\"Muestra un simple saludo\"\"\"\n",
    "    print(f'Hello, {username.title()}')\n",
    "\n",
    "greet_user('thiare')"
   ]
  },
  {
   "cell_type": "code",
   "execution_count": 3,
   "metadata": {
    "colab": {
     "base_uri": "https://localhost:8080/"
    },
    "executionInfo": {
     "elapsed": 16224,
     "status": "ok",
     "timestamp": 1757279929962,
     "user": {
      "displayName": "RAFAEL RODRIGUEZ GOMEZ",
      "userId": "10898071014332961605"
     },
     "user_tz": 360
    },
    "id": "KTElUDrBC1mm",
    "outputId": "952c8a59-bbdc-4d19-c942-66e418f92dd9"
   },
   "outputs": [
    {
     "name": "stdout",
     "output_type": "stream",
     "text": [
      "\n",
      "Please tell me your name:\n",
      "(enter \"q\" at any time to quit)\n",
      "First name: Rafa\n",
      "Last name: Gómez\n",
      "\n",
      "Hello, Rafa Gómez\n",
      "\n",
      "Please tell me your name:\n",
      "(enter \"q\" at any time to quit)\n",
      "First name: Thiare\n",
      "Last name: Rodríguez\n",
      "\n",
      "Hello, Thiare Rodríguez\n",
      "\n",
      "Please tell me your name:\n",
      "(enter \"q\" at any time to quit)\n",
      "First name: q\n"
     ]
    }
   ],
   "source": [
    "def get_formatted_name(first_name, last_name):\n",
    "    \"\"\"Devuelve un nombre completo con formato limpio\"\"\"\n",
    "    full_name = f'{first_name} {last_name}'\n",
    "\n",
    "    return full_name.title()\n",
    "\n",
    "# Realizamos un ciclo WHILE para saludar empleando la función\n",
    "# get_formatted_name()\n",
    "while True:\n",
    "    print('\\nPlease tell me your name:')\n",
    "    print('(enter \"q\" at any time to quit)')\n",
    "\n",
    "    f_name = input('First name: ')\n",
    "    if f_name == 'q':\n",
    "        break\n",
    "\n",
    "    l_name = input('Last name: ')\n",
    "    if l_name == 'q':\n",
    "        break\n",
    "\n",
    "    formatted_name = get_formatted_name(f_name, l_name)\n",
    "    print(f'\\nHello, {formatted_name}')"
   ]
  }
 ],
 "metadata": {
  "colab": {
   "authorship_tag": "ABX9TyOgK8xI0/omYoKIfGIXhGeJ",
   "provenance": []
  },
  "kernelspec": {
   "display_name": "Python 3",
   "name": "python3"
  },
  "language_info": {
   "name": "python",
   "version": "3.13.2"
  }
 },
 "nbformat": 4,
 "nbformat_minor": 0
}
