{
 "cells": [
  {
   "cell_type": "code",
   "execution_count": null,
   "id": "66336b64",
   "metadata": {},
   "outputs": [
    {
     "name": "stdout",
     "output_type": "stream",
     "text": [
      "Hello, Margot\n",
      "Hello, Thiare\n",
      "Hello, Perla\n"
     ]
    }
   ],
   "source": [
    "def greet_users(names):\n",
    "    \"\"\"Imprime un saludo sencillo para cada usario de la lista\"\"\"\n",
    "    for name in names:\n",
    "        msg = f'Hello, {name.title()}'\n",
    "        print(msg)\n",
    "        \n",
    "usernames = ['margot', 'thiare', 'perla']\n",
    "greet_users(usernames)"
   ]
  }
 ],
 "metadata": {
  "kernelspec": {
   "display_name": "Python 3",
   "language": "python",
   "name": "python3"
  },
  "language_info": {
   "codemirror_mode": {
    "name": "ipython",
    "version": 3
   },
   "file_extension": ".py",
   "mimetype": "text/x-python",
   "name": "python",
   "nbconvert_exporter": "python",
   "pygments_lexer": "ipython3",
   "version": "3.13.2"
  }
 },
 "nbformat": 4,
 "nbformat_minor": 5
}
