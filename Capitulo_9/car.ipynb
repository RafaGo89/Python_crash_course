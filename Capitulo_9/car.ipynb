{
 "cells": [
  {
   "cell_type": "code",
   "execution_count": 26,
   "id": "cff48905",
   "metadata": {},
   "outputs": [],
   "source": [
    "class Car:\n",
    "    \"\"\"Un simple intento de representar un carro.\"\"\"\n",
    "    \n",
    "    def __init__(self, make, model, year):\n",
    "        \"\"\"Inicializa atributos para describir un carro.\"\"\"\n",
    "        self.make = make\n",
    "        self.model = model\n",
    "        self.year = year\n",
    "        self.odometer_reading = 0 # Kilometraje, siempre incia como 0\n",
    "    \n",
    "    def get_descriptive_name(self):\n",
    "        \"\"\"Devuelve un nombre descriptivo con el formato adecuado.\"\"\"\n",
    "        long_name = f'{self.year} {self.make} {self.model}'\n",
    "        \n",
    "        return long_name.title()\n",
    "    \n",
    "    def read_odometer(self):\n",
    "        \"\"\"Imprime una oración que indica el kilometraje del carro.\"\"\"\n",
    "        print(f'This car has {self.odometer_reading} miles on it.')\n",
    "        \n",
    "    def update_odometer(self, mileage):\n",
    "        \"\"\"Configura el kilometraje con el valor dado.\n",
    "        Rechza el cambio si se intenta hacer retroceder el cuentakilometros\"\"\"\n",
    "        if mileage >= self.odometer_reading:\n",
    "            self.odometer_reading = mileage\n",
    "        else:\n",
    "            print(\"You can't roll back an odometer!\")\n",
    "    \n",
    "    def increment_odometer(self, miles):\n",
    "        \"\"\"Añade la cantidad dada a la lectura del cuentakilometros\"\"\"\n",
    "        self.odometer_reading += miles"
   ]
  },
  {
   "cell_type": "code",
   "execution_count": 27,
   "id": "cccc55b2",
   "metadata": {},
   "outputs": [
    {
     "name": "stdout",
     "output_type": "stream",
     "text": [
      "2019 Audi A4\n",
      "This car has 0 miles on it.\n"
     ]
    }
   ],
   "source": [
    "# Creamos un coche nuevo\n",
    "my_new_car = Car('audi', 'a4', '2019')\n",
    "print(my_new_car.get_descriptive_name())\n",
    "my_new_car.read_odometer()"
   ]
  },
  {
   "cell_type": "code",
   "execution_count": 28,
   "id": "048fc826",
   "metadata": {},
   "outputs": [
    {
     "name": "stdout",
     "output_type": "stream",
     "text": [
      "This car has 23 miles on it.\n"
     ]
    }
   ],
   "source": [
    "# Cambiamos el valor del kilometraje por medio del atributo directamente\n",
    "my_new_car.odometer_reading = 23\n",
    "my_new_car.read_odometer()"
   ]
  },
  {
   "cell_type": "code",
   "execution_count": 29,
   "id": "1efa3b59",
   "metadata": {},
   "outputs": [
    {
     "name": "stdout",
     "output_type": "stream",
     "text": [
      "This car has 30 miles on it.\n",
      "You can't roll back an odometer!\n"
     ]
    }
   ],
   "source": [
    "# Cambiamos el valor del kilometraje por medio de un método\n",
    "my_new_car.update_odometer(30)\n",
    "my_new_car.read_odometer()\n",
    "\n",
    "my_new_car.update_odometer(20)"
   ]
  },
  {
   "cell_type": "code",
   "execution_count": 34,
   "id": "cfb9f0f4",
   "metadata": {},
   "outputs": [
    {
     "name": "stdout",
     "output_type": "stream",
     "text": [
      "2019 Subaru Outback\n",
      "This car has 23500 miles on it.\n",
      "This car has 23600 miles on it.\n"
     ]
    }
   ],
   "source": [
    "my_used_car = Car('subaru', 'outback', 2019)\n",
    "print(my_used_car.get_descriptive_name())\n",
    "\n",
    "# Actualizamos el kilometraje\n",
    "my_used_car.update_odometer(23_500)\n",
    "my_used_car.read_odometer()\n",
    "\n",
    "# Aumentamos el kilometraje una cantidad dada\n",
    "my_used_car.increment_odometer(100)\n",
    "my_used_car.read_odometer()"
   ]
  }
 ],
 "metadata": {
  "kernelspec": {
   "display_name": "Python 3",
   "language": "python",
   "name": "python3"
  },
  "language_info": {
   "codemirror_mode": {
    "name": "ipython",
    "version": 3
   },
   "file_extension": ".py",
   "mimetype": "text/x-python",
   "name": "python",
   "nbconvert_exporter": "python",
   "pygments_lexer": "ipython3",
   "version": "3.13.2"
  }
 },
 "nbformat": 4,
 "nbformat_minor": 5
}
