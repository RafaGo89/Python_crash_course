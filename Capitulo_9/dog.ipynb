{
 "cells": [
  {
   "cell_type": "code",
   "execution_count": 2,
   "id": "3db0179a",
   "metadata": {},
   "outputs": [],
   "source": [
    "class Dog:\n",
    "    \"\"\"Un intento sencillo de modelar un perro\"\"\"\n",
    "    def __init__(self, name, age):\n",
    "        \"\"\"Inicializa los atributos edad y nombre\"\"\"\n",
    "        self.name = name\n",
    "        self.age = age\n",
    "    \n",
    "    def sit(self):\n",
    "        \"\"\"Simula un perro sentandose en respuesta a una orden\"\"\"\n",
    "        print(f'{self.name} is now sitting.')\n",
    "    \n",
    "    def roll_over(self):\n",
    "        \"\"\"Simula hacer el truco de dar una vuelta\"\"\"\n",
    "        print(f'{self.name} rolled over!')\n"
   ]
  },
  {
   "cell_type": "code",
   "execution_count": 4,
   "id": "1cec5068",
   "metadata": {},
   "outputs": [
    {
     "name": "stdout",
     "output_type": "stream",
     "text": [
      "My dog's name is Willie\n",
      "My dog is 6 years old\n",
      "Willie is now sitting.\n",
      "Willie rolled over!\n"
     ]
    }
   ],
   "source": [
    "# Creamos una instancia de la clase dog (o sea, creamos un perro)\n",
    "my_dog = Dog('Willie', 6)\n",
    "\n",
    "# Llamamos a los atributos de my_dog\n",
    "print(f\"My dog's name is {my_dog.name}\")\n",
    "print(f\"My dog is {my_dog.age} years old\")\n",
    "\n",
    "# Llamamos a los métodos de my_dog\n",
    "my_dog.sit()\n",
    "my_dog.roll_over()"
   ]
  },
  {
   "cell_type": "code",
   "execution_count": 6,
   "id": "acf49ac6",
   "metadata": {},
   "outputs": [
    {
     "name": "stdout",
     "output_type": "stream",
     "text": [
      "Your dog's name is Lucy\n",
      "Your dog is 3 years old\n",
      "Lucy is now sitting.\n",
      "Lucy rolled over!\n"
     ]
    }
   ],
   "source": [
    "# Creamos un segundo perro\n",
    "your_dog = Dog('Lucy', 3)\n",
    "\n",
    "print(f\"Your dog's name is {your_dog.name}\")\n",
    "print(f\"Your dog is {your_dog.age} years old\")\n",
    "\n",
    "your_dog.sit()\n",
    "your_dog.roll_over()"
   ]
  }
 ],
 "metadata": {
  "kernelspec": {
   "display_name": "libro_python",
   "language": "python",
   "name": "python3"
  },
  "language_info": {
   "codemirror_mode": {
    "name": "ipython",
    "version": 3
   },
   "file_extension": ".py",
   "mimetype": "text/x-python",
   "name": "python",
   "nbconvert_exporter": "python",
   "pygments_lexer": "ipython3",
   "version": "3.12.3"
  }
 },
 "nbformat": 4,
 "nbformat_minor": 5
}
