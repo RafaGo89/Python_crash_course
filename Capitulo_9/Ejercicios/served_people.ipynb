{
 "cells": [
  {
   "cell_type": "markdown",
   "id": "fdd0ae39",
   "metadata": {},
   "source": [
    "* Empiece con el programa del ejercicio 9-1. Añada\n",
    "un atributo llamado número_servido con un valor predeterminado de 0. Cree\n",
    "una instancia llamada restaurante a partir de esta clase. Imprima el número\n",
    "de clientes a los que ha servido el restaurante, cambie ese valor y vuelva a\n",
    "imprimirlo.\n",
    "* Añada un método llamado establecer_número_servido() que le permita\n",
    "configurar el número de clientes a los que se ha servido. Llámelo con un\n",
    "número nuevo y vuelva a imprimir el valor.\n",
    "* Añada un método llamado incrementar_número_servido() que le permita\n",
    "incrementar el número de clientes atendidos. Llámelo con cualquier número\n",
    "que pueda representar a cuántos clientes se ha servido en un día laborable\n",
    "normal."
   ]
  },
  {
   "cell_type": "code",
   "execution_count": 27,
   "id": "3e03f5ac",
   "metadata": {},
   "outputs": [],
   "source": [
    "class Restaurante:\n",
    "    \"\"\"Clase que modela un restaurante\"\"\"\n",
    "    def __init__(self, nombre_restaurante, tipo_cocina):\n",
    "        self.nombre_restaurante = nombre_restaurante\n",
    "        self.tipo_cocina = tipo_cocina\n",
    "        self.numero_servido = 0\n",
    "    \n",
    "    def describir_restaurante(self):\n",
    "        print(f\"El restaurante '{self.nombre_restaurante}' tiene un cocina tipo {self.tipo_cocina}\")\n",
    "    \n",
    "    def abrir_restaurante(self):\n",
    "        print(f\"El restaurante '{self.nombre_restaurante}' ha abierto sus puertas!\")\n",
    "        \n",
    "    def establecer_numero_servido(self, clientes_servidos):\n",
    "        \"\"\"Permite modificar el número de clientes servidos en el restaurante\n",
    "        con el número dado\"\"\"\n",
    "        if clientes_servidos < self.numero_servido:\n",
    "            print('No puedes disminuir el numero de personas servidas')\n",
    "        else:\n",
    "            self.numero_servido = clientes_servidos\n",
    "    def incrementar_numero_servido(self, clientes_servidos):\n",
    "        \"\"\"Añade la cantidad a los clientes servidos\"\"\"\n",
    "        if clientes_servidos < 1:\n",
    "            print('Cantidad de clientes no valida')\n",
    "        else:\n",
    "            self.numero_servido += clientes_servidos"
   ]
  },
  {
   "cell_type": "code",
   "execution_count": 28,
   "id": "f47a0441",
   "metadata": {},
   "outputs": [
    {
     "name": "stdout",
     "output_type": "stream",
     "text": [
      "Numero de clientes que ha servido el restaurante: 0\n",
      "Numero de clientes que ha servido el restaurante: 5\n"
     ]
    }
   ],
   "source": [
    "mi_restaurante = Restaurante('tacos jose', 'cocina tradicional')\n",
    "print(f'Numero de clientes que ha servido el restaurante: {mi_restaurante.numero_servido}')\n",
    "\n",
    "# Modificamos el atributo\n",
    "mi_restaurante.numero_servido = 5\n",
    "print(f'Numero de clientes que ha servido el restaurante: {mi_restaurante.numero_servido}')"
   ]
  },
  {
   "cell_type": "code",
   "execution_count": 29,
   "id": "ea5a215f",
   "metadata": {},
   "outputs": [
    {
     "name": "stdout",
     "output_type": "stream",
     "text": [
      "Numero de clientes que ha servido el restaurante: 20\n"
     ]
    }
   ],
   "source": [
    "# Usamos el método para cambiar el número de clientes servidos\n",
    "mi_restaurante.establecer_numero_servido(20)\n",
    "print(f'Numero de clientes que ha servido el restaurante: {mi_restaurante.numero_servido}')"
   ]
  },
  {
   "cell_type": "code",
   "execution_count": 30,
   "id": "55aca6be",
   "metadata": {},
   "outputs": [
    {
     "name": "stdout",
     "output_type": "stream",
     "text": [
      "Numero de clientes que ha servido el restaurante: 120\n"
     ]
    }
   ],
   "source": [
    "# Usamos el método para incrementar el número de clientes servidos\n",
    "mi_restaurante.incrementar_numero_servido(100)\n",
    "print(f'Numero de clientes que ha servido el restaurante: {mi_restaurante.numero_servido}')"
   ]
  }
 ],
 "metadata": {
  "kernelspec": {
   "display_name": "Python 3",
   "language": "python",
   "name": "python3"
  },
  "language_info": {
   "codemirror_mode": {
    "name": "ipython",
    "version": 3
   },
   "file_extension": ".py",
   "mimetype": "text/x-python",
   "name": "python",
   "nbconvert_exporter": "python",
   "pygments_lexer": "ipython3",
   "version": "3.13.2"
  }
 },
 "nbformat": 4,
 "nbformat_minor": 5
}
