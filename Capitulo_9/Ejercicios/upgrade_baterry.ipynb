{
 "cells": [
  {
   "cell_type": "markdown",
   "id": "fe891691",
   "metadata": {},
   "source": [
    "Use la última versión de electric_car.py.\n",
    "Añada un método a la clase Battery llamado upgrade_battery(). Este\n",
    "método debería comprobar el tamaño de la batería y establecer la\n",
    "capacidad en 65 si no está ya así. Haga un coche eléctrico con un tamañode batería predeterminado, llame a get_range() una vez y vuelva a llamarlo\n",
    "para mejorar la batería. Debería ver un incremento en la autonomía del\n",
    "coche."
   ]
  },
  {
   "cell_type": "code",
   "execution_count": 11,
   "id": "e6906f51",
   "metadata": {},
   "outputs": [],
   "source": [
    "class Car:\n",
    "    \"\"\"Un simple intento de representar un carro.\"\"\"\n",
    "    \n",
    "    def __init__(self, make, model, year):\n",
    "        \"\"\"Inicializa atributos para describir un carro.\"\"\"\n",
    "        self.make = make\n",
    "        self.model = model\n",
    "        self.year = year\n",
    "        self.odometer_reading = 0 # Kilometraje, siempre incia como 0\n",
    "    \n",
    "    def get_descriptive_name(self):\n",
    "        \"\"\"Devuelve un nombre descriptivo con el formato adecuado.\"\"\"\n",
    "        long_name = f'{self.year} {self.make} {self.model}'\n",
    "        \n",
    "        return long_name.title()\n",
    "    \n",
    "    def read_odometer(self):\n",
    "        \"\"\"Imprime una oración que indica el kilometraje del carro.\"\"\"\n",
    "        print(f'This car has {self.odometer_reading} miles on it.')\n",
    "        \n",
    "    def update_odometer(self, mileage):\n",
    "        \"\"\"Configura el kilometraje con el valor dado.\n",
    "        Rechza el cambio si se intenta hacer retroceder el cuentakilometros\"\"\"\n",
    "        if mileage >= self.odometer_reading:\n",
    "            self.odometer_reading = mileage\n",
    "        else:\n",
    "            print(\"You can't roll back an odometer!\")\n",
    "    \n",
    "    def increment_odometer(self, miles):\n",
    "        \"\"\"Añade la cantidad dada a la lectura del cuentakilometros\"\"\"\n",
    "        self.odometer_reading += miles"
   ]
  },
  {
   "cell_type": "code",
   "execution_count": 12,
   "id": "d1047266",
   "metadata": {},
   "outputs": [],
   "source": [
    "class Battery:\n",
    "    \"\"\"Un simple intento de modelar una batería \n",
    "    para un coche eléctrico\"\"\"\n",
    "    \n",
    "    def __init__(self, battery_size=40):\n",
    "        \"\"\"Inicializamos los atributos de la batería.\"\"\"\n",
    "        self.battery_size = battery_size\n",
    "    \n",
    "    def describe_battery(self):\n",
    "        \"\"\"Imprime una frase que describe el tamaño de la batería\"\"\"\n",
    "        print(f\"This car has a {self.battery_size}-kWh battery.\")\n",
    "    \n",
    "    def get_range(self):\n",
    "        \"\"\"Imprime una frase sobre la autonomía que \n",
    "        ofrece esta batería\"\"\"\n",
    "        if self.battery_size == 40:\n",
    "            range = 150\n",
    "        elif self.battery_size == 65:\n",
    "            range = 225\n",
    "        \n",
    "        print(f\"This car can go about {range} miles on a full charge.\")"
   ]
  },
  {
   "cell_type": "markdown",
   "id": "0739b800",
   "metadata": {},
   "source": [
    "### Aplicamos el nuevo método upgrade_battery()"
   ]
  },
  {
   "cell_type": "code",
   "execution_count": 21,
   "id": "b063733d",
   "metadata": {},
   "outputs": [],
   "source": [
    "class ElectricCar(Car):\n",
    "    \"\"\"Representa aspectos de un coche propios de los vehículos\n",
    "    eléctricos.\"\"\"\n",
    "    \n",
    "    def __init__(self, make, model, year):\n",
    "        \"\"\"\n",
    "        Inicializa los atributos de la clase base.\n",
    "        Luego inicializa atributos propios de un coche eléctrico\n",
    "        \"\"\"\n",
    "        super().__init__(make, model, year)\n",
    "        # Usamos la clase batery como un atributo\n",
    "        self.battery = Battery()\n",
    "    \n",
    "    def upgrade_battery(self):\n",
    "        \"\"\"Mejora la potencia de la batería si no llega a los 65 kWh\"\"\"\n",
    "        if self.battery.battery_size <= 65:\n",
    "            self.battery.battery_size = 65"
   ]
  },
  {
   "cell_type": "code",
   "execution_count": 26,
   "id": "54c7504a",
   "metadata": {},
   "outputs": [
    {
     "name": "stdout",
     "output_type": "stream",
     "text": [
      "Before the upgrade:\n",
      "This car can go about 150 miles on a full charge.\n",
      "\n",
      "After the upgrade:\n",
      "This car can go about 225 miles on a full charge.\n"
     ]
    }
   ],
   "source": [
    "mi_carro = ElectricCar('dodge', 'neon', 2022)\n",
    "\n",
    "print('Before the upgrade:')\n",
    "mi_carro.battery.get_range()\n",
    "mi_carro.upgrade_battery()\n",
    "print('\\nAfter the upgrade:')\n",
    "mi_carro.battery.get_range()"
   ]
  }
 ],
 "metadata": {
  "kernelspec": {
   "display_name": "libro_python",
   "language": "python",
   "name": "python3"
  },
  "language_info": {
   "codemirror_mode": {
    "name": "ipython",
    "version": 3
   },
   "file_extension": ".py",
   "mimetype": "text/x-python",
   "name": "python",
   "nbconvert_exporter": "python",
   "pygments_lexer": "ipython3",
   "version": "3.12.3"
  }
 },
 "nbformat": 4,
 "nbformat_minor": 5
}
