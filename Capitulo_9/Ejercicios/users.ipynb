{
 "cells": [
  {
   "cell_type": "markdown",
   "id": "5bb7ea8c",
   "metadata": {},
   "source": [
    "Cree una clase llamada Usuario. Cree dos atributos\n",
    "llamados nombre y apellido y otros que suelan guardarse en un perfil de\n",
    "usuario. Cree un método llamado describir_usuario() que imprima un\n",
    "resumen de la información del usuario. \n",
    "Cree otro método llamado\n",
    "saludar_usuario() que imprima un saludo personalizado para el usuario.\n",
    "Cree varias instancias que representen a distintos usuarios y llame a ambos\n",
    "métodos para cada usuario."
   ]
  },
  {
   "cell_type": "code",
   "execution_count": 6,
   "id": "6dd93aea",
   "metadata": {},
   "outputs": [],
   "source": [
    "class Usuario:\n",
    "    \"\"\"Clase que modela el perfil de un usuario\"\"\"\n",
    "    \n",
    "    def __init__(self, nombre, apellido, edad, nombre_usuario):\n",
    "        self.nombre = nombre\n",
    "        self.apellido = apellido\n",
    "        self.edad = edad\n",
    "        self.nombre_usuario = nombre_usuario\n",
    "    \n",
    "    def describir_usuario(self):\n",
    "        print(f'El usuario {self.nombre} {self.apellido} tiene {self.edad}'\n",
    "            f' años de edad y sus nombre de usuario es: {self.nombre_usuario}')\n",
    "    \n",
    "    def saludar_usuario(self):\n",
    "        print(f'Hola, ¿como estas {self.nombre} {self.apellido}?')"
   ]
  },
  {
   "cell_type": "code",
   "execution_count": 7,
   "id": "fb851de7",
   "metadata": {},
   "outputs": [
    {
     "name": "stdout",
     "output_type": "stream",
     "text": [
      "El usuario Pedro Gomez tiene 20 años de edad y sus nombre de usuario es: PedGo20\n",
      "Hola, ¿como estas Pedro Gomez?\n"
     ]
    }
   ],
   "source": [
    "# Creamos diferentes usuarios\n",
    "usuario1 = Usuario('Pedro', 'Gomez', 20, 'PedGo20')\n",
    "\n",
    "# Llamamos a los métodos\n",
    "usuario1.describir_usuario()\n",
    "usuario1.saludar_usuario()"
   ]
  },
  {
   "cell_type": "code",
   "execution_count": 8,
   "id": "23a7d5bc",
   "metadata": {},
   "outputs": [
    {
     "name": "stdout",
     "output_type": "stream",
     "text": [
      "El usuario Julia Palacios tiene 30 años de edad y sus nombre de usuario es: JulGo333\n",
      "Hola, ¿como estas Julia Palacios?\n"
     ]
    }
   ],
   "source": [
    "# Creamos diferentes usuarios\n",
    "usuario2 = Usuario('Julia', 'Palacios', 30, 'JulGo333')\n",
    "\n",
    "# Llamamos a los métodos\n",
    "usuario2.describir_usuario()\n",
    "usuario2.saludar_usuario()"
   ]
  },
  {
   "cell_type": "code",
   "execution_count": 9,
   "id": "1c48c570",
   "metadata": {},
   "outputs": [
    {
     "name": "stdout",
     "output_type": "stream",
     "text": [
      "El usuario Alba Montero tiene 34 años de edad y sus nombre de usuario es: AmBa_pr\n",
      "Hola, ¿como estas Alba Montero?\n"
     ]
    }
   ],
   "source": [
    "# Creamos diferentes usuarios\n",
    "usuario3 = Usuario('Alba', 'Montero', 34, 'AmBa_pr')\n",
    "\n",
    "# Llamamos a los métodos\n",
    "usuario3.describir_usuario()\n",
    "usuario3.saludar_usuario()"
   ]
  }
 ],
 "metadata": {
  "kernelspec": {
   "display_name": "Python 3",
   "language": "python",
   "name": "python3"
  },
  "language_info": {
   "codemirror_mode": {
    "name": "ipython",
    "version": 3
   },
   "file_extension": ".py",
   "mimetype": "text/x-python",
   "name": "python",
   "nbconvert_exporter": "python",
   "pygments_lexer": "ipython3",
   "version": "3.13.2"
  }
 },
 "nbformat": 4,
 "nbformat_minor": 5
}
