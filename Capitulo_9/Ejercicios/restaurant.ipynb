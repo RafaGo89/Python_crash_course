{
 "cells": [
  {
   "cell_type": "markdown",
   "id": "8d3e1452",
   "metadata": {},
   "source": [
    "Haga una clase llamada Restaurante. El método __init__() para Restaurante debería albergar dos atributos: nombre_restaurante y tipo_cocina. Cree un método llamado describir_restaurante() que imprima estos dos datos, y un método llamado\n",
    "abrir_restaurante() que imprima un mensaje indicando que el restaurante\n",
    "está abierto.\n",
    "\n",
    "Haga una instancia llamada restaurante a partir de su clase. Imprima los dos\n",
    "atributos por separado y luego llame a ambos métodos."
   ]
  },
  {
   "cell_type": "code",
   "execution_count": 13,
   "id": "1f3d3526",
   "metadata": {},
   "outputs": [],
   "source": [
    "class Restaurante:\n",
    "    \"\"\"Clase que modela un restaurante\"\"\"\n",
    "    def __init__(self, nombre_restaurante, tipo_cocina):\n",
    "        self.nombre_restaurante = nombre_restaurante\n",
    "        self.tipo_cocina = tipo_cocina\n",
    "    \n",
    "    def describir_restaurante(self):\n",
    "        print(f\"El restaurante '{self.nombre_restaurante}' tiene un cocina tipo {self.tipo_cocina}\")\n",
    "    \n",
    "    def abrir_restaurante(self):\n",
    "        print(f\"El restaurante '{self.nombre_restaurante}' ha abierto sus puertas!\")"
   ]
  },
  {
   "cell_type": "code",
   "execution_count": 14,
   "id": "be8dcede",
   "metadata": {},
   "outputs": [
    {
     "name": "stdout",
     "output_type": "stream",
     "text": [
      "Mi restaurante se llaman 'El Gordo'\n",
      "Mi restaurante tiene una cocina tipo Tradicional\n",
      "El restaurante 'El Gordo' tiene un cocina tipo Tradicional\n",
      "El restaurante 'El Gordo' ha abierto sus puertas!\n"
     ]
    }
   ],
   "source": [
    "# Creamos una instancia de la clase Restaurante\n",
    "mi_restaurante = Restaurante('El Gordo', 'Tradicional')\n",
    "\n",
    "print(f\"Mi restaurante se llaman '{mi_restaurante.nombre_restaurante}'\")\n",
    "print(f\"Mi restaurante tiene una cocina tipo {mi_restaurante.tipo_cocina}\")\n",
    "\n",
    "mi_restaurante.describir_restaurante()\n",
    "mi_restaurante.abrir_restaurante()"
   ]
  },
  {
   "cell_type": "markdown",
   "id": "2476e401",
   "metadata": {},
   "source": [
    "Empiece con la clase del ejercicio 9-1. Cree tres\n",
    "instancias diferentes a partir de ella y llame a describir_restaurante() para\n",
    "cada instancia."
   ]
  },
  {
   "cell_type": "code",
   "execution_count": 15,
   "id": "eb477035",
   "metadata": {},
   "outputs": [
    {
     "name": "stdout",
     "output_type": "stream",
     "text": [
      "El restaurante 'Tacos Jose' tiene un cocina tipo Tradicional\n",
      "El restaurante 'La chilaquila' tiene un cocina tipo Alta cocina\n",
      "El restaurante 'El nuevo mix' tiene un cocina tipo Cocina Fusion\n"
     ]
    }
   ],
   "source": [
    "restaurante1 = Restaurante('Tacos Jose','Tradicional')\n",
    "restaurante2 = Restaurante('La chilaquila','Alta cocina')\n",
    "restaurante3 = Restaurante('El nuevo mix','Cocina Fusion')\n",
    "\n",
    "restaurante1.describir_restaurante()\n",
    "restaurante2.describir_restaurante()\n",
    "restaurante3.describir_restaurante()"
   ]
  }
 ],
 "metadata": {
  "kernelspec": {
   "display_name": "libro_python",
   "language": "python",
   "name": "python3"
  },
  "language_info": {
   "codemirror_mode": {
    "name": "ipython",
    "version": 3
   },
   "file_extension": ".py",
   "mimetype": "text/x-python",
   "name": "python",
   "nbconvert_exporter": "python",
   "pygments_lexer": "ipython3",
   "version": "3.12.3"
  }
 },
 "nbformat": 4,
 "nbformat_minor": 5
}
