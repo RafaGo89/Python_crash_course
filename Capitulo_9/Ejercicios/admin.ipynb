{
 "cells": [
  {
   "cell_type": "markdown",
   "id": "5bcd969b",
   "metadata": {},
   "source": [
    "Un administrador es un tipo especial de usuario. Escriba una clase llamada Admin que herede de la clase Usuario del ejercicio 9-3 o del 9-5. Añada un atributo privilegios que acoja una lista de cadenas como \"puede añadir comentario\", \"puede borrar comentario\", \"puede vetar usuarios\", etc. \n",
    "\n",
    "Escriba un método llamado show_privileges() que enumere el conjunto de privilegios del administrador. Cree una instancia de Admin y llame al método."
   ]
  },
  {
   "cell_type": "code",
   "execution_count": 2,
   "id": "99495b0f",
   "metadata": {},
   "outputs": [],
   "source": [
    "class Usuario:\n",
    "    \"\"\"Clase que modela el perfil de un usuario\"\"\"\n",
    "    \n",
    "    def __init__(self, nombre, apellido, edad, nombre_usuario):\n",
    "        self.nombre = nombre\n",
    "        self.apellido = apellido\n",
    "        self.edad = edad\n",
    "        self.nombre_usuario = nombre_usuario\n",
    "    \n",
    "    def describir_usuario(self):\n",
    "        print(f'El usuario {self.nombre} {self.apellido} tiene {self.edad}'\n",
    "            f' años de edad y sus nombre de usuario es: {self.nombre_usuario}')\n",
    "    \n",
    "    def saludar_usuario(self):\n",
    "        print(f'Hola, ¿como estas {self.nombre} {self.apellido}?')"
   ]
  },
  {
   "cell_type": "code",
   "execution_count": null,
   "id": "9b11842d",
   "metadata": {},
   "outputs": [],
   "source": [
    "class Admin(Usuario):\n",
    "    \"\"\"Clase que modelo a un usuario administrador\"\"\"\n",
    "    def __init__(self, nombre, apellido, edad, nombre_usuario):\n",
    "        \"\"\"Inicializa los atributos de la clase Usuario.\n",
    "        Luego incializa los atributos de la clase Admin\"\"\"\n",
    "        super().__init__(nombre, apellido, edad, nombre_usuario)\n",
    "        self.privilegios = ['puedo añadir comentario',\n",
    "                            'puede borrar comentario',\n",
    "                            'puede banear usuarios',\n",
    "                            'puede borrar publicaciones']\n",
    "    \n",
    "    def mostrar_privilegios(self):\n",
    "        \"\"\"Muestra los privilegios con los que cuenta el admin\"\"\"\n",
    "        print(f'El administrador {self.nombre.capitalize()} {self.apellido.capitalize()} '\n",
    "              'tiene los siguientes privilegios')\n",
    "\n",
    "        for privilegio in self.privilegios:\n",
    "            print(f'-{privilegio}')"
   ]
  },
  {
   "cell_type": "code",
   "execution_count": 11,
   "id": "c8f59a0b",
   "metadata": {},
   "outputs": [
    {
     "name": "stdout",
     "output_type": "stream",
     "text": [
      "El administrador Jorge Navarro tiene los siguientes privilegios\n",
      "-puedo añadir comentario\n",
      "-puede borrar comentario\n",
      "-puede banear usuarios\n",
      "-puede borrar publicaciones\n"
     ]
    }
   ],
   "source": [
    "# Creamos una instacia de un admin\n",
    "nuevo_admin = Admin('jorge', 'navarro', 22, 'admin_jorge')\n",
    "\n",
    "nuevo_admin.mostrar_privilegios()"
   ]
  },
  {
   "cell_type": "markdown",
   "id": "e9f1ae0d",
   "metadata": {},
   "source": [
    "Escriba una clase Privilegios aparte. Esta clase debería\n",
    "tener un atributo, privilegios, que almacene una lista de cadenas como la\n",
    "descrita en el ejercicio anterior. Mueva el método show_privileges() a esta\n",
    "clase. Haga una instancia de Privilegios como atributo de la clase Admin.\n",
    "Cree una nueva instancia de Admin y use su método para mostrar los\n",
    "privilegios."
   ]
  },
  {
   "cell_type": "code",
   "execution_count": 19,
   "id": "02a219b8",
   "metadata": {},
   "outputs": [],
   "source": [
    "class Privilegios():\n",
    "    \"\"\"Clase para modelar los privilegios de un administrador\"\"\"\n",
    "    def __init__(self):\n",
    "        \"\"\"Inicializamos los atributos de la clase Privilegios\"\"\"\n",
    "        self.privilegios = ['puedo añadir comentario',\n",
    "                            'puede borrar comentario',\n",
    "                            'puede banear usuarios',\n",
    "                            'puede borrar publicaciones']\n",
    "    \n",
    "    def mostrar_privilegios(self):\n",
    "        \"\"\"Muestra los privilegios con los que cuenta el admin\"\"\"\n",
    "        print(f'El administrador tiene los siguientes privilegios')\n",
    "\n",
    "        for privilegio in self.privilegios:\n",
    "            print(f'-{privilegio}')"
   ]
  },
  {
   "cell_type": "markdown",
   "id": "8261d2f8",
   "metadata": {},
   "source": [
    "### Nueva clase Admin"
   ]
  },
  {
   "cell_type": "code",
   "execution_count": null,
   "id": "59f2739e",
   "metadata": {},
   "outputs": [],
   "source": [
    "class Admin(Usuario):\n",
    "    \"\"\"Clase que modelo a un usuario administrador\"\"\"\n",
    "    def __init__(self, nombre, apellido, edad, nombre_usuario):\n",
    "        \"\"\"Inicializa los atributos de la clase Usuario.\n",
    "        Luego incializa los atributos de la clase Admin\"\"\"\n",
    "        super().__init__(nombre, apellido, edad, nombre_usuario)\n",
    "        # Añadimos el atributo privilegios como instancia de otra clase\n",
    "        self.privilegios = Privilegios()"
   ]
  },
  {
   "cell_type": "code",
   "execution_count": 21,
   "id": "2804a69f",
   "metadata": {},
   "outputs": [
    {
     "name": "stdout",
     "output_type": "stream",
     "text": [
      "El administrador tiene los siguientes privilegios\n",
      "-puedo añadir comentario\n",
      "-puede borrar comentario\n",
      "-puede banear usuarios\n",
      "-puede borrar publicaciones\n"
     ]
    }
   ],
   "source": [
    "administrador = Admin('julia', 'montemayor', 30, 'admin_julia')\n",
    "\n",
    "administrador.privilegios.mostrar_privilegios()"
   ]
  }
 ],
 "metadata": {
  "kernelspec": {
   "display_name": "libro_python",
   "language": "python",
   "name": "python3"
  },
  "language_info": {
   "codemirror_mode": {
    "name": "ipython",
    "version": 3
   },
   "file_extension": ".py",
   "mimetype": "text/x-python",
   "name": "python",
   "nbconvert_exporter": "python",
   "pygments_lexer": "ipython3",
   "version": "3.12.3"
  }
 },
 "nbformat": 4,
 "nbformat_minor": 5
}
