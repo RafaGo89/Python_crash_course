{
 "cells": [
  {
   "cell_type": "markdown",
   "id": "b7066ac4",
   "metadata": {},
   "source": [
    "Un carrito de helados es, en cierto modo, parecido a un restaurante. Escriba una clase llamada CarritoDeHelados que herede de la clase Restaurante del ejercicio 9-1 o del 9-4. Servirá cualquiera de las dos versiones, así que coja la que más le guste. \n",
    "\n",
    "Añada un atributo\n",
    "llamado sabores que almacene una lista de sabores de helado. Escriba un\n",
    "método que muestre los sabores. Cree una instancia de CarritoDeHelados y\n",
    "llame a ese método."
   ]
  },
  {
   "cell_type": "code",
   "execution_count": 1,
   "id": "f911ddfd",
   "metadata": {},
   "outputs": [],
   "source": [
    "class Restaurante:\n",
    "    \"\"\"Clase que modela un restaurante\"\"\"\n",
    "    def __init__(self, nombre_restaurante, tipo_cocina):\n",
    "        self.nombre_restaurante = nombre_restaurante\n",
    "        self.tipo_cocina = tipo_cocina\n",
    "    \n",
    "    def describir_restaurante(self):\n",
    "        print(f\"El restaurante '{self.nombre_restaurante}' tiene un cocina tipo {self.tipo_cocina}\")\n",
    "    \n",
    "    def abrir_restaurante(self):\n",
    "        print(f\"El restaurante '{self.nombre_restaurante}' ha abierto sus puertas!\")"
   ]
  },
  {
   "cell_type": "code",
   "execution_count": 5,
   "id": "448a28d3",
   "metadata": {},
   "outputs": [],
   "source": [
    "class CarritoDeHelados(Restaurante):\n",
    "    \"\"\"Clase que representa los aspectos de un carrito de helados\"\"\"\n",
    "    \n",
    "    def __init__(self, nombre_restaurante, tipo_cocina):\n",
    "        \"\"\"Inicializa los atributos de la clase base Restaurante\n",
    "        Luego inicializa los atributos propios del carrito de helados\"\"\"\n",
    "        super().__init__(nombre_restaurante, tipo_cocina)\n",
    "        self.sabores = ['vainilla', 'chocolate', 'fresa', 'galleta']\n",
    "    \n",
    "    def mostrar_sabores(self):\n",
    "        \"\"\"Enlista los sabores de helado disponibles\"\"\"\n",
    "        print('Tenemos los siguientes sabores de helado:')\n",
    "        for sabor in self.sabores:\n",
    "            print(f'-{sabor.capitalize()}')"
   ]
  },
  {
   "cell_type": "code",
   "execution_count": 6,
   "id": "971d2d76",
   "metadata": {},
   "outputs": [
    {
     "name": "stdout",
     "output_type": "stream",
     "text": [
      "Tenemos los siguientes sabores de helado:\n",
      "-Vainilla\n",
      "-Chocolate\n",
      "-Fresa\n",
      "-Galleta\n"
     ]
    }
   ],
   "source": [
    "mi_carrito = CarritoDeHelados('Helados Rafa', 'Tradicional')\n",
    "mi_carrito.mostrar_sabores()"
   ]
  }
 ],
 "metadata": {
  "kernelspec": {
   "display_name": "Python 3",
   "language": "python",
   "name": "python3"
  },
  "language_info": {
   "codemirror_mode": {
    "name": "ipython",
    "version": 3
   },
   "file_extension": ".py",
   "mimetype": "text/x-python",
   "name": "python",
   "nbconvert_exporter": "python",
   "pygments_lexer": "ipython3",
   "version": "3.13.2"
  }
 },
 "nbformat": 4,
 "nbformat_minor": 5
}
