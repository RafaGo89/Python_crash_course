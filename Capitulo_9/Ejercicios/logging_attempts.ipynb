{
 "cells": [
  {
   "cell_type": "markdown",
   "id": "ed4966a4",
   "metadata": {},
   "source": [
    "Añada un atributo intentos_inicio a la clase Usuario del ejercicio 9-3. Escriba un método llamado incrementar_intentos_inicio() que aumente el valor de intentos_inicio en 1. Escriba otro método llamado restablecer_intentos_inicio() que restablezca el valor de intentos_inicio a 0.\n",
    "\n",
    "Haga una instancia de la clase Usuario y llame varias veces a\n",
    "incrementar_intentos_inicio(). Imprima el valor de intentos_inicio para\n",
    "asegurarse de que se ha incrementado correctamente y luego llame a\n",
    "restablecer_intentos_inicio(). Vuelva a imprimir intentos_inicio para\n",
    "asegurarse de que se ha restablecido a 0."
   ]
  },
  {
   "cell_type": "code",
   "execution_count": 1,
   "id": "1d477839",
   "metadata": {},
   "outputs": [],
   "source": [
    "class Usuario:\n",
    "    \"\"\"Clase que modela el perfil de un usuario\"\"\"\n",
    "    \n",
    "    def __init__(self, nombre, apellido, edad, nombre_usuario):\n",
    "        self.nombre = nombre\n",
    "        self.apellido = apellido\n",
    "        self.edad = edad\n",
    "        self.nombre_usuario = nombre_usuario\n",
    "        self.intentos_loggin = 0\n",
    "    \n",
    "    def describir_usuario(self):\n",
    "        print(f'El usuario {self.nombre} {self.apellido} tiene {self.edad}'\n",
    "            f' años de edad y sus nombre de usuario es: {self.nombre_usuario}')\n",
    "    \n",
    "    def saludar_usuario(self):\n",
    "        print(f'Hola, ¿como estas {self.nombre} {self.apellido}?')\n",
    "    \n",
    "    def incrementar_intentos_loggin(self):\n",
    "        \"\"\"Aumenta en 1 cada vez que se intenta inciar sesión\"\"\"\n",
    "        self.intentos_loggin += 1\n",
    "    \n",
    "    def restablecer_intentos_loggins(self):\n",
    "        \"\"\"Restablece el valor de intentos de inicio de sesión a 0\"\"\"\n",
    "        self.intentos_loggin = 0"
   ]
  },
  {
   "cell_type": "code",
   "execution_count": 5,
   "id": "89c9c9b8",
   "metadata": {},
   "outputs": [
    {
     "name": "stdout",
     "output_type": "stream",
     "text": [
      "El usuario RafaGo89 lleva 1 intento de incio de sesion.\n",
      "El usuario RafaGo89 lleva 2 intento de incio de sesion.\n",
      "El usuario RafaGo89 lleva 3 intento de incio de sesion.\n",
      "El usuario RafaGo89 lleva 0 intento de incio de sesion.\n"
     ]
    }
   ],
   "source": [
    "mi_usuario = Usuario('Rafa', 'Gomez', 22, 'RafaGo89')\n",
    "\n",
    "# Aumentamos los inicio de sesión del usuario\n",
    "mi_usuario.incrementar_intentos_loggin()\n",
    "print(f'El usuario {mi_usuario.nombre_usuario} lleva {mi_usuario.intentos_loggin}'\n",
    "      f' intento de incio de sesion.')\n",
    "\n",
    "mi_usuario.incrementar_intentos_loggin()\n",
    "print(f'El usuario {mi_usuario.nombre_usuario} lleva {mi_usuario.intentos_loggin}'\n",
    "      f' intento de incio de sesion.')\n",
    "\n",
    "mi_usuario.incrementar_intentos_loggin()\n",
    "print(f'El usuario {mi_usuario.nombre_usuario} lleva {mi_usuario.intentos_loggin}'\n",
    "      f' intento de incio de sesion.')\n",
    "\n",
    "# Restablecemos los intentos de inicio de sesión del usuario\n",
    "mi_usuario.restablecer_intentos_loggins()\n",
    "print(f'El usuario {mi_usuario.nombre_usuario} lleva {mi_usuario.intentos_loggin}'\n",
    "      f' intento de incio de sesion.')"
   ]
  }
 ],
 "metadata": {
  "kernelspec": {
   "display_name": "Python 3",
   "language": "python",
   "name": "python3"
  },
  "language_info": {
   "codemirror_mode": {
    "name": "ipython",
    "version": 3
   },
   "file_extension": ".py",
   "mimetype": "text/x-python",
   "name": "python",
   "nbconvert_exporter": "python",
   "pygments_lexer": "ipython3",
   "version": "3.13.2"
  }
 },
 "nbformat": 4,
 "nbformat_minor": 5
}
