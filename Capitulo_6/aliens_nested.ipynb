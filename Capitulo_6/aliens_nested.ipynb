{
 "cells": [
  {
   "cell_type": "code",
   "execution_count": 2,
   "id": "8b772c0c",
   "metadata": {},
   "outputs": [
    {
     "name": "stdout",
     "output_type": "stream",
     "text": [
      "{'color': 'green', 'points': 5}\n",
      "{'color': 'yellow', 'points': 10}\n",
      "{'color': 'red', 'points': 15}\n"
     ]
    }
   ],
   "source": [
    "# Creamos 3 aliens por medio de diccionarios\n",
    "alien_0 = {'color': 'green', 'points': 5}\n",
    "alien_1 = {'color': 'yellow', 'points': 10}\n",
    "alien_2 = {'color': 'red', 'points': 15}\n",
    "\n",
    "# Almacenamos esos aliens en una lista\n",
    "aliens = [alien_0, alien_1, alien_2]\n",
    "\n",
    "# Imprimimos los aliens por medio de un ciclo\n",
    "for alien in aliens:\n",
    "    print(alien)"
   ]
  },
  {
   "cell_type": "code",
   "execution_count": 6,
   "id": "af340890",
   "metadata": {},
   "outputs": [
    {
     "name": "stdout",
     "output_type": "stream",
     "text": [
      "{'color': 'green', 'points': 5, 'speed': 'slow'}\n",
      "{'color': 'green', 'points': 5, 'speed': 'slow'}\n",
      "{'color': 'green', 'points': 5, 'speed': 'slow'}\n",
      "{'color': 'green', 'points': 5, 'speed': 'slow'}\n",
      "{'color': 'green', 'points': 5, 'speed': 'slow'}\n",
      "...\n",
      "Total numbers of aliens: 30\n"
     ]
    }
   ],
   "source": [
    "# Creamos una lista vacía para crear una flota de aliens\n",
    "aliens = []\n",
    "\n",
    "# Crearemos 30 aliens verdes\n",
    "for alien_number in range(30):\n",
    "    # Creamos el alien verde\n",
    "    new_alien = {'color': 'green', 'points': 5, 'speed': 'slow'}\n",
    "    # Lo añadimos a la lista\n",
    "    aliens.append(new_alien)\n",
    "    \n",
    "# Mostramos los 5 primeros aliens\n",
    "for alien in aliens[0:5]:\n",
    "    print(alien)\n",
    "print(\"...\")\n",
    "\n",
    "# Mostramos cuantos aliens hay en la flota\n",
    "print(f'Total numbers of aliens: {len(aliens)}')"
   ]
  },
  {
   "cell_type": "code",
   "execution_count": null,
   "id": "34da21f3",
   "metadata": {},
   "outputs": [
    {
     "name": "stdout",
     "output_type": "stream",
     "text": [
      "{'color': 'yellow', 'points': 10, 'speed': 'medium'}\n",
      "{'color': 'yellow', 'points': 10, 'speed': 'medium'}\n",
      "{'color': 'yellow', 'points': 10, 'speed': 'medium'}\n",
      "{'color': 'green', 'points': 5, 'speed': 'slow'}\n",
      "{'color': 'green', 'points': 5, 'speed': 'slow'}\n",
      "...\n",
      "Total numbers of aliens: 30\n"
     ]
    }
   ],
   "source": [
    "# Creamos una lista vacía para crear una flota de aliens\n",
    "aliens = []\n",
    "\n",
    "# Crearemos 30 aliens verdes\n",
    "for alien_number in range(30):\n",
    "    # Creamos el alien verde\n",
    "    new_alien = {'color': 'green', 'points': 5, 'speed': 'slow'}\n",
    "    # Lo añadimos a la lista\n",
    "    aliens.append(new_alien)\n",
    "\n",
    "# Convertimos a los 3 primeros aliens en otro tipo de alien    \n",
    "for alien in aliens[0:3]:\n",
    "    if alien['color'] == 'green':\n",
    "        alien['color'] = 'yellow'\n",
    "        alien['speed'] = 'medium'\n",
    "        alien['points'] = 10\n",
    "    \n",
    "# Mostramos los 5 primeros aliens\n",
    "for alien in aliens[0:5]:\n",
    "    print(alien)\n",
    "print(\"...\")\n",
    "\n",
    "# Mostramos cuantos aliens hay en la flota\n",
    "print(f'Total numbers of aliens: {len(aliens)}')"
   ]
  }
 ],
 "metadata": {
  "kernelspec": {
   "display_name": "Python 3",
   "language": "python",
   "name": "python3"
  },
  "language_info": {
   "codemirror_mode": {
    "name": "ipython",
    "version": 3
   },
   "file_extension": ".py",
   "mimetype": "text/x-python",
   "name": "python",
   "nbconvert_exporter": "python",
   "pygments_lexer": "ipython3",
   "version": "3.13.2"
  }
 },
 "nbformat": 4,
 "nbformat_minor": 5
}
