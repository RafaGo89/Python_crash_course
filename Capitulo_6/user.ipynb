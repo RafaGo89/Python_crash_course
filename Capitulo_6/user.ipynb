{
 "cells": [
  {
   "cell_type": "code",
   "execution_count": null,
   "id": "89a108ba",
   "metadata": {},
   "outputs": [
    {
     "name": "stdout",
     "output_type": "stream",
     "text": [
      "\n",
      "Key: username\n",
      "Value: efermi\n",
      "\n",
      "Key: fisrt\n",
      "Value: enrico\n",
      "\n",
      "Key: last\n",
      "Value: fermi\n"
     ]
    }
   ],
   "source": [
    "# Creamos un diccionario con los datos de un usuario de un sitio web\n",
    "user_0 = {\n",
    "    'username': 'efermi',\n",
    "    'fisrt': 'enrico',\n",
    "    'last': 'fermi'\n",
    "}\n",
    "\n",
    "# Usamos un ciclo for para mostrar todas las claves-valor del diccionario\n",
    "# Guardamos las claves y valores en variables distintas\n",
    "# El método items permite trabajar con claves-valores\n",
    "for key, value in user_0.items(): \n",
    "    print(f'\\nKey: {key}')\n",
    "    print(f'Value: {value}')"
   ]
  }
 ],
 "metadata": {
  "kernelspec": {
   "display_name": "Python 3",
   "language": "python",
   "name": "python3"
  },
  "language_info": {
   "codemirror_mode": {
    "name": "ipython",
    "version": 3
   },
   "file_extension": ".py",
   "mimetype": "text/x-python",
   "name": "python",
   "nbconvert_exporter": "python",
   "pygments_lexer": "ipython3",
   "version": "3.13.2"
  }
 },
 "nbformat": 4,
 "nbformat_minor": 5
}
