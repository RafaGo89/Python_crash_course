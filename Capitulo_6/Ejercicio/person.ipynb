{
 "cells": [
  {
   "cell_type": "markdown",
   "id": "67ba773e",
   "metadata": {},
   "source": [
    "Use un diccionario para almacenar información sobre una\n",
    "persona que conozca. Guarde su nombre, apellido, edad y la ciudad en la\n",
    "que vive. Debería tener claves como nombre, apellido, edad y ciudad.\n",
    "Imprima toda la información almacenada en su diccionario."
   ]
  },
  {
   "cell_type": "code",
   "execution_count": 1,
   "id": "405f6b11",
   "metadata": {},
   "outputs": [
    {
     "name": "stdout",
     "output_type": "stream",
     "text": [
      "{'nombre': 'Natalia', 'apellido': 'Otero', 'edad': 20, 'ciudad': 'Guadalajara'}\n"
     ]
    }
   ],
   "source": [
    "person = {'nombre': 'Natalia', 'apellido': 'Otero', 'edad': 20, 'ciudad': 'Guadalajara'}\n",
    "\n",
    "print(person)"
   ]
  }
 ],
 "metadata": {
  "kernelspec": {
   "display_name": "Python 3",
   "language": "python",
   "name": "python3"
  },
  "language_info": {
   "codemirror_mode": {
    "name": "ipython",
    "version": 3
   },
   "file_extension": ".py",
   "mimetype": "text/x-python",
   "name": "python",
   "nbconvert_exporter": "python",
   "pygments_lexer": "ipython3",
   "version": "3.13.2"
  }
 },
 "nbformat": 4,
 "nbformat_minor": 5
}
