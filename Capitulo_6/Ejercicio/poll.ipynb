{
 "cells": [
  {
   "cell_type": "markdown",
   "id": "4d39b064",
   "metadata": {},
   "source": [
    " Use el código de favorite_languages.py.\n",
    " *  Haga una lista de personas que deberían hacer la encuesta sobre\n",
    "lenguajes preferidos. Incluya algunos nombres que estén ya en el\n",
    "diccionario y otros que no lo estén.\n",
    "*  Pase en bucle por la lista de personas que deberían hacer la encuesta. Si\n",
    "ya la han hecho, deles las gracias por responder. Si todavía no la han\n",
    "completado, imprima un mensaje invitándoles a hacerlo"
   ]
  },
  {
   "cell_type": "code",
   "execution_count": null,
   "id": "970a7f03",
   "metadata": {},
   "outputs": [
    {
     "name": "stdout",
     "output_type": "stream",
     "text": [
      "\n",
      "Jen gracias por contestar la encuesta\n",
      "\n",
      "Natalia deberías contestar la encuesta\n",
      "\n",
      "Thiare deberías contestar la encuesta\n",
      "\n",
      "Valeria deberías contestar la encuesta\n",
      "\n",
      "Phil gracias por contestar la encuesta\n"
     ]
    }
   ],
   "source": [
    "favorite_language = {\n",
    "    'jen': 'python',\n",
    "    'sarah': 'c',\n",
    "    'edward': 'rust',\n",
    "    'phil': 'python'\n",
    "    }\n",
    "\n",
    "# Creamos una encuesta de personas que deberían hacer la encuesta y decirnos su\n",
    "# lenguaje preferido\n",
    "person_poll = ['jen', 'natalia', 'thiare', 'valeria', 'phil']\n",
    "\n",
    "for person in person_poll:\n",
    "    # verificamos si la persona contesto la encuesta\n",
    "    if person in favorite_language.keys():\n",
    "        print(f'\\n{person.title()} gracias por contestar la encuesta')\n",
    "    else:\n",
    "        print(f'\\n{person.title()} deberías contestar la encuesta')"
   ]
  }
 ],
 "metadata": {
  "kernelspec": {
   "display_name": "Python 3",
   "language": "python",
   "name": "python3"
  },
  "language_info": {
   "codemirror_mode": {
    "name": "ipython",
    "version": 3
   },
   "file_extension": ".py",
   "mimetype": "text/x-python",
   "name": "python",
   "nbconvert_exporter": "python",
   "pygments_lexer": "ipython3",
   "version": "3.13.2"
  }
 },
 "nbformat": 4,
 "nbformat_minor": 5
}
