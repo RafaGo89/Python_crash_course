{
 "cells": [
  {
   "cell_type": "markdown",
   "id": "e1aadc2d",
   "metadata": {},
   "source": [
    " Haga un diccionario con tres ríos importantes y el país por el que\n",
    "discurre cada uno. Un par clave-valor podría ser 'nilo': 'egipto'.\n",
    "* Use un bucle para imprimir una frase sobre cada río, como \"El Nilo\n",
    "discurre por Egipto\".\n",
    "* Use un bucle para imprimir el nombre de cada río incluido en el\n",
    "diccionario.\n",
    "* Use un bucle para imprimir el nombre de cada país incluido en el\n",
    "diccionario."
   ]
  },
  {
   "cell_type": "code",
   "execution_count": 1,
   "id": "26fe6df0",
   "metadata": {},
   "outputs": [
    {
     "name": "stdout",
     "output_type": "stream",
     "text": [
      "\n",
      "El rio Nilo discurre por Egipto\n",
      "\n",
      "El rio Tamesis discurre por Inglaterra\n",
      "\n",
      "El rio Sena discurre por Francia\n"
     ]
    }
   ],
   "source": [
    "rios = {\n",
    "    'nilo': 'egipto',\n",
    "    'tamesis': 'inglaterra',\n",
    "    'sena': 'francia'\n",
    "    }\n",
    "\n",
    "for rio, pais in rios.items():\n",
    "    print(f'\\nEl rio {rio.title()} discurre por {pais.title()}')"
   ]
  },
  {
   "cell_type": "code",
   "execution_count": 3,
   "id": "9bf6913e",
   "metadata": {},
   "outputs": [
    {
     "name": "stdout",
     "output_type": "stream",
     "text": [
      "El rio Nilo\n",
      "El rio Tamesis\n",
      "El rio Sena\n"
     ]
    }
   ],
   "source": [
    "rios = {\n",
    "    'nilo': 'egipto',\n",
    "    'tamesis': 'inglaterra',\n",
    "    'sena': 'francia'\n",
    "    }\n",
    "\n",
    "for rio in rios.keys():\n",
    "    print(f'El rio {rio.title()}')"
   ]
  },
  {
   "cell_type": "code",
   "execution_count": 5,
   "id": "5a26c664",
   "metadata": {},
   "outputs": [
    {
     "name": "stdout",
     "output_type": "stream",
     "text": [
      "Egipto\n",
      "Inglaterra\n",
      "Francia\n"
     ]
    }
   ],
   "source": [
    "rios = {\n",
    "    'nilo': 'egipto',\n",
    "    'tamesis': 'inglaterra',\n",
    "    'sena': 'francia'\n",
    "    }\n",
    "\n",
    "for pais in rios.values():\n",
    "    print(f'{pais.title()}')"
   ]
  }
 ],
 "metadata": {
  "kernelspec": {
   "display_name": "Python 3",
   "language": "python",
   "name": "python3"
  },
  "language_info": {
   "codemirror_mode": {
    "name": "ipython",
    "version": 3
   },
   "file_extension": ".py",
   "mimetype": "text/x-python",
   "name": "python",
   "nbconvert_exporter": "python",
   "pygments_lexer": "ipython3",
   "version": "3.13.2"
  }
 },
 "nbformat": 4,
 "nbformat_minor": 5
}
