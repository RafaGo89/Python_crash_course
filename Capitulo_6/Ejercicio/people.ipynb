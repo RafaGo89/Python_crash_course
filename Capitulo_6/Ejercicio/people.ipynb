{
 "cells": [
  {
   "cell_type": "markdown",
   "id": "db7c09e1",
   "metadata": {},
   "source": [
    "Empiece con el programa que ha escrito para el ejercicio\n",
    "6-1. Cree dos diccionarios nuevos que representen a distintas personas y\n",
    "guarde los tres diccionarios en una lista llamada personas. Pase en bucle por\n",
    "la lista. Al hacerlo, imprima todo lo que sabe sobre cada persona."
   ]
  },
  {
   "cell_type": "code",
   "execution_count": 3,
   "id": "8433fc42",
   "metadata": {},
   "outputs": [
    {
     "name": "stdout",
     "output_type": "stream",
     "text": [
      "\n",
      "{'nombre': 'natalia', 'apellido': 'otero', 'edad': 20, 'ciudad': 'guadalajara'}\n",
      "\n",
      "{'nombre': 'valeria', 'apellido': 'frías', 'edad': 20, 'ciudad': 'guadalajara'}\n",
      "\n",
      "{'nombre': 'thiare', 'apellido': 'gómez', 'edad': 22, 'ciudad': 'san josé'}\n"
     ]
    }
   ],
   "source": [
    "person_0 = {'nombre': 'natalia', 'apellido': 'otero', 'edad': 20, 'ciudad': 'guadalajara'}\n",
    "person_1 = {'nombre': 'valeria', 'apellido': 'frías', 'edad': 20, 'ciudad': 'guadalajara'}\n",
    "person_2 = {'nombre': 'thiare', 'apellido': 'gómez', 'edad': 22, 'ciudad': 'san josé'}\n",
    "\n",
    "people = [person_0, person_1, person_2]\n",
    "\n",
    "for person in people:\n",
    "    print(f'\\n{person}')"
   ]
  }
 ],
 "metadata": {
  "kernelspec": {
   "display_name": "Python 3",
   "language": "python",
   "name": "python3"
  },
  "language_info": {
   "codemirror_mode": {
    "name": "ipython",
    "version": 3
   },
   "file_extension": ".py",
   "mimetype": "text/x-python",
   "name": "python",
   "nbconvert_exporter": "python",
   "pygments_lexer": "ipython3",
   "version": "3.13.2"
  }
 },
 "nbformat": 4,
 "nbformat_minor": 5
}
