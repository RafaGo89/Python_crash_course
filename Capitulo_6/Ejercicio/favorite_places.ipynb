{
 "cells": [
  {
   "cell_type": "markdown",
   "id": "be643142",
   "metadata": {},
   "source": [
    "Cree un diccionario llamado lugares_favoritos.\n",
    "Piense en tres nombres para usar como claves en el diccionario y guarde\n",
    "entre uno y tres lugares favoritos para cada persona. Para hacer este\n",
    "ejercicio un poco más interesante, pregunte a algunos amigos por sus sitios\n",
    "preferidos. Pase en bucle por el diccionario e imprima el nombre y el lugar\n",
    "favorito de cada persona."
   ]
  },
  {
   "cell_type": "code",
   "execution_count": 16,
   "id": "5d5a1bbb",
   "metadata": {},
   "outputs": [
    {
     "name": "stdout",
     "output_type": "stream",
     "text": [
      "Thiare's favorite places are:\n",
      "\ther house\n",
      "\ther parent's house\n",
      "Juan's favorite places are:\n",
      "\tthe beach\n",
      "\this grandparents's house\n",
      "\tthe university\n",
      "Rafa's favorite place is: \n",
      "\tthe bed\n"
     ]
    }
   ],
   "source": [
    "favorite_places = {'thiare': ['her house', \"her parent's house\"],\n",
    "                   'juan': ['the beach', \"his grandparents's house\", 'the university'],\n",
    "                   'rafa': ['the bed']\n",
    "                   }\n",
    "\n",
    "for person, places in favorite_places.items():\n",
    "    # Si la persona solo tiene un lugar favorito\n",
    "    if len(places) == 1:\n",
    "        print(f\"{person.title()}'s favorite place is: \\n\\t{places[0]}\")\n",
    "    # Si la persona tiene más de un lugar favorito\n",
    "    elif len(places) > 1:\n",
    "        print(f\"{person.title()}'s favorite places are:\")\n",
    "        for place in places:\n",
    "            print(f'\\t{place}')\n",
    "    else:\n",
    "        print(f'{person} has no favorite places')"
   ]
  }
 ],
 "metadata": {
  "kernelspec": {
   "display_name": "Python 3",
   "language": "python",
   "name": "python3"
  },
  "language_info": {
   "codemirror_mode": {
    "name": "ipython",
    "version": 3
   },
   "file_extension": ".py",
   "mimetype": "text/x-python",
   "name": "python",
   "nbconvert_exporter": "python",
   "pygments_lexer": "ipython3",
   "version": "3.13.2"
  }
 },
 "nbformat": 4,
 "nbformat_minor": 5
}
