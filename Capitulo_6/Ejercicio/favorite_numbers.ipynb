{
  "nbformat": 4,
  "nbformat_minor": 0,
  "metadata": {
    "colab": {
      "provenance": []
    },
    "kernelspec": {
      "name": "python3",
      "display_name": "Python 3"
    },
    "language_info": {
      "name": "python"
    }
  },
  "cells": [
    {
      "cell_type": "markdown",
      "source": [
        "Modifique el programa del ejercicio 6-2 para\n",
        "que cada persona pueda tener más de un número favorito. Luego, imprima el\n",
        "nombre de cada persona junto con su(s) número(s) favorito(s)."
      ],
      "metadata": {
        "id": "_XM61Yuzzjxu"
      }
    },
    {
      "cell_type": "code",
      "execution_count": null,
      "metadata": {
        "colab": {
          "base_uri": "https://localhost:8080/"
        },
        "id": "MTZl7Ry-ggXA",
        "outputId": "15471323-ef79-4572-ddc3-b7174f232fd7"
      },
      "outputs": [
        {
          "output_type": "stream",
          "name": "stdout",
          "text": [
            "Thiare's favorite numbers are\n",
            "\t21\n",
            "\t1\n",
            "\t14\n",
            "Natalia's favorite numbers are\n",
            "\t7\n",
            "\t10\n",
            "Jorge's favorite numbers are\n",
            "\t3\n",
            "\t100\n",
            "\t500\n",
            "\t700\n",
            "Mónica's favorite number is \n",
            "\t16\n",
            "Pedro's favorite numbers are\n",
            "\t1\n",
            "\t7\n",
            "\t77\n"
          ]
        }
      ],
      "source": [
        "favorite_numbers = {'thiare': [21, 1, 14],\n",
        "                   'natalia': [7, 10],\n",
        "                   'jorge': [3, 100, 500, 700],\n",
        "                   'mónica': [16],\n",
        "                   'pedro': [1, 7, 77]\n",
        "                   }\n",
        "for person, numbers in favorite_numbers.items():\n",
        "    if len(numbers) == 1:\n",
        "        print(f\"{person.title()}'s favorite number is \\n\\t{numbers[0]}\")\n",
        "    elif len(numbers) > 1:\n",
        "        print(f\"{person.title()}'s favorite numbers are\")\n",
        "        for number in numbers:\n",
        "            print(f'\\t{number}')\n",
        "    else:\n",
        "        print(f\"{person.title()} has no favorite numbers\")"
      ]
    }
  ]
}