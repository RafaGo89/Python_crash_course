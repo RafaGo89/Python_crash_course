{
 "cells": [
  {
   "cell_type": "markdown",
   "id": "95b70ca7",
   "metadata": {},
   "source": [
    "Ahora que sabe cómo pasar en bucle por un diccionario,\n",
    "limpie el código del ejercicio 6-3 sustituyendo las llamadas a print() por un\n",
    "bucle que pase por las claves y valores del diccionario. Cuando sepa con\n",
    "seguridad que su bucle funciona, añada a su glosario cinco términos más\n",
    "relacionados con Python. Cuando vuelva a ejecutar el programa, estas\n",
    "nuevas palabras y definiciones deberían incluirse automáticamente en la\n",
    "salida."
   ]
  },
  {
   "cell_type": "code",
   "execution_count": 11,
   "id": "34b3c8c3",
   "metadata": {},
   "outputs": [
    {
     "name": "stdout",
     "output_type": "stream",
     "text": [
      "\n",
      "-Variable: Espacio en memoria para almacenar un valor\n",
      "\n",
      "-Lista: Estructura de datos que contiene elementos ordenados\n",
      "\n",
      "-Diccionario: Estructura de datos que almacena datos en formato clave-valor\n",
      "\n",
      "-Tupla: Estructra de datos inmutable que contiene elementos ordenados\n",
      "\n",
      "-Método: Bloque de código que realiza alguna acción\n",
      "\n",
      "-Tipos De Datos: Categorías de datos que un programa puede manipular\n",
      "\n",
      "-Conjuntos: Colecciones de elementos únicos y desordenados\n",
      "\n",
      "-Funciones: Bloques de código reutilizable que realizan una tarea específica\n",
      "\n",
      "-If: Una declaración condicional que ejecuta código si una condición es verdadera\n",
      "\n",
      "-Modulos: Archivos que contienen código (funciones, clases, variables) para realizar un tipo específico de tarea.\n"
     ]
    }
   ],
   "source": [
    "# Definimos un diccionario con definiciones\n",
    "glosario = {'Variable': 'Espacio en memoria para almacenar un valor',\n",
    "           'Lista': 'Estructura de datos que contiene elementos ordenados',\n",
    "           'Diccionario': 'Estructura de datos que almacena datos en formato clave-valor',\n",
    "           'Tupla': 'Estructra de datos inmutable que contiene elementos ordenados',\n",
    "           'Método': 'Bloque de código que realiza alguna acción',\n",
    "           'Tipos de datos': 'Categorías de datos que un programa puede manipular',\n",
    "           'Conjuntos': 'Colecciones de elementos únicos y desordenados',\n",
    "           'Funciones': 'Bloques de código reutilizable que realizan una tarea específica',\n",
    "           'if': 'Una declaración condicional que ejecuta código si una condición es verdadera',\n",
    "           'Modulos': 'Archivos que contienen código (funciones, clases, variables) para realizar un tipo específico de tarea.'\n",
    "           }\n",
    "\n",
    "for palabra, definicion in glosario.items():\n",
    "    print(f'\\n-{palabra.title()}: {definicion}')"
   ]
  }
 ],
 "metadata": {
  "kernelspec": {
   "display_name": "Python 3",
   "language": "python",
   "name": "python3"
  },
  "language_info": {
   "codemirror_mode": {
    "name": "ipython",
    "version": 3
   },
   "file_extension": ".py",
   "mimetype": "text/x-python",
   "name": "python",
   "nbconvert_exporter": "python",
   "pygments_lexer": "ipython3",
   "version": "3.13.2"
  }
 },
 "nbformat": 4,
 "nbformat_minor": 5
}
