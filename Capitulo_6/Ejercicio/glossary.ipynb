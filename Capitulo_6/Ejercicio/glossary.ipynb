{
 "cells": [
  {
   "cell_type": "markdown",
   "id": "98103ddc",
   "metadata": {},
   "source": [
    "Puede usar un diccionario de Python para modelar un\n",
    "diccionario real. Sin embargo, para evitar confusiones, lo llamaremos\n",
    "\"glosario\".\n",
    "* Piense en cinco palabras de programación que haya aprendido en los\n",
    "capítulos anteriores y úselas como claves en su glosario. Guarde sus\n",
    "significados como valores.\n",
    "* Imprima cada palabra con su significado en una salida con formato\n",
    "limpio. Podría imprimir la palabra seguida de dos puntos y luego la\n",
    "definición, o la palabra en una línea y la definición sangrada en una\n",
    "segunda línea. Use el carácter de nueva línea (\\n) para insertar una línea\n",
    "en blanco entre cada par palabra-definición en la salida."
   ]
  },
  {
   "cell_type": "code",
   "execution_count": 9,
   "id": "c682e348",
   "metadata": {},
   "outputs": [
    {
     "name": "stdout",
     "output_type": "stream",
     "text": [
      "Variable: \n",
      "Espacio en memoria para almacenar un valor\n",
      "\n",
      "Lista: \n",
      "Estructura de datos que contiene elementos ordenados\n",
      "\n",
      "Diccionario: \n",
      "Estructura de datos que almacena datos en formato clave-valor\n",
      "\n",
      "Tupla: \n",
      "Estructra de datos inmutable que contiene elementos ordenados\n",
      "\n",
      "Método: \n",
      "Bloque de código que realiza alguna acción\n"
     ]
    }
   ],
   "source": [
    "glosario = {'Variable': 'Espacio en memoria para almacenar un valor',\n",
    "           'Lista': 'Estructura de datos que contiene elementos ordenados',\n",
    "           'Diccionario': 'Estructura de datos que almacena datos en formato clave-valor',\n",
    "           'Tupla': 'Estructra de datos inmutable que contiene elementos ordenados',\n",
    "           'Método': 'Bloque de código que realiza alguna acción'}\n",
    "\n",
    "print(f'Variable: \\n{glosario['Variable']}')\n",
    "print(f'\\nLista: \\n{glosario['Lista']}')\n",
    "print(f'\\nDiccionario: \\n{glosario['Diccionario']}')\n",
    "print(f'\\nTupla: \\n{glosario['Tupla']}')\n",
    "print(f'\\nMétodo: \\n{glosario['Método']}')"
   ]
  }
 ],
 "metadata": {
  "kernelspec": {
   "display_name": "Python 3",
   "language": "python",
   "name": "python3"
  },
  "language_info": {
   "codemirror_mode": {
    "name": "ipython",
    "version": 3
   },
   "file_extension": ".py",
   "mimetype": "text/x-python",
   "name": "python",
   "nbconvert_exporter": "python",
   "pygments_lexer": "ipython3",
   "version": "3.13.2"
  }
 },
 "nbformat": 4,
 "nbformat_minor": 5
}
