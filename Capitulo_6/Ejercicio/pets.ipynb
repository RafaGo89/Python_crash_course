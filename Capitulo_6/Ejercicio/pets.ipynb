{
 "cells": [
  {
   "cell_type": "markdown",
   "id": "e5c31034",
   "metadata": {},
   "source": [
    "Cree varios diccionarios, cada uno representando una\n",
    "mascota diferente. En cada diccionario, incluya el tipo de animal y el nombre\n",
    "del dueño. Guarde estos diccionarios en una lista llamada mascotas. A\n",
    "continuación, pase en bucle por la lista y, al hacerlo, imprima todo lo que\n",
    "sabe sobre cada mascota."
   ]
  },
  {
   "cell_type": "code",
   "execution_count": 2,
   "id": "e36c7992",
   "metadata": {},
   "outputs": [
    {
     "name": "stdout",
     "output_type": "stream",
     "text": [
      "{'animal': 'dog', 'owner': 'Peter'}\n",
      "{'animal': 'fish', 'owner': 'Julia'}\n",
      "{'animal': 'snake', 'owner': 'Matias'}\n",
      "{'animal': 'cat', 'owner': 'Valeria'}\n"
     ]
    }
   ],
   "source": [
    "pet_0 = {'animal': 'dog', 'owner': 'Peter'}\n",
    "pet_1 = {'animal': 'fish', 'owner': 'Julia'}\n",
    "pet_2 = {'animal': 'snake', 'owner': 'Matias'}\n",
    "pet_3 = {'animal': 'cat', 'owner': 'Valeria'}\n",
    "\n",
    "pets = [pet_0, pet_1, pet_2, pet_3]\n",
    "\n",
    "for pet in pets:\n",
    "    print(pet)"
   ]
  }
 ],
 "metadata": {
  "kernelspec": {
   "display_name": "Python 3",
   "language": "python",
   "name": "python3"
  },
  "language_info": {
   "codemirror_mode": {
    "name": "ipython",
    "version": 3
   },
   "file_extension": ".py",
   "mimetype": "text/x-python",
   "name": "python",
   "nbconvert_exporter": "python",
   "pygments_lexer": "ipython3",
   "version": "3.13.2"
  }
 },
 "nbformat": 4,
 "nbformat_minor": 5
}
