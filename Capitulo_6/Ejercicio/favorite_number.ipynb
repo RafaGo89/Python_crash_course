{
 "cells": [
  {
   "cell_type": "markdown",
   "id": "0462c235",
   "metadata": {},
   "source": [
    "Use un diccionario para guardar los números\n",
    "favoritos de distintas personas. Piense en cinco nombres y úselos como claves\n",
    "en su diccionario. Piense el número favorito de cada persona y guárdelo\n",
    "como valor en su diccionario. Imprima el nombre y el número favorito de\n",
    "cada persona."
   ]
  },
  {
   "cell_type": "code",
   "execution_count": 7,
   "id": "a69040e9",
   "metadata": {},
   "outputs": [
    {
     "name": "stdout",
     "output_type": "stream",
     "text": [
      "El número favorito de Thiare es el 21\n",
      "El número favorito de Natalia es el 7\n",
      "El número favorito de Valeria es el 3\n",
      "El número favorito de Mónica es el 16\n",
      "El número favorito de Pedro es el 1\n"
     ]
    }
   ],
   "source": [
    "favorite_number = {'Thiare': 21, 'Natalia': 7, 'Valeria': 3, 'Mónica': 16, 'Pedro': 1}\n",
    "\n",
    "print(f'El número favorito de Thiare es el {favorite_number['Thiare']}')\n",
    "print(f'El número favorito de Natalia es el {favorite_number['Natalia']}')\n",
    "print(f'El número favorito de Valeria es el {favorite_number['Valeria']}')\n",
    "print(f'El número favorito de Mónica es el {favorite_number['Mónica']}')\n",
    "print(f'El número favorito de Pedro es el {favorite_number['Pedro']}')"
   ]
  }
 ],
 "metadata": {
  "kernelspec": {
   "display_name": "Python 3",
   "language": "python",
   "name": "python3"
  },
  "language_info": {
   "codemirror_mode": {
    "name": "ipython",
    "version": 3
   },
   "file_extension": ".py",
   "mimetype": "text/x-python",
   "name": "python",
   "nbconvert_exporter": "python",
   "pygments_lexer": "ipython3",
   "version": "3.13.2"
  }
 },
 "nbformat": 4,
 "nbformat_minor": 5
}
