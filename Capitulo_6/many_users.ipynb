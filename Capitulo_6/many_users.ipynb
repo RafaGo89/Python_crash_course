{
 "cells": [
  {
   "cell_type": "code",
   "execution_count": null,
   "id": "cc691c10",
   "metadata": {},
   "outputs": [
    {
     "name": "stdout",
     "output_type": "stream",
     "text": [
      "\n",
      "Username: aeinstein\n",
      "\tFull name: Albert Einstein\n",
      "\tLocation: Princeton\n",
      "\n",
      "Username: mcurie\n",
      "\tFull name: Marie Curie\n",
      "\tLocation: Paris\n"
     ]
    }
   ],
   "source": [
    "# Definimos un diccionario llamado users con dos claves\n",
    "# El valor asociado con cada clave es un diccionario que incluye el nombre, el\n",
    "# apellido y la ubicación del usuario\n",
    "users = {\n",
    "    'aeinstein': {\n",
    "        'first': 'albert',\n",
    "        'last': 'einstein',\n",
    "        'location': 'princeton'\n",
    "        },\n",
    "    'mcurie': {\n",
    "        'first': 'marie',\n",
    "        'last': 'curie',\n",
    "        'location': 'paris'\n",
    "        }\n",
    "    }\n",
    "\n",
    "for username, user_info in users.items():\n",
    "    print(f'\\nUsername: {username}')\n",
    "    # Guardamos en una variable el nombre completo y la ubicación,\n",
    "    # accediendo al segundo diccionario. También les damos formato\n",
    "    full_name = f'{user_info['first']} {user_info['last']}'\n",
    "    location = user_info['location']\n",
    "    # Imprimimos los valores\n",
    "    print(f'\\tFull name: {full_name.title()}')\n",
    "    print(f'\\tLocation: {location.title()}')"
   ]
  }
 ],
 "metadata": {
  "kernelspec": {
   "display_name": "Python 3",
   "language": "python",
   "name": "python3"
  },
  "language_info": {
   "codemirror_mode": {
    "name": "ipython",
    "version": 3
   },
   "file_extension": ".py",
   "mimetype": "text/x-python",
   "name": "python",
   "nbconvert_exporter": "python",
   "pygments_lexer": "ipython3",
   "version": "3.13.2"
  }
 },
 "nbformat": 4,
 "nbformat_minor": 5
}
