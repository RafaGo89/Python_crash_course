{
 "cells": [
  {
   "cell_type": "code",
   "execution_count": null,
   "id": "bae7f6cc",
   "metadata": {},
   "outputs": [
    {
     "name": "stdout",
     "output_type": "stream",
     "text": [
      "green\n",
      "5\n"
     ]
    }
   ],
   "source": [
    "# Creamos un diccionario con el color y puntos de un alien en un videojuego\n",
    "alien_0 = {'color': 'green', 'points': 5}\n",
    "\n",
    "# Imprimimos el colr y puntos del alien\n",
    "print(alien_0['color'])\n",
    "print(alien_0['points'])"
   ]
  },
  {
   "cell_type": "code",
   "execution_count": null,
   "id": "f7c2313c",
   "metadata": {},
   "outputs": [
    {
     "name": "stdout",
     "output_type": "stream",
     "text": [
      "green\n"
     ]
    }
   ],
   "source": [
    "alien_0 = {'color': 'green'}\n",
    "\n",
    "# Imprimimos el valor asociado a la clave color\n",
    "print(alien_0['color'])"
   ]
  },
  {
   "cell_type": "code",
   "execution_count": null,
   "id": "ccf0c472",
   "metadata": {},
   "outputs": [
    {
     "name": "stdout",
     "output_type": "stream",
     "text": [
      "You just earned 5 points!\n"
     ]
    }
   ],
   "source": [
    "alien_0 = {'color': 'green', 'points': 5}\n",
    "\n",
    "# Asociamos a una variable el valor de puntos\n",
    "new_points = alien_0['points']\n",
    "# Imprimimos los puntos ganados\n",
    "print(f'You just earned {new_points} points!')"
   ]
  },
  {
   "cell_type": "code",
   "execution_count": 12,
   "id": "cb039e2d",
   "metadata": {},
   "outputs": [
    {
     "name": "stdout",
     "output_type": "stream",
     "text": [
      "{'color': 'green', 'points': 5}\n",
      "{'color': 'green', 'points': 5, 'x_position': 0, 'y_position': 25}\n"
     ]
    }
   ],
   "source": [
    "alien_0 = {'color': 'green', 'points': 5}\n",
    "\n",
    "# Imprimimos el diccionario original\n",
    "print(alien_0)\n",
    "\n",
    "# Añadimos nuevos valores al diccionario\n",
    "alien_0['x_position'] = 0\n",
    "alien_0['y_position'] = 25\n",
    "\n",
    "# imprimimos el diccionario con las nuevas claves-valores\n",
    "print(alien_0)"
   ]
  },
  {
   "cell_type": "code",
   "execution_count": null,
   "id": "2831b015",
   "metadata": {},
   "outputs": [
    {
     "name": "stdout",
     "output_type": "stream",
     "text": [
      "{'color': 'green', 'points': 5}\n"
     ]
    }
   ],
   "source": [
    "# Iniciamos un diccionario vacío\n",
    "alien_0 = {}\n",
    "\n",
    "# Añadimos las claves y valores\n",
    "alien_0['color'] = 'green'\n",
    "alien_0['points'] = 5\n",
    "\n",
    "# Imprimimos el diccionario\n",
    "print(alien_0)"
   ]
  },
  {
   "cell_type": "code",
   "execution_count": 11,
   "id": "0d91557c",
   "metadata": {},
   "outputs": [
    {
     "name": "stdout",
     "output_type": "stream",
     "text": [
      "The alien is green\n",
      "The alien is now yellow\n"
     ]
    }
   ],
   "source": [
    "# Definimos el color del alien en el diccionario\n",
    "alien_0 = {'color': 'green'}\n",
    "print(f'The alien is {alien_0['color']}')\n",
    "\n",
    "# Modificamos el valor del color del alien\n",
    "alien_0['color'] = 'yellow'\n",
    "print(f'The alien is now {alien_0['color']}')"
   ]
  },
  {
   "cell_type": "code",
   "execution_count": null,
   "id": "87275dbf",
   "metadata": {},
   "outputs": [
    {
     "name": "stdout",
     "output_type": "stream",
     "text": [
      "Original position: 0\n",
      "New position: 2\n"
     ]
    }
   ],
   "source": [
    "# Creamos un alien con una posición y velocidad determinada\n",
    "alien_0 = {'x_position': 0, 'y_position': 25, 'speed': 'medium'}\n",
    "\n",
    "print(f'Original position: {alien_0[\"x_position\"]}')\n",
    "\n",
    "# Movemos el alien a la derecha basandonos en su velocidad\n",
    "if alien_0['speed'] == 'slow':\n",
    "    x_increment = 1\n",
    "elif alien_0['speed'] == 'medium':\n",
    "    x_increment = 2\n",
    "else:\n",
    "    # Speed: fast\n",
    "    x_increment = 3\n",
    "    \n",
    "# La nueva posición es la que ya tiene más el incremento por su velocidad\n",
    "alien_0['x_position'] = alien_0['x_position'] + x_increment\n",
    "\n",
    "print(f'New position: {alien_0['x_position']}')"
   ]
  },
  {
   "cell_type": "code",
   "execution_count": null,
   "id": "907780ea",
   "metadata": {},
   "outputs": [
    {
     "name": "stdout",
     "output_type": "stream",
     "text": [
      "{'color': 'green', 'points': 5}\n",
      "{'color': 'green'}\n"
     ]
    }
   ],
   "source": [
    "alien_0 = {'color': 'green', 'points': 5}\n",
    "print(alien_0)\n",
    "\n",
    "# Eliminamos la clave (y por ende el valor) de points\n",
    "del alien_0['points']\n",
    "# Imprimimos el diccionario de nuevo\n",
    "print(alien_0)"
   ]
  }
 ],
 "metadata": {
  "kernelspec": {
   "display_name": "Python 3",
   "language": "python",
   "name": "python3"
  },
  "language_info": {
   "codemirror_mode": {
    "name": "ipython",
    "version": 3
   },
   "file_extension": ".py",
   "mimetype": "text/x-python",
   "name": "python",
   "nbconvert_exporter": "python",
   "pygments_lexer": "ipython3",
   "version": "3.13.2"
  }
 },
 "nbformat": 4,
 "nbformat_minor": 5
}
