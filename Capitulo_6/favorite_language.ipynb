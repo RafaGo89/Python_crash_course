{
 "cells": [
  {
   "cell_type": "code",
   "execution_count": null,
   "id": "0e175c5b",
   "metadata": {},
   "outputs": [
    {
     "name": "stdout",
     "output_type": "stream",
     "text": [
      "Sarah's  favorite programming language is C\n"
     ]
    }
   ],
   "source": [
    "# Creamos un diccionario con objetos o claves similares\n",
    "favorite_language = {\n",
    "    'jen': 'python',\n",
    "    'sarah': 'c',\n",
    "    'edward': 'rust',\n",
    "    'phil': 'python'\n",
    "    }\n",
    "\n",
    "# Obtenemos el lenguaje favorito de Sarah y lo guardamos en una variable\n",
    "language = favorite_language['sarah'].title()\n",
    "# Imprimimos el valor obtenido\n",
    "print(f\"Sarah's  favorite programming language is {language}\")"
   ]
  },
  {
   "cell_type": "code",
   "execution_count": null,
   "id": "46dbbdc0",
   "metadata": {},
   "outputs": [
    {
     "name": "stdout",
     "output_type": "stream",
     "text": [
      "No point value assigned\n"
     ]
    }
   ],
   "source": [
    "# Usamos un diccionario con personas y sus lenguajes de programación\n",
    "# favoritos\n",
    "favorite_languages = {\n",
    "    'jen': 'python',\n",
    "    'sarah': 'c',\n",
    "    'edward': 'rust',\n",
    "    'phil': 'python',\n",
    "    }\n",
    "\n",
    "# Empleamos un ciclo for para trabajar con el nombe y el lenguaje\n",
    "for name, language in favorite_languages.items():\n",
    "    # Imprimimos los valores\n",
    "    print(f\"{name.title()}'s favorite language is {language.title()}\")"
   ]
  },
  {
   "cell_type": "code",
   "execution_count": null,
   "id": "603158f4",
   "metadata": {},
   "outputs": [
    {
     "name": "stdout",
     "output_type": "stream",
     "text": [
      "Jen\n",
      "Sarah\n",
      "Edward\n",
      "Phil\n",
      "\n",
      "\n",
      "Jen\n",
      "Sarah\n",
      "Edward\n",
      "Phil\n"
     ]
    }
   ],
   "source": [
    "favorite_languages = {\n",
    "    'jen': 'python',\n",
    "    'sarah': 'c',\n",
    "    'edward': 'rust',\n",
    "    'phil': 'python',\n",
    "    }\n",
    "\n",
    "# Con el método keys(), podemos acceder solamente a las claves del diccionario\n",
    "for name in favorite_languages.keys():\n",
    "    print(name.title())\n",
    "    \n",
    "# Acceder a las claves también se puede realiza de esta manera, sin keys()\n",
    "print('\\n')\n",
    "for name in favorite_languages:\n",
    "    print(name.title())"
   ]
  },
  {
   "cell_type": "code",
   "execution_count": null,
   "id": "0dce0e30",
   "metadata": {},
   "outputs": [
    {
     "name": "stdout",
     "output_type": "stream",
     "text": [
      "Hi Jen\n",
      "Hi Sarah\n",
      "\tSarah, I see you love C\n",
      "Hi Edward\n",
      "Hi Phil\n",
      "\tPhil, I see you love Python\n"
     ]
    }
   ],
   "source": [
    "favorite_languages = {\n",
    "    'jen': 'python',\n",
    "    'sarah': 'c',\n",
    "    'edward': 'rust',\n",
    "    'phil': 'python',\n",
    "    }\n",
    "\n",
    "# Creamos una lista con los nombres de nuestros amigos\n",
    "friends = {'phil', 'sarah'}\n",
    "\n",
    "for name in favorite_languages.keys():\n",
    "    # Imprimimos un saludo para las personas\n",
    "    print(f'Hi {name.title()}')\n",
    "    \n",
    "    # Si alguno de ellos está dentro de la lista de nuestros amigos\n",
    "    if name in friends:\n",
    "        # Accedemos al valor por medio de la clave almacenada en 'name'\n",
    "        # y lo guardamos en una variable\n",
    "        language = favorite_languages[name].title()\n",
    "        # Les mostramos un mensaje especial mostrando el lenguaje que les gusta\n",
    "        print(f'\\t{name.title()}, I see you love {language}')"
   ]
  },
  {
   "cell_type": "code",
   "execution_count": null,
   "id": "bdcd2e29",
   "metadata": {},
   "outputs": [
    {
     "name": "stdout",
     "output_type": "stream",
     "text": [
      "Erin, please take our poll\n"
     ]
    }
   ],
   "source": [
    "favorite_languages = {\n",
    "    'jen': 'python',\n",
    "    'sarah': 'c',\n",
    "    'edward': 'rust',\n",
    "    'phil': 'python',\n",
    "    }\n",
    "\n",
    "# Podemos usar el método keys() para verificar si alguien tomó nuestra encuesta,\n",
    "# en este caso Erin que no lo hizo\n",
    "if 'erin' not in favorite_languages.keys():\n",
    "    print('Erin, please take our poll')"
   ]
  },
  {
   "cell_type": "code",
   "execution_count": null,
   "id": "33ad16bb",
   "metadata": {},
   "outputs": [
    {
     "name": "stdout",
     "output_type": "stream",
     "text": [
      "Edward, thank you for taking the poll\n",
      "Jen, thank you for taking the poll\n",
      "Phil, thank you for taking the poll\n",
      "Sarah, thank you for taking the poll\n"
     ]
    }
   ],
   "source": [
    "favorite_languages = {\n",
    "    'jen': 'python',\n",
    "    'sarah': 'c',\n",
    "    'edward': 'rust',\n",
    "    'phil': 'python',\n",
    "    }\n",
    "\n",
    "# Si usamos la funcion sorted() en el diccionario accediendo a las claves,\n",
    "# ordenaremos alfabeticamente los nombres\n",
    "for name in sorted(favorite_languages.keys()):\n",
    "    print(f'{name.title()}, thank you for taking the poll')"
   ]
  },
  {
   "cell_type": "code",
   "execution_count": null,
   "id": "15ae6932",
   "metadata": {},
   "outputs": [
    {
     "name": "stdout",
     "output_type": "stream",
     "text": [
      "The following languages have been mentioned:\n",
      "Python\n",
      "C\n",
      "Rust\n",
      "Python\n"
     ]
    }
   ],
   "source": [
    "favorite_languages = {\n",
    "    'jen': 'python',\n",
    "    'sarah': 'c',\n",
    "    'edward': 'rust',\n",
    "    'phil': 'python',\n",
    "    }\n",
    "\n",
    "print('The following languages have been mentioned:')\n",
    "# Para acceder solo a los valores de un diccionario, usamos el método values()\n",
    "for language in favorite_languages.values():\n",
    "    # Con ellos hacemos un listado de los lenguajes de programación mencionados\n",
    "    print(language.title())"
   ]
  },
  {
   "cell_type": "code",
   "execution_count": null,
   "id": "9781d0fe",
   "metadata": {},
   "outputs": [
    {
     "name": "stdout",
     "output_type": "stream",
     "text": [
      "The following languages have been mentioned:\n",
      "C\n",
      "Python\n",
      "Rust\n"
     ]
    }
   ],
   "source": [
    "favorite_languages = {\n",
    "    'jen': 'python',\n",
    "    'sarah': 'c',\n",
    "    'edward': 'rust',\n",
    "    'phil': 'python',\n",
    "    }\n",
    "\n",
    "print('The following languages have been mentioned:')\n",
    "# Con set() convertimos los valores en un conjunto, y por lo tanto los valores\n",
    "# repetidos se eliminan. Quedan valores únicos\n",
    "for language in set(favorite_languages.values()):\n",
    "    print(language.title())"
   ]
  },
  {
   "cell_type": "code",
   "execution_count": 10,
   "id": "3042f1d4",
   "metadata": {},
   "outputs": [
    {
     "name": "stdout",
     "output_type": "stream",
     "text": [
      "{'c', 'python', 'rust'}\n"
     ]
    }
   ],
   "source": [
    "# Para crear un conjunto lo hacemos de esta manera\n",
    "# Esta estructura de dato no permite valores repetidos\n",
    "langauges = {'python', 'c', 'rust', 'python'}\n",
    "\n",
    "print(langauges)"
   ]
  },
  {
   "cell_type": "code",
   "execution_count": 3,
   "id": "3363f295",
   "metadata": {},
   "outputs": [
    {
     "name": "stdout",
     "output_type": "stream",
     "text": [
      "\n",
      "Jen's favorite languages are:\n",
      "\tPython\n",
      "\tRust\n",
      "\n",
      "Sarah's favorite languages are:\n",
      "\tC\n",
      "\n",
      "Edward's favorite languages are:\n",
      "\tRust\n",
      "\tGo\n",
      "\n",
      "Phil's favorite languages are:\n",
      "\tPython\n",
      "\tHaskell\n"
     ]
    }
   ],
   "source": [
    "# Creamos una lista de personas y sus lenguajes de programación favoritos,\n",
    "# almacenados en una lista ya que pueden ser más de uno\n",
    "favorite_languages = {\n",
    "    'jen': ['python', 'rust'],\n",
    "    'sarah': ['c'],\n",
    "    'edward': ['rust', 'go'],\n",
    "    'phil': ['python', 'haskell']\n",
    "    }\n",
    "\n",
    "for name, langauges in favorite_languages.items():\n",
    "    print(f\"\\n{name.title()}'s favorite languages are:\")\n",
    "    # Usamos un ciclo para iterar sobre todos los lenguajes favoritos de la\n",
    "    # persona ya que se almacenan en una lista\n",
    "    for language in langauges:\n",
    "        print(f'\\t{language.title()}')"
   ]
  }
 ],
 "metadata": {
  "kernelspec": {
   "display_name": "Python 3",
   "language": "python",
   "name": "python3"
  },
  "language_info": {
   "codemirror_mode": {
    "name": "ipython",
    "version": 3
   },
   "file_extension": ".py",
   "mimetype": "text/x-python",
   "name": "python",
   "nbconvert_exporter": "python",
   "pygments_lexer": "ipython3",
   "version": "3.13.2"
  }
 },
 "nbformat": 4,
 "nbformat_minor": 5
}
