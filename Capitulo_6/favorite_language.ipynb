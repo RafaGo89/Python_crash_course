{
 "cells": [
  {
   "cell_type": "code",
   "execution_count": null,
   "id": "0e175c5b",
   "metadata": {},
   "outputs": [
    {
     "name": "stdout",
     "output_type": "stream",
     "text": [
      "Sarah's  favorite programming language is C\n"
     ]
    }
   ],
   "source": [
    "# Creamos un diccionario con objetos o claves similares\n",
    "favorite_language = {\n",
    "    'jen': 'python',\n",
    "    'sarah': 'c',\n",
    "    'edward': 'rust',\n",
    "    'phil': 'python'\n",
    "}\n",
    "\n",
    "# Obtenemos el lenguaje favorito de Sarah y lo guardamos en una variable\n",
    "language = favorite_language['sarah'].title()\n",
    "# Imprimimos el valor obtenido\n",
    "print(f\"Sarah's  favorite programming language is {language}\")"
   ]
  },
  {
   "cell_type": "code",
   "execution_count": null,
   "id": "46dbbdc0",
   "metadata": {},
   "outputs": [
    {
     "name": "stdout",
     "output_type": "stream",
     "text": [
      "No point value assigned\n"
     ]
    }
   ],
   "source": [
    "alien_0 = {'color': 'green', 'speed': 'slow'}\n",
    "\n",
    "# Empleamos el método get para obtener un valor por medio de su clave, si\n",
    "# la clave no existe podemos asignar un valor a devolver\n",
    "point_value = alien_0.get('points', 'No point value assigned')\n",
    "print(point_value)"
   ]
  }
 ],
 "metadata": {
  "kernelspec": {
   "display_name": "Python 3",
   "language": "python",
   "name": "python3"
  },
  "language_info": {
   "codemirror_mode": {
    "name": "ipython",
    "version": 3
   },
   "file_extension": ".py",
   "mimetype": "text/x-python",
   "name": "python",
   "nbconvert_exporter": "python",
   "pygments_lexer": "ipython3",
   "version": "3.13.2"
  }
 },
 "nbformat": 4,
 "nbformat_minor": 5
}
