{
 "cells": [
  {
   "cell_type": "markdown",
   "id": "11031b4b",
   "metadata": {},
   "source": [
    "Escriba operaciones de suma, resta, multiplicación y\n",
    "división que den como resultado el número 8. Asegúrese de incluir sus\n",
    "operaciones en llamadas a print() para ver los resultados."
   ]
  },
  {
   "cell_type": "code",
   "execution_count": 3,
   "id": "ddd46b98",
   "metadata": {},
   "outputs": [
    {
     "name": "stdout",
     "output_type": "stream",
     "text": [
      "8\n",
      "8\n",
      "8.0\n",
      "8\n"
     ]
    }
   ],
   "source": [
    "print(4 + 4)\n",
    "print(10 - 2)\n",
    "print(8 / 1)\n",
    "print(2 * 4)"
   ]
  }
 ],
 "metadata": {
  "kernelspec": {
   "display_name": "Python 3",
   "language": "python",
   "name": "python3"
  },
  "language_info": {
   "codemirror_mode": {
    "name": "ipython",
    "version": 3
   },
   "file_extension": ".py",
   "mimetype": "text/x-python",
   "name": "python",
   "nbconvert_exporter": "python",
   "pygments_lexer": "ipython3",
   "version": "3.13.2"
  }
 },
 "nbformat": 4,
 "nbformat_minor": 5
}
