{
 "cells": [
  {
   "cell_type": "markdown",
   "id": "34ba9618",
   "metadata": {},
   "source": [
    "Use una variable para representar el nombre de\n",
    "una persona e imprima ese nombre en minúsculas, mayúsculas y con\n",
    "mayúscula inicial."
   ]
  },
  {
   "cell_type": "code",
   "execution_count": 2,
   "id": "9f61517c",
   "metadata": {},
   "outputs": [
    {
     "name": "stdout",
     "output_type": "stream",
     "text": [
      "thiare\n",
      "THIARE\n",
      "Thiare\n"
     ]
    }
   ],
   "source": [
    "nombre = 'Thiare'\n",
    "\n",
    "print(nombre.lower())\n",
    "print(nombre.upper())\n",
    "print(nombre.title())"
   ]
  }
 ],
 "metadata": {
  "kernelspec": {
   "display_name": "Python 3",
   "language": "python",
   "name": "python3"
  },
  "language_info": {
   "codemirror_mode": {
    "name": "ipython",
    "version": 3
   },
   "file_extension": ".py",
   "mimetype": "text/x-python",
   "name": "python",
   "nbconvert_exporter": "python",
   "pygments_lexer": "ipython3",
   "version": "3.13.2"
  }
 },
 "nbformat": 4,
 "nbformat_minor": 5
}
