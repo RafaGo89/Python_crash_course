{
 "cells": [
  {
   "cell_type": "markdown",
   "id": "c381a301",
   "metadata": {},
   "source": [
    "Python cuenta con el\n",
    "método removesuffix(), que funciona exactamente igual que el método removeprefix(). Asigne el valor 'python_notes.txt' a una variable llamada\n",
    "filename. A continuación, utilice el método removesuffix() para mostrar el\n",
    "nombre de archivo sin la extensión de archivo, como ocurre con algunos\n",
    "exploradores de archivo."
   ]
  },
  {
   "cell_type": "code",
   "execution_count": 1,
   "id": "e9ea6e71",
   "metadata": {},
   "outputs": [
    {
     "name": "stdout",
     "output_type": "stream",
     "text": [
      "pyhton_notes\n"
     ]
    }
   ],
   "source": [
    "filename = 'pyhton_notes.txt'\n",
    "\n",
    "print(filename.removesuffix('.txt'))"
   ]
  }
 ],
 "metadata": {
  "kernelspec": {
   "display_name": "Python 3",
   "language": "python",
   "name": "python3"
  },
  "language_info": {
   "codemirror_mode": {
    "name": "ipython",
    "version": 3
   },
   "file_extension": ".py",
   "mimetype": "text/x-python",
   "name": "python",
   "nbconvert_exporter": "python",
   "pygments_lexer": "ipython3",
   "version": "3.13.2"
  }
 },
 "nbformat": 4,
 "nbformat_minor": 5
}
