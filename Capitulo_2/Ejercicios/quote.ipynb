{
 "cells": [
  {
   "cell_type": "markdown",
   "id": "0896c277",
   "metadata": {},
   "source": [
    "Busque una cita de un personaje al que admire. Imprima\n",
    "la cita y el nombre del autor. La salida debería tener un aspecto similar a\n",
    "esto, incluidas las comillas:\n",
    "\n",
    "Albert Einstein once said, \"A person who never made a mistake never\n",
    "tried anything new.\""
   ]
  },
  {
   "cell_type": "code",
   "execution_count": 3,
   "id": "97f1ebb5",
   "metadata": {},
   "outputs": [
    {
     "name": "stdout",
     "output_type": "stream",
     "text": [
      "Julio César once said, \"No debemos tenerle miedo a nada: a lo único a lo que debemos temerle es al mismo miedo\"\n"
     ]
    }
   ],
   "source": [
    "cita = 'No debemos tenerle miedo a nada: a lo único a lo que debemos temerle es al mismo miedo'\n",
    "\n",
    "famous_person = 'Julio César'\n",
    "\n",
    "messagae  = (f'{famous_person} once said, \"{cita}\"')\n",
    "\n",
    "print(messagae)"
   ]
  }
 ],
 "metadata": {
  "kernelspec": {
   "display_name": "Python 3",
   "language": "python",
   "name": "python3"
  },
  "language_info": {
   "codemirror_mode": {
    "name": "ipython",
    "version": 3
   },
   "file_extension": ".py",
   "mimetype": "text/x-python",
   "name": "python",
   "nbconvert_exporter": "python",
   "pygments_lexer": "ipython3",
   "version": "3.13.2"
  }
 },
 "nbformat": 4,
 "nbformat_minor": 5
}
