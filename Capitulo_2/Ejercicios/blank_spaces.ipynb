{
 "cells": [
  {
   "cell_type": "markdown",
   "id": "f82d1151",
   "metadata": {},
   "source": [
    "Use una variable para representar\n",
    "el nombre de una persona e incluya algunos caracteres de espacio en blanco\n",
    "al principio y al final del nombre. Asegúrese de usar cada combinación de\n",
    "caracteres, \"\\t\" y \"\\n\", al menos una vez. Imprima el nombre una vez, de\n",
    "modo que se muestren los espacios de alrededor.\n",
    "\n",
    "A continuación, imprima el nombre usando cada una de las tres funciones\n",
    "que hemos visto: lstrip(), rstrip() y strip()."
   ]
  },
  {
   "cell_type": "code",
   "execution_count": 3,
   "id": "2ef7d7c2",
   "metadata": {},
   "outputs": [
    {
     "name": "stdout",
     "output_type": "stream",
     "text": [
      "\t\tThiare  \n",
      " \n",
      "Thiare  \n",
      " \n",
      "\t\tThiare\n",
      "Thiare\n"
     ]
    }
   ],
   "source": [
    "nombre = '\\t\\tThiare  \\n '\n",
    "\n",
    "print(nombre)\n",
    "\n",
    "print(nombre.lstrip())\n",
    "print(nombre.rstrip())\n",
    "print(nombre.strip())"
   ]
  }
 ],
 "metadata": {
  "kernelspec": {
   "display_name": "Python 3",
   "language": "python",
   "name": "python3"
  },
  "language_info": {
   "codemirror_mode": {
    "name": "ipython",
    "version": 3
   },
   "file_extension": ".py",
   "mimetype": "text/x-python",
   "name": "python",
   "nbconvert_exporter": "python",
   "pygments_lexer": "ipython3",
   "version": "3.13.2"
  }
 },
 "nbformat": 4,
 "nbformat_minor": 5
}
