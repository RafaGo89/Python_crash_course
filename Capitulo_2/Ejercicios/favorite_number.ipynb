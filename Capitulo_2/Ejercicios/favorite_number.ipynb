{
 "cells": [
  {
   "cell_type": "markdown",
   "id": "5afa8f44",
   "metadata": {},
   "source": [
    "Use una variable para representar su número\n",
    "favorito. A continuación, usando esa variable, cree el mensaje que revele su\n",
    "número favorito e imprímalo."
   ]
  },
  {
   "cell_type": "code",
   "execution_count": 2,
   "id": "2374a1d9",
   "metadata": {},
   "outputs": [
    {
     "name": "stdout",
     "output_type": "stream",
     "text": [
      "Mi número favorito es el 7\n"
     ]
    }
   ],
   "source": [
    "favorite_number = 7\n",
    "\n",
    "print(f'Mi número favorito es el {favorite_number}')"
   ]
  }
 ],
 "metadata": {
  "kernelspec": {
   "display_name": "Python 3",
   "language": "python",
   "name": "python3"
  },
  "language_info": {
   "codemirror_mode": {
    "name": "ipython",
    "version": 3
   },
   "file_extension": ".py",
   "mimetype": "text/x-python",
   "name": "python",
   "nbconvert_exporter": "python",
   "pygments_lexer": "ipython3",
   "version": "3.13.2"
  }
 },
 "nbformat": 4,
 "nbformat_minor": 5
}
