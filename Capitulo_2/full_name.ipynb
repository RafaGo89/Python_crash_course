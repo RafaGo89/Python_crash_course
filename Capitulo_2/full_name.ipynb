{
 "cells": [
  {
   "cell_type": "code",
   "execution_count": null,
   "id": "08495732",
   "metadata": {},
   "outputs": [
    {
     "name": "stdout",
     "output_type": "stream",
     "text": [
      "ada lovelace\n"
     ]
    }
   ],
   "source": [
    "# Uso de cadenas 'f' para unir 2 cadenas\n",
    "first_name = 'ada'\n",
    "\n",
    "last_name = 'lovelace'\n",
    "\n",
    "full_name = f'{first_name} {last_name}'\n",
    "\n",
    "print(full_name)"
   ]
  },
  {
   "cell_type": "code",
   "execution_count": null,
   "id": "3be5eb0c",
   "metadata": {},
   "outputs": [
    {
     "name": "stdout",
     "output_type": "stream",
     "text": [
      "Hello, Ada Lovelace!\n"
     ]
    }
   ],
   "source": [
    "# Usamos cadenas 'f' para formatear el resultado que imprimimos\n",
    "first_name = 'ada'\n",
    "\n",
    "last_name = 'lovelace'\n",
    "\n",
    "full_name = f'{first_name} {last_name}'\n",
    "\n",
    "print(f'Hello, {full_name.title()}!')"
   ]
  },
  {
   "cell_type": "code",
   "execution_count": null,
   "id": "d775e0b9",
   "metadata": {},
   "outputs": [
    {
     "name": "stdout",
     "output_type": "stream",
     "text": [
      "Hello, Ada Lovelace!\n"
     ]
    }
   ],
   "source": [
    "# Seguimos usando cadenas 'f' y asignamos la cadena formateada asignandola a una cadena\n",
    "# y mostramos el resultado\n",
    "first_name = 'ada'\n",
    "\n",
    "last_name = 'lovelace'\n",
    "\n",
    "full_name = f'{first_name} {last_name}'\n",
    "\n",
    "message = f'Hello, {full_name.title()}!'\n",
    "\n",
    "print(message)"
   ]
  }
 ],
 "metadata": {
  "kernelspec": {
   "display_name": "Python 3",
   "language": "python",
   "name": "python3"
  },
  "language_info": {
   "codemirror_mode": {
    "name": "ipython",
    "version": 3
   },
   "file_extension": ".py",
   "mimetype": "text/x-python",
   "name": "python",
   "nbconvert_exporter": "python",
   "pygments_lexer": "ipython3",
   "version": "3.13.2"
  }
 },
 "nbformat": 4,
 "nbformat_minor": 5
}
