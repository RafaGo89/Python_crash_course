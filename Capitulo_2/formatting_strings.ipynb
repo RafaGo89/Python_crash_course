{
 "cells": [
  {
   "cell_type": "code",
   "execution_count": 1,
   "id": "d9fb7c7c",
   "metadata": {},
   "outputs": [
    {
     "name": "stdout",
     "output_type": "stream",
     "text": [
      "Python\n",
      "\tPython\n"
     ]
    }
   ],
   "source": [
    "# Tabulaciones\n",
    "print('Python')\n",
    "\n",
    "print('\\tPython')"
   ]
  },
  {
   "cell_type": "code",
   "execution_count": 2,
   "id": "5091bc25",
   "metadata": {},
   "outputs": [
    {
     "name": "stdout",
     "output_type": "stream",
     "text": [
      "Languages:\n",
      "Python\n",
      "C\n",
      "JavaScript\n"
     ]
    }
   ],
   "source": [
    "# Salto de línea\n",
    "print('Languages:\\nPython\\nC\\nJavaScript')"
   ]
  },
  {
   "cell_type": "code",
   "execution_count": 3,
   "id": "21caaa0f",
   "metadata": {},
   "outputs": [
    {
     "name": "stdout",
     "output_type": "stream",
     "text": [
      "Languages:\n",
      "\tPython\n",
      "\tC\n",
      "\tJavaScript\n"
     ]
    }
   ],
   "source": [
    "# Combinación de tabulaciones y saltos de línea\n",
    "print('Languages:\\n\\tPython\\n\\tC\\n\\tJavaScript')"
   ]
  },
  {
   "cell_type": "code",
   "execution_count": 6,
   "id": "9cc70073",
   "metadata": {},
   "outputs": [
    {
     "name": "stdout",
     "output_type": "stream",
     "text": [
      "python \n",
      "python\n"
     ]
    }
   ],
   "source": [
    "# Eliminar espacios en blanco a la derecha de una cadena\n",
    "favorite_language = 'python '\n",
    "\n",
    "print(favorite_language)\n",
    "\n",
    "print(favorite_language.rstrip())"
   ]
  },
  {
   "cell_type": "code",
   "execution_count": 9,
   "id": "3e7388b1",
   "metadata": {},
   "outputs": [
    {
     "name": "stdout",
     "output_type": "stream",
     "text": [
      " python\n",
      "python\n"
     ]
    }
   ],
   "source": [
    "# Eliminar espacios en blanco a la izquierda de una cadena\n",
    "favorite_language = ' python'\n",
    "\n",
    "print(favorite_language)\n",
    "\n",
    "print(favorite_language.lstrip())"
   ]
  },
  {
   "cell_type": "code",
   "execution_count": 10,
   "id": "3eb701a0",
   "metadata": {},
   "outputs": [
    {
     "name": "stdout",
     "output_type": "stream",
     "text": [
      " python \n",
      "python\n"
     ]
    }
   ],
   "source": [
    "# Eliminar espacios en blanco a ambos lados de una cadena\n",
    "favorite_language = ' python '\n",
    "\n",
    "print(favorite_language)\n",
    "\n",
    "print(favorite_language.strip())"
   ]
  },
  {
   "cell_type": "code",
   "execution_count": 13,
   "id": "c3a6bab9",
   "metadata": {},
   "outputs": [
    {
     "name": "stdout",
     "output_type": "stream",
     "text": [
      "nostarch.com\n"
     ]
    }
   ],
   "source": [
    "# Eliminar un prefijo de una cadena\n",
    "url = 'https://nostarch.com'\n",
    "\n",
    "print(url.removeprefix('https://'))"
   ]
  }
 ],
 "metadata": {
  "kernelspec": {
   "display_name": "Python 3",
   "language": "python",
   "name": "python3"
  },
  "language_info": {
   "codemirror_mode": {
    "name": "ipython",
    "version": 3
   },
   "file_extension": ".py",
   "mimetype": "text/x-python",
   "name": "python",
   "nbconvert_exporter": "python",
   "pygments_lexer": "ipython3",
   "version": "3.13.2"
  }
 },
 "nbformat": 4,
 "nbformat_minor": 5
}
