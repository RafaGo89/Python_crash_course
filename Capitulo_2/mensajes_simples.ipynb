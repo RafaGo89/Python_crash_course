{
 "cells": [
  {
   "cell_type": "code",
   "execution_count": 2,
   "id": "2e08349f",
   "metadata": {},
   "outputs": [
    {
     "name": "stdout",
     "output_type": "stream",
     "text": [
      "¿Qué tranza\n",
      "Me siento contento\n"
     ]
    }
   ],
   "source": [
    "#Ponemos un mensaje a una variable\n",
    "mensaje = '¿Qué tranza'\n",
    "print(mensaje)\n",
    "\n",
    "mensaje = 'Me siento contento'\n",
    "print(mensaje)"
   ]
  }
 ],
 "metadata": {
  "kernelspec": {
   "display_name": "Python 3",
   "language": "python",
   "name": "python3"
  },
  "language_info": {
   "codemirror_mode": {
    "name": "ipython",
    "version": 3
   },
   "file_extension": ".py",
   "mimetype": "text/x-python",
   "name": "python",
   "nbconvert_exporter": "python",
   "pygments_lexer": "ipython3",
   "version": "3.13.2"
  }
 },
 "nbformat": 4,
 "nbformat_minor": 5
}
